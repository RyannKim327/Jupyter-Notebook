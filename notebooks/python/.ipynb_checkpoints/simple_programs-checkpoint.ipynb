{
 "cells": [
  {
   "cell_type": "code",
   "execution_count": null,
   "metadata": {},
   "outputs": [],
   "source": [
    "# Right Triangle\n",
    "for i in range(1, 6):\n",
    "\tfor j in range(1, i):\n",
    "\t\tprint(\"*\", end=\"\")\n",
    "\tprint()"
   ]
  },
  {
   "cell_type": "code",
   "execution_count": null,
   "metadata": {},
   "outputs": [],
   "source": [
    "# Pyramid\n",
    "for i in range(10):\n",
    "\tfor j in range(10 - i):\n",
    "\t\tprint(\" \", end=\"\")\n",
    "\tfor j in range(i):\n",
    "\t\tprint(\"* \", end=\"\")\n",
    "\tprint()"
   ]
  },
  {
   "cell_type": "code",
   "execution_count": null,
   "metadata": {},
   "outputs": [],
   "source": [
    "# Right triangle reverse\n",
    "\n",
    "for i in range(10, 0, -1):\n",
    "\tfor j in range(i):\n",
    "\t\tprint(\"* \", end=\"\")\n",
    "\tprint()"
   ]
  },
  {
   "cell_type": "code",
   "execution_count": 20,
   "metadata": {},
   "outputs": [
    {
     "name": "stdout",
     "output_type": "stream",
     "text": [
      "[3, 4, 4, 6, 6, 8]\n"
     ]
    }
   ],
   "source": [
    "# Bubble sort with input and try except\n",
    "lists = []\n",
    "number = input(\"Enter a number: \")\n",
    "while len(lists) < 5 or number != \"\":\n",
    "\ttry:\n",
    "\t\tnum = int(number)\n",
    "\t\tlists.append(num)\n",
    "\t\tnumber = input(\"Enter a number: \")\n",
    "\texcept:\n",
    "\t\tnumber = input(\"Please enter a valid number: \")\n",
    "\n",
    "for i in range(len(lists)):\n",
    "\tfor j in range(i):\n",
    "\t\tif lists[i] < lists[j]:\n",
    "\t\t\tlists[i], lists[j] = lists[j], lists[i]\n",
    "\n",
    "print(lists)"
   ]
  },
  {
   "cell_type": "code",
   "execution_count": 2,
   "metadata": {},
   "outputs": [
    {
     "name": "stdout",
     "output_type": "stream",
     "text": [
      "[0, 1, 1, 2, 3, 5, 8, 13, 21, 34]\n"
     ]
    }
   ],
   "source": [
    "# Fibbonacci\n",
    "\n",
    "lists = [0, 1]\n",
    "number = int(input(\"Enter a number from 3 onwards: \"))\n",
    "\n",
    "for i in range(len(lists), number):\n",
    "\tlast_a = lists[i - 2]\n",
    "\tlast_b = lists[i - 1]\n",
    "\tresult = last_a + last_b\n",
    "\tlists.append(result)\n",
    "\n",
    "print(lists)"
   ]
  },
  {
   "cell_type": "code",
   "execution_count": null,
   "metadata": {},
   "outputs": [],
   "source": [
    "# st, nd, rd, th\n",
    "\n"
   ]
  }
 ],
 "metadata": {
  "kernelspec": {
   "display_name": "Python 3 (ipykernel)",
   "language": "python",
   "name": "python3"
  },
  "language_info": {
   "codemirror_mode": {
    "name": "ipython",
    "version": 3
   },
   "file_extension": ".py",
   "mimetype": "text/x-python",
   "name": "python",
   "nbconvert_exporter": "python",
   "pygments_lexer": "ipython3",
   "version": "3.11.0"
  },
  "vscode": {
   "interpreter": {
    "hash": "5ffd7eb2cebf9ac436b5021ba01877e9cee6b03524e01bf8c8637d3e64111215"
   }
  }
 },
 "nbformat": 4,
 "nbformat_minor": 2
}
