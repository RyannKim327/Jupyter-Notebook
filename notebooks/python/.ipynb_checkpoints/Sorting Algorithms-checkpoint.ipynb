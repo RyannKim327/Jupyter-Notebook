{
 "cells": [
  {
   "cell_type": "markdown",
   "id": "9f38d70e",
   "metadata": {},
   "source": [
    "### Sorting Algorithms\n",
    "---\n",
    "> I don't own the idea, the flow and the codes for this notebook, but only to share the codes and the flow of it."
   ]
  },
  {
   "cell_type": "code",
   "execution_count": 1,
   "id": "4c4a7242",
   "metadata": {},
   "outputs": [
    {
     "name": "stdout",
     "output_type": "stream",
     "text": [
      "[5, 4, 3, 2, 1]\n",
      "[1, 2, 3, 4, 5]\n"
     ]
    }
   ],
   "source": [
    "# Bubble Sort\n",
    "ints = [5, 4, 3, 2, 1]\n",
    "\n",
    "print(ints)\n",
    "\n",
    "for i in range(len(ints)):\n",
    "    for j in range(i):\n",
    "        if ints[i] < ints[j]:\n",
    "            ints[i], ints[j] = ints[j], ints[i]\n",
    "\n",
    "print(ints)"
   ]
  },
  {
   "cell_type": "code",
   "execution_count": 17,
   "id": "ca08c2ed",
   "metadata": {},
   "outputs": [
    {
     "name": "stdout",
     "output_type": "stream",
     "text": [
      "[5, 4, 3, 2, 1]\n",
      "[1, 2, 3, 4, 5]\n"
     ]
    }
   ],
   "source": [
    "# Selection Sort\n",
    "ints = [5, 4, 3, 2, 1]\n",
    "\n",
    "print(ints)\n",
    "\n",
    "for i in range(len(ints)):\n",
    "    small = i\n",
    "    for j in range(i + 1, len(ints)):\n",
    "        if ints[small] > ints[j]:\n",
    "            small = j\n",
    "    ints[small], ints[i] = ints[i], ints[small]\n",
    "\n",
    "print(ints)"
   ]
  },
  {
   "cell_type": "code",
   "execution_count": 19,
   "id": "fde66d50",
   "metadata": {},
   "outputs": [
    {
     "name": "stdout",
     "output_type": "stream",
     "text": [
      "[5, 4, 3, 2, 1]\n",
      "[1, 2, 3, 4, 5]\n"
     ]
    }
   ],
   "source": [
    "# Insertion Sort\n",
    "ints = [5, 4, 3, 2, 1]\n",
    "\n",
    "print(ints)\n",
    "\n",
    "for i in range(1, len(ints)):\n",
    "    k = ints[i]\n",
    "    j = i - 1\n",
    "    \n",
    "    while j >= 0 and k < ints[j]:\n",
    "        ints[j + 1] = ints[j]\n",
    "        j = j - 1\n",
    "    \n",
    "    ints[j + 1] = k\n",
    "\n",
    "print(ints)"
   ]
  },
  {
   "cell_type": "code",
   "execution_count": 21,
   "id": "b01325a6",
   "metadata": {},
   "outputs": [
    {
     "name": "stdout",
     "output_type": "stream",
     "text": [
      "[5, 4, 3, 2, 1]\n",
      "[1, 2, 3, 4, 5]\n"
     ]
    }
   ],
   "source": [
    "# Shell Sorting\n",
    "ints = [5, 4, 3, 2, 1]\n",
    "\n",
    "print(ints)\n",
    "\n",
    "interval = len(ints) // 2\n",
    "while interval > 0:\n",
    "    for i in range(interval, len(ints)):\n",
    "        temp = ints[i]\n",
    "        j = i\n",
    "        while j >= interval and ints[j - interval] > temp:\n",
    "            ints[j] = ints[j - interval]\n",
    "            j -= interval\n",
    "        ints[j] = temp\n",
    "    interval //= 2\n",
    "\n",
    "print(ints)"
   ]
  },
  {
   "cell_type": "code",
   "execution_count": null,
   "id": "0da0882c",
   "metadata": {},
   "outputs": [],
   "source": []
  }
 ],
 "metadata": {
  "kernelspec": {
   "display_name": "Python 3 (ipykernel)",
   "language": "python",
   "name": "python3"
  },
  "language_info": {
   "codemirror_mode": {
    "name": "ipython",
    "version": 3
   },
   "file_extension": ".py",
   "mimetype": "text/x-python",
   "name": "python",
   "nbconvert_exporter": "python",
   "pygments_lexer": "ipython3",
   "version": "3.11.0"
  }
 },
 "nbformat": 4,
 "nbformat_minor": 5
}
