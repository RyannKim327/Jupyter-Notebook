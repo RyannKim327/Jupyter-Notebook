{
 "cells": [
  {
   "cell_type": "code",
   "execution_count": null,
   "id": "0ce2d222",
   "metadata": {
    "scrolled": true
   },
   "outputs": [],
   "source": [
    "# Sample Print\n",
    "print(\"hello world!\")\n",
    "\n",
    "# Using separator (default = \" \")\n",
    "print(\"Hello\", \"World\", sep=\"\\n\")\n",
    "\n",
    "# Using end\n",
    "print(\"Hello my\", end=\" \")\n",
    "print(\"World\")"
   ]
  },
  {
   "cell_type": "code",
   "execution_count": null,
   "id": "26737dfc",
   "metadata": {},
   "outputs": [],
   "source": [
    "# Using inputs\n",
    "name = input(\"Enter your name: \")\n",
    "print(\"Hello\", name, \"how are you today?\")"
   ]
  },
  {
   "cell_type": "code",
   "execution_count": null,
   "id": "b2c89b73",
   "metadata": {},
   "outputs": [],
   "source": [
    "# Converting String into a datatype (int sample)\n",
    "number = int(input(\"Enter a number: \"))\n",
    "print(type(number)) # Result is the datatype you used"
   ]
  },
  {
   "cell_type": "code",
   "execution_count": null,
   "id": "48824651",
   "metadata": {},
   "outputs": [],
   "source": [
    "# Condition\n",
    "name = input(\"Enter your name: \")\n",
    "if name == \"\":\n",
    "    # if there is no data inserted\n",
    "    print(\"Sorry I don't know you\")\n",
    "else:\n",
    "    print(\"Hello\", name)"
   ]
  },
  {
   "cell_type": "code",
   "execution_count": null,
   "id": "d353bec7",
   "metadata": {},
   "outputs": [],
   "source": [
    "# Condition with elif (else if)\n",
    "# Condition\n",
    "name = input(\"Enter your name: \")\n",
    "if name == \"\":\n",
    "    # if there is no data inserted\n",
    "    print(\"Sorry I don't know you\")\n",
    "elif name == \"kim\":\n",
    "    print(\"Oh, its you\")\n",
    "else:\n",
    "    print(\"Hello\", name)"
   ]
  },
  {
   "cell_type": "code",
   "execution_count": null,
   "id": "82dca6ee",
   "metadata": {},
   "outputs": [],
   "source": [
    "# Loop (for)\n",
    "# Single parameter range\n",
    "print(\"Print 0 to 9\")\n",
    "for i in range(10):\n",
    "    # This will loop from 0 to 9\n",
    "    print(i, end=\" \")\n",
    "\n",
    "print(\"Print 1 to 9\")\n",
    "# Range with start and end\n",
    "for i in range(1, 10):\n",
    "    # This will loop from 1 to 9\n",
    "    print(i, end=\" \")\n",
    "\n",
    "print(\"Print odd numbers\")\n",
    "# Range with steps\n",
    "for i in range(1, 10, 2):\n",
    "    # Print all odd numbers\n",
    "    print(i, end=\" \")"
   ]
  },
  {
   "cell_type": "code",
   "execution_count": null,
   "id": "fa10f29d",
   "metadata": {},
   "outputs": [],
   "source": [
    "# Loop (While)\n",
    "i = 1\n",
    "while i <= 10:\n",
    "    # Print 1 to 10\n",
    "    print(i, end=\" \")\n",
    "    # to increment\n",
    "    i += 1"
   ]
  },
  {
   "cell_type": "code",
   "execution_count": null,
   "id": "0e435bca",
   "metadata": {},
   "outputs": [],
   "source": [
    "# Use break with while loop\n",
    "\n",
    "while True:\n",
    "    a = input(\"Enter a text or a blank: \")\n",
    "    if a == \"\":\n",
    "        break\n",
    "    print(a)"
   ]
  },
  {
   "cell_type": "code",
   "execution_count": null,
   "id": "0412e52d",
   "metadata": {},
   "outputs": [],
   "source": [
    "# Use of function\n",
    "\n",
    "def f(x):\n",
    "    return x ** 2\n",
    "\n",
    "def show(str):\n",
    "    print(str)\n",
    "\n",
    "a = f(10)\n",
    "show(a)"
   ]
  },
  {
   "cell_type": "code",
   "execution_count": null,
   "id": "2c3784b5",
   "metadata": {},
   "outputs": [],
   "source": [
    "# Use of Arrays\n",
    "lists = []\n",
    "a = input(\"Enter a number: \")\n",
    "while a != \"\":\n",
    "    num = int(a)\n",
    "    if not num in lists:\n",
    "        lists.append(num)\n",
    "    a = input(\"Enter a number: \")\n",
    "\n",
    "print(lists)"
   ]
  },
  {
   "cell_type": "code",
   "execution_count": null,
   "id": "3c60bb5b",
   "metadata": {},
   "outputs": [],
   "source": [
    "# Use of dictionary\n",
    "dict = {\n",
    "    \"key\": \"value\",\n",
    "    \"name\": \"Ryann Kim Sesgundo\"\n",
    "}\n",
    "\n",
    "print(dict['name'])"
   ]
  },
  {
   "cell_type": "code",
   "execution_count": null,
   "id": "0b3d812e",
   "metadata": {},
   "outputs": [],
   "source": [
    "# Use of try except (try catch)\n",
    "# Error handling\n",
    "\n",
    "def enter():\n",
    "\tisNum = True\n",
    "\tval = -1\n",
    "\twhile(isNum):\n",
    "\t\tnumber = input(\"Enter a number: \")\n",
    "\t\ttry:\n",
    "\t\t\tisNum = False\n",
    "\t\t\tval = int(number)\n",
    "\t\texcept:\n",
    "\t\t\tisNum = True\n",
    "\treturn val\n",
    "\n",
    "num = enter()\n",
    "print(type(num))"
   ]
  },
  {
   "cell_type": "code",
   "execution_count": null,
   "id": "fa9d6dc3",
   "metadata": {},
   "outputs": [],
   "source": [
    "# Introduction to Object Oriented Programming\n",
    "\n",
    "class room:\n",
    "\tdef __init__(self):\n",
    "\t\tself.name = \"Mr.RySes\"\n",
    "\t\n",
    "\tdef getName(self):\n",
    "\t\treturn self.name\n",
    "\t\n",
    "\tdef setName(self, name):\n",
    "\t\tself.name = name\n",
    "\n",
    "room1 = room()\n",
    "print(room1.getName())\n",
    "room1.setName(\"RyannKim327\")\n",
    "print(room1.getName())"
   ]
  },
  {
   "cell_type": "code",
   "execution_count": null,
   "id": "d602917d",
   "metadata": {},
   "outputs": [],
   "source": [
    "# Webscraping using BeaautifulSoup and requests\n",
    "# using of lxml has an error that requires parser\n",
    "# Thst's why I use html.parser\n",
    "from bs4 import BeautifulSoup as Soup\n",
    "import requests as req\n",
    "\n",
    "def website():\n",
    "\turl = req.get(\"https://sulatbaybayin.coolpage.biz\").text\n",
    "\tsoup = Soup(url, \"html.parser\")\n",
    "\tty = soup.find(\"fieldset\", id=\"ty\")\n",
    "\tprint(ty.text)\n",
    "\n",
    "website()"
   ]
  },
  {
   "cell_type": "code",
   "execution_count": null,
   "id": "2ff298ec",
   "metadata": {},
   "outputs": [],
   "source": [
    "# Using API Requests with requests and json\n",
    "import requests as req\n",
    "import json\n",
    "\n",
    "def fetch():\n",
    "\turl = req.get(\"https://19n0r3.mpoprevii.repl.co/lists\").text\n",
    "\t_json = json.loads(url)\n",
    "\treturn _json\n",
    "\n",
    "data = fetch()\n",
    "list = data['poems']\n",
    "for i in list:\n",
    "\tprint(f\"Title: {i['title']}\\n{i['content']}\")"
   ]
  }
 ],
 "metadata": {
  "kernelspec": {
   "display_name": "Python 3.11.0 64-bit",
   "language": "python",
   "name": "python3"
  },
  "language_info": {
   "codemirror_mode": {
    "name": "ipython",
    "version": 3
   },
   "file_extension": ".py",
   "mimetype": "text/x-python",
   "name": "python",
   "nbconvert_exporter": "python",
   "pygments_lexer": "ipython3",
   "version": "3.11.0"
  },
  "vscode": {
   "interpreter": {
    "hash": "5ffd7eb2cebf9ac436b5021ba01877e9cee6b03524e01bf8c8637d3e64111215"
   }
  }
 },
 "nbformat": 4,
 "nbformat_minor": 5
}
