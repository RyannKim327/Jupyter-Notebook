{
 "cells": [
  {
   "cell_type": "code",
   "execution_count": 12,
   "id": "890e4150-b250-420a-baf4-1d5c16c764e4",
   "metadata": {},
   "outputs": [],
   "source": [
    "import networkx\n",
    "import matplotlib.pyplot as plt"
   ]
  },
  {
   "cell_type": "code",
   "execution_count": null,
   "id": "2ed6c723-288c-45f5-a3b0-73a9c09eefe8",
   "metadata": {},
   "outputs": [],
   "source": [
    "G = networkx.Graph()\n",
    "\n",
    "G.add_nodes_from(['A', 'B', 'C', 'D', 'E'])\n",
    "G.add_edge('A', 'B', weight=1)\n",
    "G.add_edge('A', 'C', weight=2)\n",
    "G.add_edge('C', 'D', weight=3)\n",
    "G.add_edge('D', 'E', weight=4)\n",
    "G.add_edge('E', 'A', weight=5)\n",
    "\n",
    "pos = networkx.spring_layout(G)\n",
    "labels = networkx.get_edge_attributes(G, 'weight')\n",
    "\n",
    "networkx.draw(G, pos, with_labels=True, node_color='red', edge_color='blue', font_size=12, font_color='black', font_weight='bold')\n",
    "networkx.draw_networkx_edge_labels(G, pos, labels)\n",
    "\n",
    "plt.show()"
   ]
  },
  {
   "cell_type": "code",
   "execution_count": 54,
   "id": "2e9ea6f9-9068-4d02-8c11-3cd6d28064e8",
   "metadata": {},
   "outputs": [
    {
     "data": {
      "text/plain": [
       "{'A': 0.75, 'B': 0.25, 'C': 0.5, 'D': 0.5, 'E': 0.5}"
      ]
     },
     "execution_count": 54,
     "metadata": {},
     "output_type": "execute_result"
    }
   ],
   "source": [
    "networkx.degree_centrality(G)"
   ]
  },
  {
   "cell_type": "code",
   "execution_count": 53,
   "id": "64c0e416-4e4f-4af1-bac7-3371641e7ac9",
   "metadata": {},
   "outputs": [
    {
     "data": {
      "text/plain": [
       "3"
      ]
     },
     "execution_count": 53,
     "metadata": {},
     "output_type": "execute_result"
    }
   ],
   "source": [
    "networkx.shortest_path(G, 'B', 'D', weight=1)\n",
    "networkx.shortest_path_length(G, 'B', 'D', weight=1)\n"
   ]
  }
 ],
 "metadata": {
  "kernelspec": {
   "display_name": "Python 3 (ipykernel)",
   "language": "python",
   "name": "python3"
  },
  "language_info": {
   "codemirror_mode": {
    "name": "ipython",
    "version": 3
   },
   "file_extension": ".py",
   "mimetype": "text/x-python",
   "name": "python",
   "nbconvert_exporter": "python",
   "pygments_lexer": "ipython3",
   "version": "3.10.12"
  }
 },
 "nbformat": 4,
 "nbformat_minor": 5
}
