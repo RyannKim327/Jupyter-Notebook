{
 "cells": [
  {
   "cell_type": "code",
   "execution_count": 12,
   "id": "890e4150-b250-420a-baf4-1d5c16c764e4",
   "metadata": {},
   "outputs": [],
   "source": [
    "import networkx\n",
    "import matplotlib.pyplot as plt"
   ]
  },
  {
   "cell_type": "code",
   "execution_count": 59,
   "id": "2ed6c723-288c-45f5-a3b0-73a9c09eefe8",
   "metadata": {},
   "outputs": [
    {
     "ename": "NetworkXError",
     "evalue": "Edge tuple {'weight': 10} must be a 2-tuple or 3-tuple.",
     "output_type": "error",
     "traceback": [
      "\u001b[0;31m---------------------------------------------------------------------------\u001b[0m",
      "\u001b[0;31mNetworkXError\u001b[0m                             Traceback (most recent call last)",
      "Cell \u001b[0;32mIn[59], line 4\u001b[0m\n\u001b[1;32m      1\u001b[0m G \u001b[38;5;241m=\u001b[39m networkx\u001b[38;5;241m.\u001b[39mGraph()\n\u001b[1;32m      3\u001b[0m G\u001b[38;5;241m.\u001b[39madd_nodes_from([\u001b[38;5;124m'\u001b[39m\u001b[38;5;124mA\u001b[39m\u001b[38;5;124m'\u001b[39m, \u001b[38;5;124m'\u001b[39m\u001b[38;5;124mB\u001b[39m\u001b[38;5;124m'\u001b[39m, \u001b[38;5;124m'\u001b[39m\u001b[38;5;124mC\u001b[39m\u001b[38;5;124m'\u001b[39m, \u001b[38;5;124m'\u001b[39m\u001b[38;5;124mD\u001b[39m\u001b[38;5;124m'\u001b[39m, \u001b[38;5;124m'\u001b[39m\u001b[38;5;124mE\u001b[39m\u001b[38;5;124m'\u001b[39m])\n\u001b[0;32m----> 4\u001b[0m \u001b[43mG\u001b[49m\u001b[38;5;241;43m.\u001b[39;49m\u001b[43madd_edges_from\u001b[49m\u001b[43m(\u001b[49m\u001b[43m(\u001b[49m\u001b[43m(\u001b[49m\u001b[38;5;124;43m'\u001b[39;49m\u001b[38;5;124;43mA\u001b[39;49m\u001b[38;5;124;43m'\u001b[39;49m\u001b[43m,\u001b[49m\u001b[43m \u001b[49m\u001b[38;5;124;43m'\u001b[39;49m\u001b[38;5;124;43mB\u001b[39;49m\u001b[38;5;124;43m'\u001b[39;49m\u001b[43m)\u001b[49m\u001b[43m,\u001b[49m\u001b[43m \u001b[49m\u001b[43m{\u001b[49m\u001b[38;5;124;43m\"\u001b[39;49m\u001b[38;5;124;43mweight\u001b[39;49m\u001b[38;5;124;43m\"\u001b[39;49m\u001b[43m:\u001b[49m\u001b[43m \u001b[49m\u001b[38;5;241;43m10\u001b[39;49m\u001b[43m}\u001b[49m\u001b[43m)\u001b[49m\u001b[43m)\u001b[49m\n\u001b[1;32m      5\u001b[0m \u001b[38;5;66;03m# G.add_edge('A', 'B', weight=1)\u001b[39;00m\n\u001b[1;32m      6\u001b[0m \u001b[38;5;66;03m# G.add_edge('A', 'C', weight=2)\u001b[39;00m\n\u001b[1;32m      7\u001b[0m \u001b[38;5;66;03m# G.add_edge('C', 'D', weight=3)\u001b[39;00m\n\u001b[1;32m      8\u001b[0m \u001b[38;5;66;03m# G.add_edge('D', 'E', weight=4)\u001b[39;00m\n\u001b[1;32m      9\u001b[0m \u001b[38;5;66;03m# G.add_edge('E', 'A', weight=5)\u001b[39;00m\n\u001b[1;32m     11\u001b[0m pos \u001b[38;5;241m=\u001b[39m networkx\u001b[38;5;241m.\u001b[39mspring_layout(G)\n",
      "File \u001b[0;32m~/.local/lib/python3.10/site-packages/networkx/classes/graph.py:1024\u001b[0m, in \u001b[0;36mGraph.add_edges_from\u001b[0;34m(self, ebunch_to_add, **attr)\u001b[0m\n\u001b[1;32m   1022\u001b[0m     dd \u001b[38;5;241m=\u001b[39m {}  \u001b[38;5;66;03m# doesn't need edge_attr_dict_factory\u001b[39;00m\n\u001b[1;32m   1023\u001b[0m \u001b[38;5;28;01melse\u001b[39;00m:\n\u001b[0;32m-> 1024\u001b[0m     \u001b[38;5;28;01mraise\u001b[39;00m NetworkXError(\u001b[38;5;124mf\u001b[39m\u001b[38;5;124m\"\u001b[39m\u001b[38;5;124mEdge tuple \u001b[39m\u001b[38;5;132;01m{\u001b[39;00me\u001b[38;5;132;01m}\u001b[39;00m\u001b[38;5;124m must be a 2-tuple or 3-tuple.\u001b[39m\u001b[38;5;124m\"\u001b[39m)\n\u001b[1;32m   1025\u001b[0m \u001b[38;5;28;01mif\u001b[39;00m u \u001b[38;5;129;01mnot\u001b[39;00m \u001b[38;5;129;01min\u001b[39;00m \u001b[38;5;28mself\u001b[39m\u001b[38;5;241m.\u001b[39m_node:\n\u001b[1;32m   1026\u001b[0m     \u001b[38;5;28;01mif\u001b[39;00m u \u001b[38;5;129;01mis\u001b[39;00m \u001b[38;5;28;01mNone\u001b[39;00m:\n",
      "\u001b[0;31mNetworkXError\u001b[0m: Edge tuple {'weight': 10} must be a 2-tuple or 3-tuple."
     ]
    }
   ],
   "source": [
    "G = networkx.Graph()\n",
    "\n",
    "G.add_nodes_from(['A', 'B', 'C', 'D', 'E'])\n",
    "G.add_edge('A', 'B', weight=1)\n",
    "G.add_edge('A', 'C', weight=2)\n",
    "G.add_edge('C', 'D', weight=3)\n",
    "G.add_edge('D', 'E', weight=4)\n",
    "G.add_edge('E', 'A', weight=5)\n",
    "\n",
    "pos = networkx.spring_layout(G)\n",
    "labels = networkx.get_edge_attributes(G, 'weight')\n",
    "\n",
    "networkx.draw(G, pos, with_labels=True, node_color='red', edge_color='blue', font_size=12, font_color='black', font_weight='bold')\n",
    "networkx.draw_networkx_edge_labels(G, pos, labels)\n",
    "\n",
    "plt.show()"
   ]
  },
  {
   "cell_type": "code",
   "execution_count": 54,
   "id": "2e9ea6f9-9068-4d02-8c11-3cd6d28064e8",
   "metadata": {},
   "outputs": [
    {
     "data": {
      "text/plain": [
       "{'A': 0.75, 'B': 0.25, 'C': 0.5, 'D': 0.5, 'E': 0.5}"
      ]
     },
     "execution_count": 54,
     "metadata": {},
     "output_type": "execute_result"
    }
   ],
   "source": [
    "networkx.degree_centrality(G)"
   ]
  },
  {
   "cell_type": "code",
   "execution_count": 53,
   "id": "64c0e416-4e4f-4af1-bac7-3371641e7ac9",
   "metadata": {},
   "outputs": [
    {
     "data": {
      "text/plain": [
       "3"
      ]
     },
     "execution_count": 53,
     "metadata": {},
     "output_type": "execute_result"
    }
   ],
   "source": [
    "networkx.shortest_path(G, 'B', 'D', weight=1)\n",
    "networkx.shortest_path_length(G, 'B', 'D', weight=1)\n"
   ]
  }
 ],
 "metadata": {
  "kernelspec": {
   "display_name": "Python 3 (ipykernel)",
   "language": "python",
   "name": "python3"
  },
  "language_info": {
   "codemirror_mode": {
    "name": "ipython",
    "version": 3
   },
   "file_extension": ".py",
   "mimetype": "text/x-python",
   "name": "python",
   "nbconvert_exporter": "python",
   "pygments_lexer": "ipython3",
   "version": "3.10.12"
  }
 },
 "nbformat": 4,
 "nbformat_minor": 5
}
