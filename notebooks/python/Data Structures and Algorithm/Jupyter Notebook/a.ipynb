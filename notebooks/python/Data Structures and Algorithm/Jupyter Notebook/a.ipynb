{
 "cells": [
  {
   "cell_type": "markdown",
   "metadata": {},
   "source": [
    "# Header1\n",
    "## Header2\n",
    "### Header3\n",
    "#### Header4\n",
    "##### Header5\n",
    "###### Header6\n",
    "\n",
    "*italic*\n",
    "\n",
    "**bold**\n",
    "\n",
    "_italic_\n",
    "\n",
    "__bold__\n",
    "\n",
    "~Striketrhough~\n",
    "\n",
    "`mark`\n",
    "\n",
    "``` Language\n",
    "CODE\n",
    "```\n",
    "\n",
    "> Blockquote"
   ]
  }
 ],
 "metadata": {
  "kernelspec": {
   "display_name": "Python 3 (ipykernel)",
   "language": "python",
   "name": "python3"
  },
  "language_info": {
   "codemirror_mode": {
    "name": "ipython",
    "version": 3
   },
   "file_extension": ".py",
   "mimetype": "text/x-python",
   "name": "python",
   "nbconvert_exporter": "python",
   "pygments_lexer": "ipython3",
   "version": "3.12.0"
  }
 },
 "nbformat": 4,
 "nbformat_minor": 4
}
