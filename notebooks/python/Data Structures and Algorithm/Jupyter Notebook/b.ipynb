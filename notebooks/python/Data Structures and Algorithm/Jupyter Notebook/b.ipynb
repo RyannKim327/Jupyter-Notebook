{
 "cells": [
  {
   "cell_type": "code",
   "execution_count": 1,
   "metadata": {},
   "outputs": [],
   "source": [
    "# Data\n",
    "students_data = [\n",
    "\t[\"Alice\", [85, 90, 92], [\"Math\", \"English\", \"Science\"]],\n",
    "\t[\"Bob\", [78, 88, 80], [\"Math\", \"English\", \"Science\"]],\n",
    "\t[\"Charlie\", [92, 94, 89], [\"Math\", \"English\", \"Science\"]],\n",
    "\t[\"David\", [80, 85, 88], [\"Math\", \"English\", \"Science\"]],\n",
    "]"
   ]
  },
  {
   "cell_type": "code",
   "execution_count": 2,
   "metadata": {},
   "outputs": [],
   "source": [
    "# Sorting Function\n",
    "def getStudents(arr: list):\n",
    "\n",
    "\t# Traversal\n",
    "\tfor i in arr:\n",
    "\t\tave = 0\n",
    "\t\tfor j in i[1]:\n",
    "\t\t\tave += j\n",
    "\t\tave /= len(i[1])\n",
    "\t\tave *= 100\n",
    "\t\tave //= 1\n",
    "\t\tave /= 100\n",
    "\t\tif(len(i) < 4):\n",
    "\t\t\ti.append(ave)\n",
    "\t\telse:\n",
    "\t\t\ti[3] = ave\n",
    "\n",
    "\treturn arr"
   ]
  },
  {
   "cell_type": "code",
   "execution_count": 3,
   "metadata": {},
   "outputs": [],
   "source": [
    "# Sort [Bubble Sort]\n",
    "def sorting(arr):\n",
    "\tfor i in range(len(arr)):\n",
    "\t\tfor j in range(len(arr)):\n",
    "\t\t\tif arr[i][-1] < arr[j][-1]:\n",
    "\t\t\t\tarr[i], arr[j] = arr[j], arr[i]\n",
    "\treturn arr"
   ]
  },
  {
   "cell_type": "code",
   "execution_count": 4,
   "metadata": {},
   "outputs": [
    {
     "data": {
      "text/plain": [
       "[['Alice', [85, 90, 92], ['Math', 'English', 'Science'], 89.0],\n",
       " ['Bob', [78, 88, 80], ['Math', 'English', 'Science'], 82.0],\n",
       " ['Charlie', [92, 94, 89], ['Math', 'English', 'Science'], 91.66],\n",
       " ['David', [80, 85, 88], ['Math', 'English', 'Science'], 84.33]]"
      ]
     },
     "execution_count": 4,
     "metadata": {},
     "output_type": "execute_result"
    }
   ],
   "source": [
    "# Get all average and round by 2 decimal places\n",
    "students_data = getStudents(students_data)\n",
    "students_data"
   ]
  },
  {
   "cell_type": "code",
   "execution_count": 5,
   "metadata": {},
   "outputs": [
    {
     "data": {
      "text/plain": [
       "[['Bob', [78, 88, 80], ['Math', 'English', 'Science'], 82.0],\n",
       " ['David', [80, 85, 88], ['Math', 'English', 'Science'], 84.33],\n",
       " ['Alice', [85, 90, 92], ['Math', 'English', 'Science'], 89.0],\n",
       " ['Charlie', [92, 94, 89], ['Math', 'English', 'Science'], 91.66]]"
      ]
     },
     "execution_count": 5,
     "metadata": {},
     "output_type": "execute_result"
    }
   ],
   "source": [
    "students_data = sorting(students_data)\n",
    "students_data"
   ]
  },
  {
   "cell_type": "code",
   "execution_count": 6,
   "metadata": {},
   "outputs": [
    {
     "data": {
      "text/plain": [
       "[['Bob', [78, 88, 80], ['Math', 'English', 'Science'], 82.0],\n",
       " ['David', [80, 85, 88], ['Math', 'English', 'Science'], 84.33],\n",
       " ['Alice', [85, 90, 92], ['Math', 'English', 'Science'], 89.0],\n",
       " ['Charlie', [92, 94, 89], ['Math', 'English', 'Science'], 91.66],\n",
       " ['Eva', [95, 91, 88], ['Math', 'English', 'Science']]]"
      ]
     },
     "execution_count": 6,
     "metadata": {},
     "output_type": "execute_result"
    }
   ],
   "source": [
    "# Eva Added\n",
    "students_data.append([\"Eva\", [95, 91, 88], [\"Math\", \"English\", \"Science\"]])\n",
    "students_data"
   ]
  },
  {
   "cell_type": "code",
   "execution_count": 7,
   "metadata": {},
   "outputs": [
    {
     "data": {
      "text/plain": [
       "[['Bob', [78, 88, 80], ['Math', 'English', 'Science'], 82.0],\n",
       " ['David', [80, 85, 88], ['Math', 'English', 'Science'], 84.33],\n",
       " ['Alice', [85, 90, 92], ['Math', 'English', 'Science'], 89.0],\n",
       " ['Charlie', [92, 94, 89], ['Math', 'English', 'Science'], 91.66],\n",
       " ['Eva', [95, 91, 88], ['Math', 'English', 'Science'], 91.33]]"
      ]
     },
     "execution_count": 7,
     "metadata": {},
     "output_type": "execute_result"
    }
   ],
   "source": [
    "# New Data with Eva\n",
    "students_data = getStudents(students_data)\n",
    "backup_data = [i for i in students_data]\n",
    "students_data"
   ]
  },
  {
   "cell_type": "code",
   "execution_count": 8,
   "metadata": {},
   "outputs": [],
   "source": [
    "# Sort for removal\n",
    "students_data = sorting(students_data)"
   ]
  },
  {
   "cell_type": "code",
   "execution_count": 9,
   "metadata": {},
   "outputs": [
    {
     "data": {
      "text/plain": [
       "[['David', [80, 85, 88], ['Math', 'English', 'Science'], 84.33],\n",
       " ['Alice', [85, 90, 92], ['Math', 'English', 'Science'], 89.0],\n",
       " ['Eva', [95, 91, 88], ['Math', 'English', 'Science'], 91.33],\n",
       " ['Charlie', [92, 94, 89], ['Math', 'English', 'Science'], 91.66]]"
      ]
     },
     "execution_count": 9,
     "metadata": {},
     "output_type": "execute_result"
    }
   ],
   "source": [
    "# Removed lowest Average\n",
    "students_data.pop(0)\n",
    "students_data"
   ]
  },
  {
   "cell_type": "code",
   "execution_count": 10,
   "metadata": {},
   "outputs": [
    {
     "data": {
      "text/plain": [
       "[['Bob', 88], ['David', 85], ['Alice', 90], ['Charlie', 94], ['Eva', 91]]"
      ]
     },
     "execution_count": 10,
     "metadata": {},
     "output_type": "execute_result"
    }
   ],
   "source": [
    "# Print all english scores\n",
    "english_scores = []\n",
    "for i in range(len(backup_data)):\n",
    "\tenglish_scores.append([backup_data[i][0], backup_data[i][1][1]])\n",
    "english_scores"
   ]
  },
  {
   "cell_type": "code",
   "execution_count": 11,
   "metadata": {},
   "outputs": [
    {
     "data": {
      "text/plain": [
       "[['David', [80, 85, 88], ['Math', 'English', 'Science'], 84.33],\n",
       " ['Alice', [85, 90, 92], ['Math', 'English', 'Science'], 89.0],\n",
       " ['Eva', [95, 91, 88], ['Math', 'English', 'Science'], 91.33],\n",
       " ['Charlie', [92, 94, 89], ['Math', 'English', 'Science'], 91.66]]"
      ]
     },
     "execution_count": 11,
     "metadata": {},
     "output_type": "execute_result"
    }
   ],
   "source": [
    "# Sort with Math Scores [Bubble sort] and Print Students\n",
    "maths = [i for i in backup_data]\n",
    "for i in range(len(maths)):\n",
    "\tfor j in range(len(maths)):\n",
    "\t\tif maths[i][1][0] > maths[j][1][0]:\n",
    "\t\t\tmaths[i], maths[j] = maths[j], maths[i]\n",
    "\n",
    "students_data"
   ]
  },
  {
   "cell_type": "code",
   "execution_count": 12,
   "metadata": {},
   "outputs": [
    {
     "data": {
      "text/plain": [
       "87.664"
      ]
     },
     "execution_count": 12,
     "metadata": {},
     "output_type": "execute_result"
    }
   ],
   "source": [
    "# Overall Average\n",
    "overall = 0\n",
    "for i in backup_data:\n",
    "\toverall += i[-1]\n",
    "\n",
    "overall /= len(backup_data)\n",
    "overall"
   ]
  },
  {
   "cell_type": "code",
   "execution_count": 13,
   "metadata": {},
   "outputs": [],
   "source": [
    "# Average thru subjects\n",
    "english_scores = 0\n",
    "math_scores = 0\n",
    "science_scores = 0\n",
    "\n",
    "for i in backup_data:\n",
    "\tmath_scores += i[1][0]\n",
    "\tenglish_scores += i[1][1]\n",
    "\tscience_scores += i[1][2]\n",
    "\n",
    "english_scores /= len(backup_data)\n",
    "math_scores /= len(backup_data)\n",
    "science_scores /= len(backup_data)\n",
    "\n",
    "subj_data = [math_scores, english_scores, science_scores]"
   ]
  },
  {
   "cell_type": "code",
   "execution_count": 14,
   "metadata": {},
   "outputs": [
    {
     "data": {
      "text/plain": [
       "89.6"
      ]
     },
     "execution_count": 14,
     "metadata": {},
     "output_type": "execute_result"
    }
   ],
   "source": [
    "# English Score\n",
    "english_scores"
   ]
  },
  {
   "cell_type": "code",
   "execution_count": 15,
   "metadata": {},
   "outputs": [
    {
     "data": {
      "text/plain": [
       "86.0"
      ]
     },
     "execution_count": 15,
     "metadata": {},
     "output_type": "execute_result"
    }
   ],
   "source": [
    "# Math Score\n",
    "math_scores"
   ]
  },
  {
   "cell_type": "code",
   "execution_count": 16,
   "metadata": {},
   "outputs": [
    {
     "data": {
      "text/plain": [
       "87.4"
      ]
     },
     "execution_count": 16,
     "metadata": {},
     "output_type": "execute_result"
    }
   ],
   "source": [
    "# Sscience Score\n",
    "science_scores"
   ]
  },
  {
   "cell_type": "code",
   "execution_count": 17,
   "metadata": {},
   "outputs": [],
   "source": [
    "# Sorting the subject data and get the highes average\n",
    "subjs = backup_data[0][-2]\n",
    "for i in range(len(subj_data)):\n",
    "\tfor j in range(len(subj_data)):\n",
    "\t\tif subj_data[i] > subj_data[j]:\n",
    "\t\t\tsubj_data[i], subj_data[j] = subj_data[j], subj_data[i]\n",
    "\t\t\tsubjs[i], subjs[j] = subjs[j], subjs[i]"
   ]
  },
  {
   "cell_type": "code",
   "execution_count": 18,
   "metadata": {},
   "outputs": [
    {
     "data": {
      "text/plain": [
       "89.6"
      ]
     },
     "execution_count": 18,
     "metadata": {},
     "output_type": "execute_result"
    }
   ],
   "source": [
    "subj_data[0]"
   ]
  },
  {
   "cell_type": "code",
   "execution_count": 19,
   "metadata": {},
   "outputs": [
    {
     "data": {
      "text/plain": [
       "'English'"
      ]
     },
     "execution_count": 19,
     "metadata": {},
     "output_type": "execute_result"
    }
   ],
   "source": [
    "subjs[0]"
   ]
  },
  {
   "cell_type": "code",
   "execution_count": 20,
   "metadata": {},
   "outputs": [
    {
     "data": {
      "text/plain": [
       "[['Bob', [85, 87, 90], ['English', 'Science', 'Math'], 82.0],\n",
       " ['David', [80, 85, 88], ['Math', 'English', 'Science'], 84.33],\n",
       " ['Alice', [85, 90, 92], ['Math', 'English', 'Science'], 89.0],\n",
       " ['Charlie', [92, 94, 89], ['Math', 'English', 'Science'], 91.66],\n",
       " ['Eva', [95, 91, 88], ['Math', 'English', 'Science'], 91.33]]"
      ]
     },
     "execution_count": 20,
     "metadata": {},
     "output_type": "execute_result"
    }
   ],
   "source": [
    "# Replace Bob's score\n",
    "for i in range(len(backup_data)):\n",
    "\tif backup_data[i][0] == \"Bob\":\n",
    "\t\tbackup_data[i][1] = [85, 87, 90]\n",
    "backup_data"
   ]
  },
  {
   "cell_type": "code",
   "execution_count": 21,
   "metadata": {},
   "outputs": [
    {
     "data": {
      "text/plain": [
       "[['David', [80, 85, 88], ['Math', 'English', 'Science'], 84.33],\n",
       " ['Bob', [85, 87, 90], ['English', 'Science', 'Math'], 87.33],\n",
       " ['Alice', [85, 90, 92], ['Math', 'English', 'Science'], 89.0],\n",
       " ['Eva', [95, 91, 88], ['Math', 'English', 'Science'], 91.33],\n",
       " ['Charlie', [92, 94, 89], ['Math', 'English', 'Science'], 91.66]]"
      ]
     },
     "execution_count": 21,
     "metadata": {},
     "output_type": "execute_result"
    }
   ],
   "source": [
    "backup_data = getStudents(backup_data)\n",
    "backup_data = sorting(backup_data)\n",
    "backup_data"
   ]
  },
  {
   "cell_type": "code",
   "execution_count": 22,
   "metadata": {},
   "outputs": [
    {
     "name": "stdout",
     "output_type": "stream",
     "text": [
      "No students got perfect\n"
     ]
    }
   ],
   "source": [
    "# Calculation for perfect score\n",
    "has_perfect = False\n",
    "for i in backup_data:\n",
    "\tfor j in i[1]:\n",
    "\t\tif j == 100:\n",
    "\t\t\tprint(f\"Name: {backup_data[0]}\")\n",
    "\t\t\thas_perfect = True\n",
    "\t\t\t\n",
    "if not has_perfect:\n",
    "\tprint(\"No students got perfect\")"
   ]
  }
 ],
 "metadata": {
  "kernelspec": {
   "display_name": "Python 3 (ipykernel)",
   "language": "python",
   "name": "python3"
  },
  "language_info": {
   "codemirror_mode": {
    "name": "ipython",
    "version": 3
   },
   "file_extension": ".py",
   "mimetype": "text/x-python",
   "name": "python",
   "nbconvert_exporter": "python",
   "pygments_lexer": "ipython3",
   "version": "3.12.0"
  }
 },
 "nbformat": 4,
 "nbformat_minor": 4
}
