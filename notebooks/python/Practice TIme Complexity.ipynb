{
 "cells": [
  {
   "cell_type": "code",
   "execution_count": 16,
   "id": "3cc0aa80",
   "metadata": {},
   "outputs": [],
   "source": [
    "class room:\n",
    "    def solve(self, nums: [int], target: int):\n",
    "        for i in range(len(nums) - 1):\n",
    "            for j in range(i + 1, len(nums)):\n",
    "                if i + j == target:\n",
    "                    print(\"done\")\n",
    "                    return [i, j]"
   ]
  },
  {
   "cell_type": "code",
   "execution_count": 17,
   "id": "0876e4f5",
   "metadata": {
    "scrolled": true
   },
   "outputs": [
    {
     "name": "stdout",
     "output_type": "stream",
     "text": [
      "done\n",
      "[11, 99]\n",
      "Solved\n"
     ]
    }
   ],
   "source": [
    "a = room()\n",
    "data = []\n",
    "for i in range(100):\n",
    "    data.append(i)\n",
    "print(a.solve(data, 110))\n",
    "print(\"Solved\")"
   ]
  }
 ],
 "metadata": {
  "kernelspec": {
   "display_name": "Python 3 (ipykernel)",
   "language": "python",
   "name": "python3"
  },
  "language_info": {
   "codemirror_mode": {
    "name": "ipython",
    "version": 3
   },
   "file_extension": ".py",
   "mimetype": "text/x-python",
   "name": "python",
   "nbconvert_exporter": "python",
   "pygments_lexer": "ipython3",
   "version": "3.11.0"
  }
 },
 "nbformat": 4,
 "nbformat_minor": 5
}
