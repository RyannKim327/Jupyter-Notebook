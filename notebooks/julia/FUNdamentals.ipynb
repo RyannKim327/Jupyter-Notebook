{
 "cells": [
  {
   "cell_type": "code",
   "execution_count": 3,
   "id": "a7c8a9c5",
   "metadata": {},
   "outputs": [
    {
     "name": "stdout",
     "output_type": "stream",
     "text": [
      "Hello Julia\n"
     ]
    }
   ],
   "source": [
    "# Basic Print\n",
    "println(\"Hello Julia\")"
   ]
  },
  {
   "cell_type": "code",
   "execution_count": 4,
   "id": "e655bca9",
   "metadata": {},
   "outputs": [
    {
     "name": "stdout",
     "output_type": "stream",
     "text": [
      "Please enter your name: stdin> saas\n",
      "Hellosaas\n"
     ]
    }
   ],
   "source": [
    "# Input\n",
    "print(\"Please enter your name: \")\n",
    "name = readline()\n",
    "println(\"Hello \", name)"
   ]
  },
  {
   "cell_type": "code",
   "execution_count": 2,
   "id": "e19eada7",
   "metadata": {},
   "outputs": [
    {
     "name": "stdout",
     "output_type": "stream",
     "text": [
      "Please enter your name: stdin> \n",
      "Sorry, but I don't know you.\n"
     ]
    }
   ],
   "source": [
    "# Condition\n",
    "\n",
    "print(\"Please enter your name: \")\n",
    "name = readline()\n",
    "\n",
    "if name != \"\"\n",
    "    println(\"Hello \", name)\n",
    "else\n",
    "    println(\"Sorry, but I don't know you.\")\n",
    "end"
   ]
  },
  {
   "cell_type": "code",
   "execution_count": 4,
   "id": "6da7376b",
   "metadata": {},
   "outputs": [
    {
     "name": "stdout",
     "output_type": "stream",
     "text": [
      "1 2 3 4 5 "
     ]
    }
   ],
   "source": [
    "# Loop (for)\n",
    "\n",
    "for i in 1:5\n",
    "    print(i, \" \")\n",
    "end"
   ]
  },
  {
   "cell_type": "code",
   "execution_count": 6,
   "id": "0ef566ca",
   "metadata": {},
   "outputs": [
    {
     "name": "stdout",
     "output_type": "stream",
     "text": [
      "1 2 3 4 5 "
     ]
    }
   ],
   "source": [
    "# Loop (while)\n",
    "\n",
    "i = 1\n",
    "while i <= 5\n",
    "    print(i, \" \")\n",
    "    i += 1\n",
    "end"
   ]
  },
  {
   "cell_type": "code",
   "execution_count": 15,
   "id": "dc0f69a1",
   "metadata": {},
   "outputs": [
    {
     "name": "stdout",
     "output_type": "stream",
     "text": [
      "x: 5\n",
      "y: 37\n"
     ]
    }
   ],
   "source": [
    "# Function\n",
    "\n",
    "function f(x)\n",
    "    return (x ^ 2) + (5 * x) - 13\n",
    "end\n",
    "\n",
    "x = 5\n",
    "y = f(x)\n",
    "println(\"x: \", x, \"\\ny: \", y)"
   ]
  },
  {
   "cell_type": "code",
   "execution_count": 16,
   "id": "a7fd471b",
   "metadata": {},
   "outputs": [
    {
     "name": "stdout",
     "output_type": "stream",
     "text": [
      "25"
     ]
    }
   ],
   "source": [
    "# Function v2\n",
    "\n",
    "f(x, y) = x ^ y\n",
    "\n",
    "print(f(5, 2))"
   ]
  },
  {
   "cell_type": "code",
   "execution_count": 22,
   "id": "2170e119",
   "metadata": {},
   "outputs": [
    {
     "name": "stdout",
     "output_type": "stream",
     "text": [
      "Enter a number: stdin> 5\n",
      "Enter a number: stdin> 7\n",
      "Enter a number: stdin> 4\n",
      "Enter a number: stdin> 2\n",
      "Enter a number: stdin> \n",
      "Any[5, 7, 4, 2]\n"
     ]
    }
   ],
   "source": [
    "# Array and Try Catch\n",
    "\n",
    "function num()\n",
    "    print(\"Enter a number: \")\n",
    "    try\n",
    "        return parse(Int64, readline())\n",
    "    catch e\n",
    "        return 0\n",
    "    end\n",
    "end\n",
    "\n",
    "lists = []\n",
    "x = num()\n",
    "\n",
    "while x > 0\n",
    "    append!(lists, x)\n",
    "    x = num()\n",
    "end\n",
    "\n",
    "println(lists)"
   ]
  },
  {
   "cell_type": "code",
   "execution_count": 1,
   "id": "e6668dbb",
   "metadata": {},
   "outputs": [
    {
     "name": "stdout",
     "output_type": "stream",
     "text": [
      "Enter first text: stdin> Hello\n",
      "Enter second text: stdin> World\n",
      "Hello World"
     ]
    }
   ],
   "source": [
    "# String concatination\n",
    "print(\"Enter first text: \")\n",
    "str = readline()\n",
    "print(\"Enter second text: \")\n",
    "str2 = readline()\n",
    "str3 = str * \" \" * str2\n",
    "print(str3)"
   ]
  }
 ],
 "metadata": {
  "kernelspec": {
   "display_name": "Python 3.11.0 64-bit",
   "language": "python",
   "name": "python3"
  },
  "language_info": {
   "file_extension": ".jl",
   "mimetype": "application/julia",
   "name": "python",
   "version": "3.11.0"
  },
  "vscode": {
   "interpreter": {
    "hash": "5ffd7eb2cebf9ac436b5021ba01877e9cee6b03524e01bf8c8637d3e64111215"
   }
  }
 },
 "nbformat": 4,
 "nbformat_minor": 5
}
