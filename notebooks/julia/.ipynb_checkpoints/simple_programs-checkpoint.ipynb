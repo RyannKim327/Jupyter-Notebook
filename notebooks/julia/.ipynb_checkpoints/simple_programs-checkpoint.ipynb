{
 "cells": [
  {
   "cell_type": "code",
   "execution_count": 1,
   "id": "74361ded",
   "metadata": {},
   "outputs": [
    {
     "name": "stdout",
     "output_type": "stream",
     "text": [
      "* \n",
      "* * \n",
      "* * * \n",
      "* * * * \n",
      "* * * * * \n",
      "* * * * * * \n",
      "* * * * * * * \n",
      "* * * * * * * * \n",
      "* * * * * * * * * \n",
      "* * * * * * * * * * \n"
     ]
    }
   ],
   "source": [
    "# Right Triangle\n",
    "\n",
    "for i in 1:10\n",
    "    for j in 1:i\n",
    "        print(\"* \")\n",
    "    end\n",
    "    println()\n",
    "end"
   ]
  },
  {
   "cell_type": "code",
   "execution_count": 20,
   "id": "7d7b4303",
   "metadata": {},
   "outputs": [
    {
     "name": "stdout",
     "output_type": "stream",
     "text": [
      "* * * * * * * * * * \n",
      "* * * * * * * * * \n",
      "* * * * * * * * \n",
      "* * * * * * * \n",
      "* * * * * * \n",
      "* * * * * \n",
      "* * * * \n",
      "* * * \n",
      "* * \n",
      "* \n"
     ]
    }
   ],
   "source": [
    "# Reverse Triangle\n",
    "\n",
    "for i in 10:-1:1\n",
    "    for j in i:-1:1\n",
    "        print(\"* \")\n",
    "    end\n",
    "    println()\n",
    "end"
   ]
  },
  {
   "cell_type": "code",
   "execution_count": 3,
   "id": "f765e562",
   "metadata": {},
   "outputs": [
    {
     "name": "stdout",
     "output_type": "stream",
     "text": [
      "         * \n",
      "        * * \n",
      "       * * * \n",
      "      * * * * \n",
      "     * * * * * \n",
      "    * * * * * * \n",
      "   * * * * * * * \n",
      "  * * * * * * * * \n",
      " * * * * * * * * * \n",
      "* * * * * * * * * * \n"
     ]
    }
   ],
   "source": [
    "# Pyramin\n",
    "\n",
    "for i in 1:10\n",
    "    for j in 1:(10 - i)\n",
    "        print(\" \")\n",
    "    end\n",
    "    for j in 1:i\n",
    "        print(\"* \")\n",
    "    end\n",
    "    println()\n",
    "end"
   ]
  },
  {
   "cell_type": "code",
   "execution_count": 9,
   "id": "c972c36f",
   "metadata": {
    "scrolled": true
   },
   "outputs": [
    {
     "name": "stdout",
     "output_type": "stream",
     "text": [
      "Enter a number: stdin> 5\n",
      "Enter a number: stdin> 3\n",
      "Enter a number: stdin> 2\n",
      "Enter a number: stdin> 7\n",
      "Enter a number: stdin> 5\n",
      "Enter a number: stdin> 8\n",
      "Enter a number: stdin> 9\n",
      "Enter a number: stdin> 3\n",
      "Enter a number: stdin> 2\n",
      "Enter a number: stdin> \n",
      "Enter a number: stdin> \n",
      "Enter a number: stdin> 0\n",
      "Any[1, 1, 2, 2, 3, 3, 5, 5, 7, 8, 9]\n"
     ]
    }
   ],
   "source": [
    "# Bubble Sort with input\n",
    "\n",
    "function num()\n",
    "    try\n",
    "        print(\"Enter a number: \")\n",
    "        return parse(Int64, readline())\n",
    "    catch e\n",
    "        return 1\n",
    "    end\n",
    "end\n",
    "\n",
    "lists = []\n",
    "x = num()\n",
    "\n",
    "while x > 0 || length(lists) < 5\n",
    "    append!(lists, x)\n",
    "    x = num()\n",
    "end\n",
    "\n",
    "for i in 0:length(lists)\n",
    "    for j in 1:i\n",
    "        if lists[i] < lists[j]\n",
    "            lists[i], lists[j] = lists[j], lists[i]\n",
    "        end\n",
    "    end\n",
    "end\n",
    "\n",
    "println(lists)"
   ]
  },
  {
   "cell_type": "code",
   "execution_count": 12,
   "id": "b083af67",
   "metadata": {},
   "outputs": [
    {
     "name": "stdout",
     "output_type": "stream",
     "text": [
      "[0, 1, 1, 2, 3, 5, 8, 13, 21, 34, 55]"
     ]
    }
   ],
   "source": [
    "# Fibbonacci Sequence\n",
    "\n",
    "lists = [0, 1]\n",
    "\n",
    "for i in 2:10\n",
    "    x = lists[i - 1]\n",
    "    y = lists[i]\n",
    "    z = x + y\n",
    "    append!(lists, z)\n",
    "end\n",
    "\n",
    "print(lists)"
   ]
  },
  {
   "cell_type": "code",
   "execution_count": 5,
   "id": "6845f5e7",
   "metadata": {},
   "outputs": [
    {
     "name": "stdout",
     "output_type": "stream",
     "text": [
      "stdin> 21\n",
      "21st\n"
     ]
    }
   ],
   "source": [
    "# st, nd, rd\n",
    "\n",
    "num = parse(Int64, readline())\n",
    "\n",
    "tens = num % 100\n",
    "ones = num % 10\n",
    "\n",
    "if tens >= 10 && tens < 20\n",
    "    println(num, \"th\")\n",
    "else\n",
    "    if ones == 1\n",
    "        println(num, \"st\")\n",
    "    elseif ones == 2\n",
    "        println(num, \"nd\")\n",
    "    elseif ones == 3\n",
    "        println(num, \"rd\")\n",
    "    else\n",
    "        println(num, \"th\")\n",
    "    end\n",
    "end"
   ]
  }
 ],
 "metadata": {
  "kernelspec": {
   "display_name": "Julia 1.8.4",
   "language": "julia",
   "name": "julia-1.8"
  },
  "language_info": {
   "file_extension": ".jl",
   "mimetype": "application/julia",
   "name": "julia",
   "version": "1.8.4"
  }
 },
 "nbformat": 4,
 "nbformat_minor": 5
}
