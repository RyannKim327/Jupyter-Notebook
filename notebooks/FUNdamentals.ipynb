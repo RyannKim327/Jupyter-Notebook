{
 "cells": [
  {
   "cell_type": "code",
   "execution_count": 1,
   "id": "0ce2d222",
   "metadata": {
    "scrolled": true
   },
   "outputs": [
    {
     "name": "stdout",
     "output_type": "stream",
     "text": [
      "hello world!\n"
     ]
    }
   ],
   "source": [
    "# Sample Print\n",
    "print(\"hello world!\")\n",
    "\n",
    "# Using separator (default = \" \")\n",
    "print(\"Hello\", \"World\", sep=\"\\n\")\n",
    "\n",
    "# Using end\n",
    "print(\"Hello my\", end=\" \")\n",
    "print(\"World\")"
   ]
  },
  {
   "cell_type": "code",
   "execution_count": 1,
   "id": "26737dfc",
   "metadata": {},
   "outputs": [
    {
     "name": "stdout",
     "output_type": "stream",
     "text": [
      "Enter your name: kim\n",
      "Hello kim how are you today?\n"
     ]
    }
   ],
   "source": [
    "# Using inputs\n",
    "name = input(\"Enter your name: \")\n",
    "print(\"Hello\", name, \"how are you today?\")"
   ]
  },
  {
   "cell_type": "code",
   "execution_count": 2,
   "id": "b2c89b73",
   "metadata": {},
   "outputs": [
    {
     "name": "stdout",
     "output_type": "stream",
     "text": [
      "Enter a number: 5\n",
      "<class 'int'>\n"
     ]
    }
   ],
   "source": [
    "# Converting String into a datatype (int sample)\n",
    "number = int(input(\"Enter a number: \"))\n",
    "print(type(number)) # Result is the datatype you used"
   ]
  },
  {
   "cell_type": "code",
   "execution_count": 3,
   "id": "48824651",
   "metadata": {},
   "outputs": [
    {
     "name": "stdout",
     "output_type": "stream",
     "text": [
      "Enter your name: kim\n",
      "Hello kim\n"
     ]
    }
   ],
   "source": [
    "# Condition\n",
    "name = input(\"Enter your name: \")\n",
    "if name == \"\":\n",
    "    # if there is no data inserted\n",
    "    print(\"Sorry I don't know you\")\n",
    "else:\n",
    "    print(\"Hello\", name)"
   ]
  },
  {
   "cell_type": "code",
   "execution_count": 4,
   "id": "d353bec7",
   "metadata": {},
   "outputs": [
    {
     "name": "stdout",
     "output_type": "stream",
     "text": [
      "Enter your name: kim\n",
      "Oh, its you\n"
     ]
    }
   ],
   "source": [
    "# Condition with elif (else if)\n",
    "# Condition\n",
    "name = input(\"Enter your name: \")\n",
    "if name == \"\":\n",
    "    # if there is no data inserted\n",
    "    print(\"Sorry I don't know you\")\n",
    "elif name == \"kim\":\n",
    "    print(\"Oh, its you\")\n",
    "else:\n",
    "    print(\"Hello\", name)"
   ]
  },
  {
   "cell_type": "code",
   "execution_count": 5,
   "id": "82dca6ee",
   "metadata": {},
   "outputs": [
    {
     "name": "stdout",
     "output_type": "stream",
     "text": [
      "Print 0 to 9\n",
      "0 1 2 3 4 5 6 7 8 9 Print 1 to 9\n",
      "1 2 3 4 5 6 7 8 9 Print odd numbers\n",
      "1 3 5 7 9 "
     ]
    }
   ],
   "source": [
    "# Loop (for)\n",
    "# Single parameter range\n",
    "print(\"Print 0 to 9\")\n",
    "for i in range(10):\n",
    "    # This will loop from 0 to 9\n",
    "    print(i, end=\" \")\n",
    "\n",
    "print(\"Print 1 to 9\")\n",
    "# Range with start and end\n",
    "for i in range(1, 10):\n",
    "    # This will loop from 1 to 9\n",
    "    print(i, end=\" \")\n",
    "\n",
    "print(\"Print odd numbers\")\n",
    "# Range with steps\n",
    "for i in range(1, 10, 2):\n",
    "    # Print all odd numbers\n",
    "    print(i, end=\" \")"
   ]
  },
  {
   "cell_type": "code",
   "execution_count": 6,
   "id": "fa10f29d",
   "metadata": {},
   "outputs": [
    {
     "name": "stdout",
     "output_type": "stream",
     "text": [
      "1 2 3 4 5 6 7 8 9 10 "
     ]
    }
   ],
   "source": [
    "# Loop (While)\n",
    "i = 1\n",
    "while i <= 10:\n",
    "    # Print 1 to 10\n",
    "    print(i, end=\" \")\n",
    "    # to increment\n",
    "    i += 1"
   ]
  },
  {
   "cell_type": "code",
   "execution_count": 7,
   "id": "0e435bca",
   "metadata": {},
   "outputs": [
    {
     "name": "stdout",
     "output_type": "stream",
     "text": [
      "Enter a text or a blank: a\n",
      "a\n",
      "Enter a text or a blank: \n"
     ]
    }
   ],
   "source": [
    "# Use break with while loop\n",
    "\n",
    "while True:\n",
    "    a = input(\"Enter a text or a blank: \")\n",
    "    if a == \"\":\n",
    "        break\n",
    "    print(a)"
   ]
  },
  {
   "cell_type": "code",
   "execution_count": 8,
   "id": "0412e52d",
   "metadata": {},
   "outputs": [
    {
     "name": "stdout",
     "output_type": "stream",
     "text": [
      "100\n"
     ]
    }
   ],
   "source": [
    "# Use of function\n",
    "\n",
    "def f(x):\n",
    "    return x ** 2\n",
    "\n",
    "def show(str):\n",
    "    print(str)\n",
    "\n",
    "a = f(10)\n",
    "show(a)"
   ]
  },
  {
   "cell_type": "code",
   "execution_count": 4,
   "id": "2c3784b5",
   "metadata": {},
   "outputs": [
    {
     "name": "stdout",
     "output_type": "stream",
     "text": [
      "Enter a number: 1\n",
      "Enter a number: \n",
      "[1]\n"
     ]
    }
   ],
   "source": [
    "# Use of Arrays\n",
    "lists = []\n",
    "a = input(\"Enter a number: \")\n",
    "while a != \"\":\n",
    "    num = int(a)\n",
    "    if not num in lists:\n",
    "        lists.append(num)\n",
    "    a = input(\"Enter a number: \")\n",
    "\n",
    "print(lists)"
   ]
  },
  {
   "cell_type": "code",
   "execution_count": 7,
   "id": "3c60bb5b",
   "metadata": {},
   "outputs": [
    {
     "name": "stdout",
     "output_type": "stream",
     "text": [
      "Ryann Kim Sesgundo\n"
     ]
    }
   ],
   "source": [
    "# Use of dictionary\n",
    "dict = {\n",
    "    \"key\": \"value\",\n",
    "    \"name\": \"Ryann Kim Sesgundo\"\n",
    "}\n",
    "\n",
    "print(dict['name'])"
   ]
  },
  {
   "cell_type": "code",
   "execution_count": 1,
   "id": "0b3d812e",
   "metadata": {},
   "outputs": [
    {
     "name": "stdout",
     "output_type": "stream",
     "text": [
      "<class 'int'>\n"
     ]
    }
   ],
   "source": [
    "# Use of try except (try catch)\n",
    "# Error handling\n",
    "\n",
    "def enter():\n",
    "\tisNum = True\n",
    "\tval = -1\n",
    "\twhile(isNum):\n",
    "\t\tnumber = input(\"Enter a number: \")\n",
    "\t\ttry:\n",
    "\t\t\tisNum = False\n",
    "\t\t\tval = int(number)\n",
    "\t\texcept:\n",
    "\t\t\tisNum = True\n",
    "\treturn val\n",
    "\n",
    "num = enter()\n",
    "print(type(num))"
   ]
  },
  {
   "cell_type": "code",
   "execution_count": 2,
   "id": "fa9d6dc3",
   "metadata": {},
   "outputs": [
    {
     "name": "stdout",
     "output_type": "stream",
     "text": [
      "Mr.RySes\n",
      "RyannKim327\n"
     ]
    }
   ],
   "source": [
    "# Introduction to Object Oriented Programming\n",
    "\n",
    "class room:\n",
    "\tdef __init__(self):\n",
    "\t\tself.name = \"Mr.RySes\"\n",
    "\t\n",
    "\tdef getName(self):\n",
    "\t\treturn self.name\n",
    "\t\n",
    "\tdef setName(self, name):\n",
    "\t\tself.name = name\n",
    "\n",
    "room1 = room()\n",
    "print(room1.getName())\n",
    "room1.setName(\"RyannKim327\")\n",
    "print(room1.getName())"
   ]
  }
 ],
 "metadata": {
  "kernelspec": {
   "display_name": "Python 3.11.0 64-bit",
   "language": "python",
   "name": "python3"
  },
  "language_info": {
   "codemirror_mode": {
    "name": "ipython",
    "version": 3
   },
   "file_extension": ".py",
   "mimetype": "text/x-python",
   "name": "python",
   "nbconvert_exporter": "python",
   "pygments_lexer": "ipython3",
   "version": "3.11.0"
  },
  "vscode": {
   "interpreter": {
    "hash": "5ffd7eb2cebf9ac436b5021ba01877e9cee6b03524e01bf8c8637d3e64111215"
   }
  }
 },
 "nbformat": 4,
 "nbformat_minor": 5
}
