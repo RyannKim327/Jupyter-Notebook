{
 "cells": [
  {
   "cell_type": "markdown",
   "id": "4da89229-0f45-44ce-96dd-b9f8c868f7f1",
   "metadata": {},
   "source": [
    "### Chicago Crimes\n",
    "#### Analyst: Ryann Kim Sesgundo"
   ]
  },
  {
   "cell_type": "code",
   "execution_count": null,
   "id": "5f82f8a7-b80b-4150-bf34-b6d46e329296",
   "metadata": {},
   "outputs": [],
   "source": [
    "import numpy as np, pandas as pd, folium, warnings\n",
    "from folium.plugins import HeatMap\n",
    "warnings.filterwarnings('ignore')"
   ]
  },
  {
   "cell_type": "code",
   "execution_count": null,
   "id": "32b3df10-16bd-454e-8bf8-ee86cc7c9e36",
   "metadata": {},
   "outputs": [],
   "source": [
    "data = pd.read_csv('datasets/Chicago_Crimes.csv', encoding=\"ISO-8859-1\")\n",
    "data"
   ]
  },
  {
   "cell_type": "code",
   "execution_count": null,
   "id": "c842c0fb-b369-475c-869c-c49cb2bd3757",
   "metadata": {},
   "outputs": [],
   "source": [
    "data['Primary Type'].unique()"
   ]
  },
  {
   "cell_type": "code",
   "execution_count": null,
   "id": "26db05d0-e3d3-46f7-8779-654eea094b65",
   "metadata": {},
   "outputs": [],
   "source": [
    "# Locate setup\n",
    "\n",
    "def locate(crime, location = \"\"):\n",
    "    crime = data[data['Primary Type'] == crime]\n",
    "    if location != \"\":\n",
    "        crime = crime[crime['Location Description'] == location]\n",
    "\n",
    "    a = crime.groupby(['Latitude', 'Longitude']).size().reset_index(name=\"incident_count\")\n",
    "    b = a[['Latitude', 'Longitude', 'incident_count']].values.tolist()\n",
    "    c = folium.Map(location=[41.8320209, -87.6947979], zoom_start=10)\n",
    "    HeatMap(b).add_to(c)\n",
    "    return c"
   ]
  },
  {
   "cell_type": "markdown",
   "id": "29bc4acf-0d04-426b-8b0b-362e55c09c0b",
   "metadata": {},
   "source": [
    "### 1. Most hotspot `Theft` Case"
   ]
  },
  {
   "cell_type": "code",
   "execution_count": null,
   "id": "71707ef5-b25b-4d0a-a099-fbfc8bbc1311",
   "metadata": {
    "scrolled": true
   },
   "outputs": [],
   "source": [
    "locate(\"THEFT\")"
   ]
  },
  {
   "cell_type": "markdown",
   "id": "eff32c5a-f9e1-4a4b-831e-7c7bada13e27",
   "metadata": {},
   "source": [
    "### 2. Most hotspot `MOTOR VEHICLE THEFT` Case"
   ]
  },
  {
   "cell_type": "code",
   "execution_count": null,
   "id": "8bfb4141-c24d-4f4b-9b9f-c0c1bd4fc5c2",
   "metadata": {},
   "outputs": [],
   "source": [
    "locate(\"MOTOR VEHICLE THEFT\")"
   ]
  },
  {
   "cell_type": "code",
   "execution_count": null,
   "id": "da9d68a1-a80b-4c2f-a90e-51192f8eb9b0",
   "metadata": {},
   "outputs": [],
   "source": []
  },
  {
   "cell_type": "code",
   "execution_count": null,
   "id": "a44ada39-1d52-44e3-8736-11132db38571",
   "metadata": {},
   "outputs": [],
   "source": []
  },
  {
   "cell_type": "code",
   "execution_count": null,
   "id": "d0f9e706-0beb-430e-87cf-0b934510098e",
   "metadata": {},
   "outputs": [],
   "source": []
  },
  {
   "cell_type": "code",
   "execution_count": null,
   "id": "af4e8870-8818-44ea-8538-9e86a249ca35",
   "metadata": {},
   "outputs": [],
   "source": []
  },
  {
   "cell_type": "code",
   "execution_count": null,
   "id": "a46383cf-3fb3-470f-8b63-2a6292273842",
   "metadata": {},
   "outputs": [],
   "source": []
  },
  {
   "cell_type": "code",
   "execution_count": null,
   "id": "750cbbf6-b1cb-4956-bacc-18dc67c9e30b",
   "metadata": {},
   "outputs": [],
   "source": []
  },
  {
   "cell_type": "code",
   "execution_count": null,
   "id": "3124e918-fab1-4d3a-8b33-4f619db0f89c",
   "metadata": {},
   "outputs": [],
   "source": []
  },
  {
   "cell_type": "code",
   "execution_count": null,
   "id": "959e992f-8524-4d27-a0fb-295a5c8f9659",
   "metadata": {},
   "outputs": [],
   "source": []
  },
  {
   "cell_type": "code",
   "execution_count": null,
   "id": "c7ef2a22-c4c3-4f19-af36-1e080fe0dc5c",
   "metadata": {},
   "outputs": [],
   "source": []
  },
  {
   "cell_type": "code",
   "execution_count": null,
   "id": "6f5a2548-46a5-4750-b7c6-d1ffe04718a1",
   "metadata": {},
   "outputs": [],
   "source": []
  },
  {
   "cell_type": "code",
   "execution_count": null,
   "id": "bab8bd01-cf87-4620-88c4-e194eb3302d4",
   "metadata": {},
   "outputs": [],
   "source": []
  }
 ],
 "metadata": {
  "kernelspec": {
   "display_name": "Python 3 (ipykernel)",
   "language": "python",
   "name": "python3"
  },
  "language_info": {
   "codemirror_mode": {
    "name": "ipython",
    "version": 3
   },
   "file_extension": ".py",
   "mimetype": "text/x-python",
   "name": "python",
   "nbconvert_exporter": "python",
   "pygments_lexer": "ipython3",
   "version": "3.13.1"
  }
 },
 "nbformat": 4,
 "nbformat_minor": 5
}
