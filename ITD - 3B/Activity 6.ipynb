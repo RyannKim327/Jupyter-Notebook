{
 "cells": [
  {
   "cell_type": "raw",
   "id": "4193395c-2d6d-4547-b919-ffe79cea9554",
   "metadata": {},
   "source": [
    "pip install folium"
   ]
  },
  {
   "cell_type": "code",
   "execution_count": null,
   "id": "fc01016e-44a4-4833-92c2-b9c6354b9b7b",
   "metadata": {},
   "outputs": [],
   "source": [
    "import folium, pandas as pd, numpy as np, warnings\n",
    "from folium.plugins import HeatMap\n",
    "\n",
    "warnings.filterwarnings(\"ignore\")"
   ]
  },
  {
   "cell_type": "code",
   "execution_count": null,
   "id": "179c7399-e240-4581-9432-850977b91cc2",
   "metadata": {
    "scrolled": true
   },
   "outputs": [],
   "source": [
    "data = pd.read_csv(\"datasets/Global_terrorist.csv\", encoding=\"ISO-8859-1\")\n",
    "data"
   ]
  },
  {
   "cell_type": "code",
   "execution_count": null,
   "id": "fc3a2b48-5394-43f8-97d4-4b62009dc199",
   "metadata": {},
   "outputs": [],
   "source": [
    "sea = data[data['region_txt'] == 'Southeast Asia']\n",
    "sea.dtypes"
   ]
  },
  {
   "cell_type": "code",
   "execution_count": null,
   "id": "fd427c3c-f904-4998-9eee-117c0ebda8ed",
   "metadata": {
    "scrolled": true
   },
   "outputs": [],
   "source": [
    "sea_bomb = ph[ph['attacktype1_txt'] == 'Assassination']\n",
    "sea_bomb"
   ]
  },
  {
   "cell_type": "code",
   "execution_count": null,
   "id": "e8114043-8327-4b2f-a02e-a98e3642a06e",
   "metadata": {
    "scrolled": true
   },
   "outputs": [],
   "source": [
    "sea_2 = sea_bomb.groupby(['latitude', 'longitude']).size().reset_index(name=\"incident_count\")\n",
    "\n",
    "sea_2_list = sea_2[['latitude', 'longitude','incident_count']].values.tolist()\n",
    "sea_2_list"
   ]
  },
  {
   "cell_type": "code",
   "execution_count": null,
   "id": "5e40ff0f-fef9-42a2-a196-0824bab82c36",
   "metadata": {},
   "outputs": [],
   "source": [
    "m = folium.Map(location=[17, 121], zoom_start=5)\n",
    "HeatMap(sea_2_list).add_to(m)\n",
    "\n",
    "m"
   ]
  }
 ],
 "metadata": {
  "kernelspec": {
   "display_name": "Python 3 (ipykernel)",
   "language": "python",
   "name": "python3"
  },
  "language_info": {
   "codemirror_mode": {
    "name": "ipython",
    "version": 3
   },
   "file_extension": ".py",
   "mimetype": "text/x-python",
   "name": "python",
   "nbconvert_exporter": "python",
   "pygments_lexer": "ipython3",
   "version": "3.12.7"
  }
 },
 "nbformat": 4,
 "nbformat_minor": 5
}
