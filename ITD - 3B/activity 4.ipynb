{
 "cells": [
  {
   "cell_type": "markdown",
   "id": "8d4a92f3-5359-4ca9-818a-f0192e7f03c5",
   "metadata": {},
   "source": [
    "# Accident Data\n",
    "### Analyst: Ryann Kim Sesgundo"
   ]
  },
  {
   "cell_type": "markdown",
   "id": "767a1b8a-993d-42f8-8954-11581b1c3527",
   "metadata": {},
   "source": [
    "#### Import dependencies"
   ]
  },
  {
   "cell_type": "code",
   "execution_count": null,
   "id": "0f45e926-1ece-4d6d-8f2f-ad1528794bc8",
   "metadata": {},
   "outputs": [],
   "source": [
    "import pandas as pd, numpy as np, seaborn as sns, matplotlib.pyplot as plt\n",
    "from scipy.stats import f_oneway\n",
    "import warnings\n",
    "warnings.filterwarnings('ignore')"
   ]
  },
  {
   "cell_type": "code",
   "execution_count": null,
   "id": "b3c3ebf9-7dac-48c6-8c73-8cdd19cef8db",
   "metadata": {},
   "outputs": [],
   "source": [
    "data = pd.read_csv(\"datasets/accident_data.csv\")"
   ]
  },
  {
   "cell_type": "code",
   "execution_count": null,
   "id": "95b601a1-42fa-440e-bcc5-ad01dad8951a",
   "metadata": {},
   "outputs": [],
   "source": [
    "data.dtypes"
   ]
  },
  {
   "cell_type": "code",
   "execution_count": null,
   "id": "b9e58bfb-a0d7-455d-9fee-867614339d29",
   "metadata": {},
   "outputs": [],
   "source": [
    "data.isnull().sum()"
   ]
  },
  {
   "cell_type": "code",
   "execution_count": null,
   "id": "d3d20b45-9673-4337-8f4f-9bd98a25883e",
   "metadata": {},
   "outputs": [],
   "source": [
    "data['Latitude'] = data['Latitude'].astype('category')\n",
    "data['Longitude'] = data['Longitude'].astype('category')\n",
    "\n",
    "data['Latitude'] = data['Latitude'].fillna(data['Latitude'].mode()[0])\n",
    "data['Longitude'] = data['Longitude'].fillna(data['Longitude'].mode()[0])\n",
    "data['Road_Surface_Conditions'] = data['Road_Surface_Conditions'].fillna(data['Road_Surface_Conditions'].mode()[0])\n",
    "data['Urban_or_Rural_Area'] = data['Urban_or_Rural_Area'].fillna(data['Urban_or_Rural_Area'].mode()[0])\n",
    "data['Road_Type'] = data['Road_Type'].fillna('Unknown Road Type')\n",
    "data['Weather_Conditions'] = data['Weather_Conditions'].fillna('Unknown Weather Conditions')"
   ]
  },
  {
   "cell_type": "code",
   "execution_count": null,
   "id": "5170b9bd-d36b-4426-af16-080246ecbf0d",
   "metadata": {},
   "outputs": [],
   "source": [
    "# If ever, convert first to string then convert back to Date Time\n",
    "data['Accident Date'] = data['Accident Date'].astype(\"str\")\n",
    "data['Accident Date'] = data['Accident Date'].str.strip()\n",
    "data['Accident Date'] = data['Accident Date'].str.replace('/', '-')"
   ]
  },
  {
   "cell_type": "code",
   "execution_count": null,
   "id": "9c5ee021-ae5c-4d18-a629-6f70ef5fb2e4",
   "metadata": {},
   "outputs": [],
   "source": [
    "data['Accident Date'] = pd.to_datetime(data['Accident Date'], dayfirst=True, errors='coerce')"
   ]
  },
  {
   "cell_type": "code",
   "execution_count": null,
   "id": "9850ea47-1a16-41e4-b990-7fb8388e909e",
   "metadata": {},
   "outputs": [],
   "source": [
    "data['Accident_Severity'] = data['Accident_Severity'].astype('category')\n",
    "data['Light_Conditions'] = data['Light_Conditions'].astype('category')\n",
    "data['District Area'] = data['District Area'].astype('category')\n",
    "data['Road_Surface_Conditions'] = data['Road_Surface_Conditions'].astype('category')\n",
    "data['Road_Type'] = data['Road_Type'].astype('category')\n",
    "data['Urban_or_Rural_Area'] = data['Urban_or_Rural_Area'].astype('category')\n",
    "data['Weather_Conditions'] = data['Weather_Conditions'].astype('category')\n",
    "data['Vehicle_Type'] = data['Vehicle_Type'].astype('category')\n"
   ]
  },
  {
   "cell_type": "code",
   "execution_count": null,
   "id": "068c94ca-48b0-48cc-ada2-c6e090206c6b",
   "metadata": {},
   "outputs": [],
   "source": [
    "data.dtypes"
   ]
  },
  {
   "cell_type": "code",
   "execution_count": null,
   "id": "f1a99db5-9c1d-46b0-ac85-57009e051872",
   "metadata": {},
   "outputs": [],
   "source": [
    "data.isnull().sum()"
   ]
  },
  {
   "cell_type": "markdown",
   "id": "ac07889c-412e-49c7-aa94-442c42936917",
   "metadata": {},
   "source": [
    "### Adding more fields"
   ]
  },
  {
   "cell_type": "code",
   "execution_count": null,
   "id": "c7ec9317-1f84-4548-abd9-61700f850b99",
   "metadata": {},
   "outputs": [],
   "source": [
    "data['Year'] = data['Accident Date'].dt.year\n",
    "data['Month'] = data['Accident Date'].dt.month\n",
    "data['DayOfWeek'] = data['Accident Date'].dt.dayofweek\n",
    "\n",
    "\n",
    "data['Month'] = data['Month'].astype('category')\n",
    "data['DayOfWeek'] = data['DayOfWeek'].astype('category')\n",
    "data['Year'] = data['Year'].astype('category')\n",
    "data.info()"
   ]
  },
  {
   "cell_type": "markdown",
   "id": "fe99b94d-c003-45fc-9f40-c0f7aac175c5",
   "metadata": {},
   "source": [
    "# Analyzation Starts here"
   ]
  },
  {
   "cell_type": "code",
   "execution_count": null,
   "id": "edd21522-28b5-4180-8760-7ff5e81abab2",
   "metadata": {},
   "outputs": [],
   "source": [
    "# TODO: Create a percentage function\n",
    "def percent(value, total = 0):\n",
    "    if total == 0:\n",
    "        total = data.value_counts().sum()\n",
    "    return f\"{np.round(((value / total) * 100), 2)}%\"\n",
    "\n",
    "months = [ \"\",\n",
    "    \"January\", \"Febuary\", \"March\", \"April\", \"May\", \"June\",\n",
    "    \"July\", \"August\", \"September\", \"October\", \"November\", \"December\"\n",
    "]\n",
    "\n",
    "months_dict = {\n",
    "    1: \"January\", 2: \"Febuary\", 3: \"March\", 4: \"April\", 5: \"May\", 6:\"June\",\n",
    "    7: \"July\", 8: \"August\", 9: \"September\", 10: \"October\", 11: \"November\", 12: \"December\"\n",
    "}\n",
    "\n",
    "\n",
    "days = [\"Monday\", \"Tuesday\", \"Wednesday\", \"Thursday\", \"Friday\", \"Saturday\", \"Sunday\"]\n",
    "\n",
    "days_dict = {\n",
    "    0: \"Monday\", 1: \"Tuesday\", 2: \"Wednesday\", 3: \"Thursday\", 4: \"Friday\", 5: \"Saturday\", 6: \"Sunday\"\n",
    "}"
   ]
  },
  {
   "cell_type": "markdown",
   "id": "c673be78-4c4b-448f-a0d0-95c9eb68c7a8",
   "metadata": {},
   "source": [
    "### 1. Common Weather Conditions"
   ]
  },
  {
   "cell_type": "code",
   "execution_count": null,
   "id": "09da1652-bed5-4330-b33c-abf9fdbfca32",
   "metadata": {},
   "outputs": [],
   "source": [
    "weather_condition = data['Weather_Conditions'].value_counts()\n",
    "\n",
    "weather_condition.plot(kind='bar')\n",
    "plt.show()\n",
    "\n",
    "weather_condition"
   ]
  },
  {
   "cell_type": "code",
   "execution_count": null,
   "id": "91d0bc41-4776-4a94-9e54-a391066ef7c0",
   "metadata": {},
   "outputs": [],
   "source": [
    "weather = data[data['Weather_Conditions'] == data['Weather_Conditions'].mode()[0]].value_counts().sum()\n",
    "weather"
   ]
  },
  {
   "cell_type": "code",
   "execution_count": null,
   "id": "96678819-541b-4130-8d33-40d93c5f7943",
   "metadata": {},
   "outputs": [],
   "source": [
    "percent(value=weather)"
   ]
  },
  {
   "cell_type": "markdown",
   "id": "614a5b34-5de0-40b4-8e46-a6e2bb54dd02",
   "metadata": {},
   "source": [
    "### The highest accident rate with the weather condition is `Fine no high winds` with `660679` or `78.84%` of the entire record records."
   ]
  },
  {
   "cell_type": "markdown",
   "id": "ef21e646-fcdd-4aab-9f01-38743b074cbb",
   "metadata": {},
   "source": [
    "### 2. Common Vehicle"
   ]
  },
  {
   "cell_type": "code",
   "execution_count": null,
   "id": "ee41e757-1dec-480d-8394-50403da13411",
   "metadata": {},
   "outputs": [],
   "source": [
    "vehicle_type = data['Vehicle_Type'].value_counts()\n",
    "\n",
    "vehicle_type.plot(kind=\"bar\")\n",
    "plt.show()\n",
    "\n",
    "vehicle_type"
   ]
  },
  {
   "cell_type": "code",
   "execution_count": null,
   "id": "e6703eb9-dfbb-41fa-a87f-0141c47db73f",
   "metadata": {},
   "outputs": [],
   "source": [
    "vehicle_count = data[data['Vehicle_Type'] == data['Vehicle_Type'].mode()[0]].value_counts().sum()\n",
    "vehicle_count"
   ]
  },
  {
   "cell_type": "code",
   "execution_count": null,
   "id": "7aed2159-a0e6-406b-937e-394d0ae25f04",
   "metadata": {},
   "outputs": [],
   "source": [
    "percent(vehicle_count)"
   ]
  },
  {
   "cell_type": "markdown",
   "id": "7b05cf40-da9b-4c3e-a85d-ce5d96a81f68",
   "metadata": {},
   "source": [
    "### The highest Vehicle type involved in accident recorded is `Car` with the count of `497992` or `75.38%` of the entire record.\n"
   ]
  },
  {
   "cell_type": "markdown",
   "id": "dc3ea6d0-0501-46b5-93a2-95e978f8ed50",
   "metadata": {},
   "source": [
    "### 3. Is there's a relationship of Weather Conditions and Vehicle Type in count of accident\n"
   ]
  },
  {
   "cell_type": "code",
   "execution_count": null,
   "id": "fc68715f-873f-45d9-a01c-e23cea189afd",
   "metadata": {},
   "outputs": [],
   "source": [
    "\n",
    "vehicle_ = data.groupby(['Vehicle_Type', 'Weather_Conditions']).size().unstack()\n",
    "\n",
    "vehicle_.plot(kind=\"bar\", stacked=True)\n",
    "plt.legend(loc='upper right', bbox_to_anchor=(1.2, 1), fontsize=10)\n",
    "plt.show()\n",
    "vehicle_"
   ]
  },
  {
   "cell_type": "markdown",
   "id": "6e4d6aca-1821-47d0-8161-57ba3ecc2d69",
   "metadata": {},
   "source": [
    "### 4. Area with highest accident rate\n",
    "#### Rural or Urban"
   ]
  },
  {
   "cell_type": "code",
   "execution_count": null,
   "id": "4de15e95-69a8-4855-801f-05bda8600d8a",
   "metadata": {},
   "outputs": [],
   "source": [
    "u_r = data['Urban_or_Rural_Area'].value_counts()\n",
    "\n",
    "u_r.plot(kind=\"pie\")\n",
    "plt.legend(loc='upper right', bbox_to_anchor=(1.2, 1), fontsize=10)\n",
    "plt.show()\n",
    "\n",
    "u_r"
   ]
  },
  {
   "cell_type": "code",
   "execution_count": null,
   "id": "cd3c8d2a-94c1-4f64-bbb0-5e20abf71116",
   "metadata": {},
   "outputs": [],
   "source": [
    "u_r_c = data[data['Urban_or_Rural_Area'] == data['Urban_or_Rural_Area'].mode()[0]].value_counts().sum()\n",
    "u_r_c"
   ]
  },
  {
   "cell_type": "code",
   "execution_count": null,
   "id": "57f5a1db-c4ad-40bf-aa78-cca4a2abf8ca",
   "metadata": {},
   "outputs": [],
   "source": [
    "percent(u_r_c)"
   ]
  },
  {
   "cell_type": "markdown",
   "id": "40d758d2-2fa9-4403-82c3-6fb3aae82d2c",
   "metadata": {},
   "source": [
    "### Most accident happened in `Urban Areas`, with data recorded `421678` or `63.82%` of the entire record."
   ]
  },
  {
   "cell_type": "markdown",
   "id": "d91bb36e-a551-4007-8700-62cea6812258",
   "metadata": {},
   "source": [
    "### 5. Date with highest accident rate"
   ]
  },
  {
   "cell_type": "code",
   "execution_count": null,
   "id": "a2ea2cc5-0e88-44ab-a539-6a8df7bf520a",
   "metadata": {},
   "outputs": [],
   "source": [
    "accident_date = data['Accident Date'].mode()[0]\n",
    "accident_date"
   ]
  },
  {
   "cell_type": "markdown",
   "id": "43ca08c2-306d-4759-a666-0dfc33395d8a",
   "metadata": {},
   "source": [
    "### 6. Accident rate based on result from #5"
   ]
  },
  {
   "cell_type": "code",
   "execution_count": null,
   "id": "ebed8118-1855-477d-ac31-9668ae08650e",
   "metadata": {},
   "outputs": [],
   "source": [
    "### Using the earlier data, where it gives the data how many are the accidents recorded with this date\n",
    "data[data['Accident Date'] == accident_date].value_counts().sum()"
   ]
  },
  {
   "cell_type": "markdown",
   "id": "24d3b778-a37d-4f81-82e2-6f0ee1075b50",
   "metadata": {},
   "source": [
    "### 7. Common District Area Involve (TOP 10)"
   ]
  },
  {
   "cell_type": "code",
   "execution_count": null,
   "id": "368cd39a-97d3-48cc-8ab2-87905671355f",
   "metadata": {},
   "outputs": [],
   "source": [
    "district_data = data['District Area'].value_counts()\n",
    "\n",
    "district_data.sort_values()\n",
    "district_data = district_data[:10]\n",
    "district_data.plot(kind=\"bar\")\n",
    "plt.legend(loc='upper right', bbox_to_anchor=(1.2, 1), fontsize=10)\n",
    "plt.show()\n",
    "\n",
    "district_data"
   ]
  },
  {
   "cell_type": "markdown",
   "id": "472cfb7f-98e8-4ae4-b866-bdd4a4859786",
   "metadata": {},
   "source": [
    "### 8. Common weather where the accidents in Common District Area Involve"
   ]
  },
  {
   "cell_type": "code",
   "execution_count": null,
   "id": "87b977e1-bcb2-411f-a804-eafa49c2bff4",
   "metadata": {},
   "outputs": [],
   "source": [
    "weather_x_district = data[data['District Area'] == data['District Area'].mode()[0]]['Weather_Conditions'].mode()[0]\n",
    "weather_x_district"
   ]
  },
  {
   "cell_type": "code",
   "execution_count": null,
   "id": "e50157ed-d463-46e5-b0f5-266530ec1e84",
   "metadata": {},
   "outputs": [],
   "source": [
    "\n",
    "wxd = data[data['District Area'] == 'Birmingham']\n",
    "wxd = wxd['Weather_Conditions'].value_counts()\n",
    "\n",
    "wxd.plot(kind=\"bar\")\n",
    "plt.show()\n",
    "wxd"
   ]
  },
  {
   "cell_type": "markdown",
   "id": "a18dc285-5fb1-425b-9671-87af769cabbc",
   "metadata": {},
   "source": [
    "### 9. Most Common Vehicle Involve"
   ]
  },
  {
   "cell_type": "code",
   "execution_count": null,
   "id": "80955349-1d84-48e7-a56b-b3befc7f83c4",
   "metadata": {},
   "outputs": [],
   "source": [
    "vehicles_x_weather_x_district = data[(data['District Area'] == data['District Area'].mode()[0]) & (data['Weather_Conditions'] == weather_x_district)]\n",
    "vehicles_x_weather_x_district['Vehicle_Type'].mode()[0]\n",
    "\n",
    "vehicles_x_weather_x_district['Vehicle_Type'].value_counts().plot(kind=\"bar\")\n",
    "plt.show()"
   ]
  },
  {
   "cell_type": "markdown",
   "id": "d3cf5810-13ab-408b-b9ca-7e959db16118",
   "metadata": {},
   "source": [
    "### 10. Average Accident rate in Urban and Rural Area"
   ]
  },
  {
   "cell_type": "code",
   "execution_count": null,
   "id": "73a3ef9c-3d74-4926-8499-976db850e45e",
   "metadata": {},
   "outputs": [],
   "source": [
    "rural_data = data[data['Urban_or_Rural_Area'] == 'Rural'].value_counts().sum()\n",
    "rural_data"
   ]
  },
  {
   "cell_type": "code",
   "execution_count": null,
   "id": "b7c7013f-aa4f-4de5-9464-a4d671e2d748",
   "metadata": {},
   "outputs": [],
   "source": [
    "urban_data = data[data['Urban_or_Rural_Area'] == 'Urban'].value_counts().sum()\n",
    "urban_data"
   ]
  },
  {
   "cell_type": "code",
   "execution_count": null,
   "id": "ec3e092e-1e0d-458b-b901-cca9f3cf332d",
   "metadata": {},
   "outputs": [],
   "source": [
    "rulban = data['Urban_or_Rural_Area'].value_counts()\n",
    "rulban.plot(kind=\"pie\")\n",
    "plt.show()"
   ]
  },
  {
   "cell_type": "code",
   "execution_count": null,
   "id": "25e51f1f-3a54-4a08-918c-5e71bc12230a",
   "metadata": {},
   "outputs": [],
   "source": [
    "percent(rural_data)"
   ]
  },
  {
   "cell_type": "code",
   "execution_count": null,
   "id": "27169a25-8ee4-4e58-8ab2-87e8d304010e",
   "metadata": {},
   "outputs": [],
   "source": [
    "percent(urban_data)"
   ]
  },
  {
   "cell_type": "markdown",
   "id": "9d329f48-6418-4369-89f7-61ef027430b9",
   "metadata": {},
   "source": [
    "### There's more accident in `Urban areas` which has the count of `421678` or `63.82%` of the entire record rather than the `Rural areas` which as `238990` or `36.17` of the entire record."
   ]
  },
  {
   "cell_type": "markdown",
   "id": "748ca436-5788-42b5-8d36-35a101648c95",
   "metadata": {},
   "source": [
    "### 11. Common Day of Week Accident"
   ]
  },
  {
   "cell_type": "code",
   "execution_count": null,
   "id": "902925dc-2910-4c0c-b5b8-1379810ca8df",
   "metadata": {},
   "outputs": [],
   "source": [
    "day = data['DayOfWeek'].mode()\n",
    "days[day[0]]\n",
    "\n",
    "datannn = data\n",
    "datannn['DayOfWeek'] = datannn['DayOfWeek'].map(days_dict)\n",
    "datannn['DayOfWeek'].value_counts().plot(kind=\"bar\")\n",
    "plt.show()"
   ]
  },
  {
   "cell_type": "code",
   "execution_count": null,
   "id": "97dbf854-d7fd-4a75-b2e6-c2b2eaa7ad44",
   "metadata": {},
   "outputs": [],
   "source": [
    "days = data['DayOfWeek']\n"
   ]
  },
  {
   "cell_type": "markdown",
   "id": "862f0245-9759-4ae0-9667-a15268ea6751",
   "metadata": {},
   "source": [
    "### 12. Most common weather in every accident with each months"
   ]
  },
  {
   "cell_type": "code",
   "execution_count": null,
   "id": "38954425-cdd5-40a6-a02c-05417279388c",
   "metadata": {},
   "outputs": [],
   "source": [
    "data.groupby(['Weather_Conditions', 'Month']).size().unstack()"
   ]
  },
  {
   "cell_type": "code",
   "execution_count": null,
   "id": "baa0448e-3d4f-42b7-b714-f37fc79ca48e",
   "metadata": {},
   "outputs": [],
   "source": [
    "data__ = data"
   ]
  },
  {
   "cell_type": "code",
   "execution_count": null,
   "id": "3ccd18d0-040c-4cd5-8880-9242637c0eec",
   "metadata": {},
   "outputs": [],
   "source": [
    "data__['Month'] = data__['Month'].map(months_dict)\n",
    "\n",
    "__ = data__.groupby(['Weather_Conditions', 'Month']).size().unstack()\n",
    "__.plot(kind=\"bar\", stacked=True)\n",
    "plt.show()"
   ]
  },
  {
   "cell_type": "markdown",
   "id": "de0bf6cf-d295-486d-85ce-55d0ddb55060",
   "metadata": {},
   "source": [
    "### 13. Year with Highest Accident Rate"
   ]
  },
  {
   "cell_type": "code",
   "execution_count": null,
   "id": "8a275277-3c91-4a7a-b317-4c392a30f834",
   "metadata": {},
   "outputs": [],
   "source": [
    "h_year = data['Year'].value_counts()\n",
    "h_year.plot(kind=\"bar\")\n",
    "plt.show()"
   ]
  },
  {
   "cell_type": "markdown",
   "id": "26ef9b7e-ea0f-4d4a-8506-4e078d28e0de",
   "metadata": {},
   "source": [
    "### 14. Month with Highest accident rate in Year 2020"
   ]
  },
  {
   "cell_type": "code",
   "execution_count": null,
   "id": "8658fda0-8d72-41cf-bb84-151c9704287b",
   "metadata": {},
   "outputs": [],
   "source": [
    "month_2020 = data[data['Year'] == 2020]['Month'].mode()[0]\n",
    "month_2020"
   ]
  },
  {
   "cell_type": "code",
   "execution_count": null,
   "id": "a91030b6-ee0d-4a24-96c6-9f48b7b96a05",
   "metadata": {},
   "outputs": [],
   "source": [
    "# Accident rate un year 2020\n",
    "\n",
    "_2020 = data.groupby(['Month', 'Year']).size().unstack()\n",
    "\n",
    "# _2020.plot(kind='line')\n",
    "# plt.plot(_2020.size().unstack(), marker=\"o\")\n",
    "_2020.plot(kind=\"line\", marker=\"o\")\n",
    "# plt.xticks(ticks=_2020['Month'], labels=months)\n",
    "plt.legend(loc='upper right', fontsize=10)\n",
    "plt.xlabel(\"Months\")\n",
    "plt.title(\"Monthly Data Representation\")\n",
    "plt.gcf().set_size_inches(13, 9)\n",
    "plt.show()\n",
    "# _2020['Month'].unique()"
   ]
  },
  {
   "cell_type": "markdown",
   "id": "74a55aae-ad7c-4401-882c-ebd09d198386",
   "metadata": {},
   "source": [
    "### 15. Month with highest accident rate in Year 2021"
   ]
  },
  {
   "cell_type": "code",
   "execution_count": null,
   "id": "16a57f5c-83e1-4578-aede-68a6bd4ed1a7",
   "metadata": {},
   "outputs": [],
   "source": [
    "month_2021 = data[data['Year'] == 2021]['Month'].mode()[0]\n",
    "months[month_2021]"
   ]
  },
  {
   "cell_type": "code",
   "execution_count": null,
   "id": "57b8b5b1-889f-427a-961f-05be54003630",
   "metadata": {},
   "outputs": [],
   "source": [
    "month_2021 = data[data['Year'] == 2021]['Month'].value_counts()\n",
    "\n",
    "month_2021.index = month_2021.index.map(months_dict)\n",
    "# plt.bar(x=month_2019.index, height=month_2019)\n",
    "month_2021.plot(kind='bar')\n",
    "plt.xlabel(\"Months\")\n",
    "# plt.xticks(rotate=90, ha='center')\n",
    "plt.show()\n"
   ]
  },
  {
   "cell_type": "markdown",
   "id": "5dda19cd-dc0e-45e7-b88d-21dc8e504bbc",
   "metadata": {},
   "source": [
    "### 16. Month with highest accident rate in year 2022"
   ]
  },
  {
   "cell_type": "code",
   "execution_count": null,
   "id": "8511a8b0-92c8-4ac8-8e42-125ae9e500bb",
   "metadata": {},
   "outputs": [],
   "source": [
    "month_2022 = data[data['Year'] == 2022]['Month'].mode()[0]\n",
    "months[month_2022]"
   ]
  },
  {
   "cell_type": "code",
   "execution_count": null,
   "id": "45524565-488c-4dde-a033-d9fce54627b2",
   "metadata": {},
   "outputs": [],
   "source": [
    "month_2022 = data[data['Year'] == 2022]['Month'].value_counts()\n",
    "\n",
    "month_2022.index = month_2022.index.map(months_dict)\n",
    "# plt.bar(x=month_2019.index, height=month_2019)\n",
    "month_2022.plot(kind='bar')\n",
    "plt.xlabel(\"Months\")\n",
    "# plt.xticks(rotate=90, ha='center')\n",
    "plt.show()\n"
   ]
  },
  {
   "cell_type": "markdown",
   "id": "be89593e-ff0c-4db2-889a-4592e68eb88f",
   "metadata": {},
   "source": [
    "### 17. Highest casualty in an accident"
   ]
  },
  {
   "cell_type": "code",
   "execution_count": null,
   "id": "c95a5300-6ce9-44ae-a134-ae76a8ab4f86",
   "metadata": {},
   "outputs": [],
   "source": [
    "data['Number_of_Casualties'].max()"
   ]
  },
  {
   "cell_type": "markdown",
   "id": "2d59e6bc-a4ed-4353-850c-2dcb60c160aa",
   "metadata": {},
   "source": [
    "### 18. Road type with highest accident rate"
   ]
  },
  {
   "cell_type": "code",
   "execution_count": null,
   "id": "c639a271-1061-4d34-872a-0bcba14d3bb7",
   "metadata": {},
   "outputs": [],
   "source": [
    "rt = data['Road_Type'].mode()[0]\n",
    "rt"
   ]
  },
  {
   "cell_type": "code",
   "execution_count": null,
   "id": "7d8208eb-ebf1-4344-b516-68453f708e5c",
   "metadata": {},
   "outputs": [],
   "source": [
    "rtype = data['Road_Type'].value_counts()\n",
    "\n",
    "rtype.plot(kind=\"bar\")\n",
    "plt.show()"
   ]
  },
  {
   "cell_type": "code",
   "execution_count": null,
   "id": "e7185eb8-c870-4a7f-8a98-b16608317c22",
   "metadata": {},
   "outputs": [],
   "source": [
    "rtc = data[data['Road_Type'] == rt].value_counts().sum()\n",
    "rtc"
   ]
  },
  {
   "cell_type": "code",
   "execution_count": null,
   "id": "2df7d30f-305a-4b1f-b0d1-4518b34896c0",
   "metadata": {},
   "outputs": [],
   "source": [
    "percent(rtc)"
   ]
  },
  {
   "cell_type": "markdown",
   "id": "1d066e52-5c8d-4e44-baa3-9668eb8c66d6",
   "metadata": {},
   "source": [
    "### The most common `Road Type` is `Single Carriageway` which has `492143` or `74.49%` of the entire data."
   ]
  },
  {
   "cell_type": "markdown",
   "id": "292acce2-747a-46e5-81da-46cd2b86ddba",
   "metadata": {},
   "source": [
    "### 19. Is there's any relationship between the Road Type and the Casualty"
   ]
  },
  {
   "cell_type": "code",
   "execution_count": null,
   "id": "3eb2d77d-6705-4597-b9b5-819c209e1a56",
   "metadata": {},
   "outputs": [],
   "source": [
    "data.groupby(['Number_of_Casualties', 'Road_Type']).size().unstack()"
   ]
  },
  {
   "cell_type": "code",
   "execution_count": null,
   "id": "87a37d41-a97f-4f21-aba5-af02ccbfdf9c",
   "metadata": {},
   "outputs": [],
   "source": [
    "casualites = data.groupby(['Number_of_Casualties', 'Road_Type']).count()\n",
    "casualites.plot(kind=\"bar\")\n",
    "plt.show()\n",
    "# casualites"
   ]
  },
  {
   "cell_type": "markdown",
   "id": "85c5f7d9-067c-45d7-8319-3e08de7397ef",
   "metadata": {},
   "source": [
    "### 20. Months with highest accidents in year 2019"
   ]
  },
  {
   "cell_type": "code",
   "execution_count": null,
   "id": "bb2211e6-5105-4ba8-9ac3-6c7153b3d347",
   "metadata": {},
   "outputs": [],
   "source": [
    "month_2019 = data[data['Year'] == 2019]['Month'].value_counts()\n",
    "\n",
    "month_2019.index = month_2019.index.map(months_dict)\n",
    "# plt.bar(x=month_2019.index, height=month_2019)\n",
    "month_2019.plot(kind='bar')\n",
    "plt.xlabel(\"Months\")\n",
    "# plt.xticks(rotate=90, ha='center')\n",
    "plt.show()\n"
   ]
  },
  {
   "cell_type": "code",
   "execution_count": null,
   "id": "e0644347-c2f2-429c-be33-5136d4abc1e0",
   "metadata": {},
   "outputs": [],
   "source": []
  },
  {
   "cell_type": "code",
   "execution_count": null,
   "id": "aa2d6571-dc8b-4954-8703-8af06b8b2d3e",
   "metadata": {},
   "outputs": [],
   "source": []
  }
 ],
 "metadata": {
  "kernelspec": {
   "display_name": "Python 3 (ipykernel)",
   "language": "python",
   "name": "python3"
  },
  "language_info": {
   "codemirror_mode": {
    "name": "ipython",
    "version": 3
   },
   "file_extension": ".py",
   "mimetype": "text/x-python",
   "name": "python",
   "nbconvert_exporter": "python",
   "pygments_lexer": "ipython3",
   "version": "3.13.1"
  }
 },
 "nbformat": 4,
 "nbformat_minor": 5
}
