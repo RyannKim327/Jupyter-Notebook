{
 "cells": [
  {
   "cell_type": "markdown",
   "id": "8d4a92f3-5359-4ca9-818a-f0192e7f03c5",
   "metadata": {},
   "source": [
    "# Accident Data\n",
    "### Analyst: Ryann Kim Sesgundo"
   ]
  },
  {
   "cell_type": "markdown",
   "id": "767a1b8a-993d-42f8-8954-11581b1c3527",
   "metadata": {},
   "source": [
    "#### Import dependencies"
   ]
  },
  {
   "cell_type": "code",
   "execution_count": 1,
   "id": "0f45e926-1ece-4d6d-8f2f-ad1528794bc8",
   "metadata": {},
   "outputs": [],
   "source": [
    "import pandas as pd, numpy as np, seaborn as sns, matplotlib.pyplot as plt\n",
    "from scipy.stats import f_oneway\n",
    "import warnings\n",
    "warnings.filterwarnings('ignore')"
   ]
  },
  {
   "cell_type": "code",
   "execution_count": 2,
   "id": "b3c3ebf9-7dac-48c6-8c73-8cdd19cef8db",
   "metadata": {},
   "outputs": [],
   "source": [
    "data = pd.read_csv(\"datasets/accident_data.csv\")"
   ]
  },
  {
   "cell_type": "code",
   "execution_count": 3,
   "id": "95b601a1-42fa-440e-bcc5-ad01dad8951a",
   "metadata": {},
   "outputs": [
    {
     "data": {
      "text/plain": [
       "Index                       object\n",
       "Accident_Severity           object\n",
       "Accident Date               object\n",
       "Latitude                   float64\n",
       "Light_Conditions            object\n",
       "District Area               object\n",
       "Longitude                  float64\n",
       "Number_of_Casualties         int64\n",
       "Number_of_Vehicles           int64\n",
       "Road_Surface_Conditions     object\n",
       "Road_Type                   object\n",
       "Urban_or_Rural_Area         object\n",
       "Weather_Conditions          object\n",
       "Vehicle_Type                object\n",
       "dtype: object"
      ]
     },
     "execution_count": 3,
     "metadata": {},
     "output_type": "execute_result"
    }
   ],
   "source": [
    "data.dtypes"
   ]
  },
  {
   "cell_type": "code",
   "execution_count": 4,
   "id": "b9e58bfb-a0d7-455d-9fee-867614339d29",
   "metadata": {},
   "outputs": [
    {
     "data": {
      "text/plain": [
       "Index                          0\n",
       "Accident_Severity              0\n",
       "Accident Date                  0\n",
       "Latitude                      25\n",
       "Light_Conditions               0\n",
       "District Area                  0\n",
       "Longitude                     26\n",
       "Number_of_Casualties           0\n",
       "Number_of_Vehicles             0\n",
       "Road_Surface_Conditions      726\n",
       "Road_Type                   4520\n",
       "Urban_or_Rural_Area           15\n",
       "Weather_Conditions         14128\n",
       "Vehicle_Type                   0\n",
       "dtype: int64"
      ]
     },
     "execution_count": 4,
     "metadata": {},
     "output_type": "execute_result"
    }
   ],
   "source": [
    "data.isnull().sum()"
   ]
  },
  {
   "cell_type": "code",
   "execution_count": 5,
   "id": "d3d20b45-9673-4337-8f4f-9bd98a25883e",
   "metadata": {},
   "outputs": [],
   "source": [
    "data['Latitude'] = data['Latitude'].astype('category')\n",
    "data['Longitude'] = data['Longitude'].astype('category')\n",
    "\n",
    "data['Latitude'] = data['Latitude'].fillna(data['Latitude'].mode()[0])\n",
    "data['Longitude'] = data['Longitude'].fillna(data['Longitude'].mode()[0])\n",
    "data['Road_Surface_Conditions'] = data['Road_Surface_Conditions'].fillna(data['Road_Surface_Conditions'].mode()[0])\n",
    "data['Urban_or_Rural_Area'] = data['Urban_or_Rural_Area'].fillna(data['Urban_or_Rural_Area'].mode()[0])\n",
    "data['Road_Type'] = data['Road_Type'].fillna('Unknown Road Type')\n",
    "data['Weather_Conditions'] = data['Weather_Conditions'].fillna('Unknown Weather Conditions')"
   ]
  },
  {
   "cell_type": "code",
   "execution_count": 6,
   "id": "5170b9bd-d36b-4426-af16-080246ecbf0d",
   "metadata": {},
   "outputs": [],
   "source": [
    "# If ever, convert first to string then convert back to Date Time\n",
    "data['Accident Date'] = data['Accident Date'].astype(\"str\")\n",
    "data['Accident Date'] = data['Accident Date'].str.strip()\n",
    "data['Accident Date'] = data['Accident Date'].str.replace('/', '-')"
   ]
  },
  {
   "cell_type": "code",
   "execution_count": 7,
   "id": "9c5ee021-ae5c-4d18-a629-6f70ef5fb2e4",
   "metadata": {},
   "outputs": [],
   "source": [
    "data['Accident Date'] = pd.to_datetime(data['Accident Date'], dayfirst=True, errors='coerce')"
   ]
  },
  {
   "cell_type": "code",
   "execution_count": 8,
   "id": "9850ea47-1a16-41e4-b990-7fb8388e909e",
   "metadata": {},
   "outputs": [],
   "source": [
    "data['Accident_Severity'] = data['Accident_Severity'].astype('category')\n",
    "data['Light_Conditions'] = data['Light_Conditions'].astype('category')\n",
    "data['District Area'] = data['District Area'].astype('category')\n",
    "data['Road_Surface_Conditions'] = data['Road_Surface_Conditions'].astype('category')\n",
    "data['Road_Type'] = data['Road_Type'].astype('category')\n",
    "data['Urban_or_Rural_Area'] = data['Urban_or_Rural_Area'].astype('category')\n",
    "data['Weather_Conditions'] = data['Weather_Conditions'].astype('category')\n",
    "data['Vehicle_Type'] = data['Vehicle_Type'].astype('category')"
   ]
  },
  {
   "cell_type": "code",
   "execution_count": 9,
   "id": "068c94ca-48b0-48cc-ada2-c6e090206c6b",
   "metadata": {},
   "outputs": [
    {
     "data": {
      "text/plain": [
       "Index                              object\n",
       "Accident_Severity                category\n",
       "Accident Date              datetime64[ns]\n",
       "Latitude                         category\n",
       "Light_Conditions                 category\n",
       "District Area                    category\n",
       "Longitude                        category\n",
       "Number_of_Casualties                int64\n",
       "Number_of_Vehicles                  int64\n",
       "Road_Surface_Conditions          category\n",
       "Road_Type                        category\n",
       "Urban_or_Rural_Area              category\n",
       "Weather_Conditions               category\n",
       "Vehicle_Type                     category\n",
       "dtype: object"
      ]
     },
     "execution_count": 9,
     "metadata": {},
     "output_type": "execute_result"
    }
   ],
   "source": [
    "data.dtypes"
   ]
  },
  {
   "cell_type": "code",
   "execution_count": 10,
   "id": "f1a99db5-9c1d-46b0-ac85-57009e051872",
   "metadata": {},
   "outputs": [
    {
     "data": {
      "text/plain": [
       "Index                      0\n",
       "Accident_Severity          0\n",
       "Accident Date              0\n",
       "Latitude                   0\n",
       "Light_Conditions           0\n",
       "District Area              0\n",
       "Longitude                  0\n",
       "Number_of_Casualties       0\n",
       "Number_of_Vehicles         0\n",
       "Road_Surface_Conditions    0\n",
       "Road_Type                  0\n",
       "Urban_or_Rural_Area        0\n",
       "Weather_Conditions         0\n",
       "Vehicle_Type               0\n",
       "dtype: int64"
      ]
     },
     "execution_count": 10,
     "metadata": {},
     "output_type": "execute_result"
    }
   ],
   "source": [
    "data.isnull().sum()"
   ]
  },
  {
   "cell_type": "markdown",
   "id": "ac07889c-412e-49c7-aa94-442c42936917",
   "metadata": {},
   "source": [
    "### Adding more fields"
   ]
  },
  {
   "cell_type": "code",
   "execution_count": 11,
   "id": "c7ec9317-1f84-4548-abd9-61700f850b99",
   "metadata": {},
   "outputs": [
    {
     "name": "stdout",
     "output_type": "stream",
     "text": [
      "<class 'pandas.core.frame.DataFrame'>\n",
      "RangeIndex: 660679 entries, 0 to 660678\n",
      "Data columns (total 17 columns):\n",
      " #   Column                   Non-Null Count   Dtype         \n",
      "---  ------                   --------------   -----         \n",
      " 0   Index                    660679 non-null  object        \n",
      " 1   Accident_Severity        660679 non-null  category      \n",
      " 2   Accident Date            660679 non-null  datetime64[ns]\n",
      " 3   Latitude                 660679 non-null  category      \n",
      " 4   Light_Conditions         660679 non-null  category      \n",
      " 5   District Area            660679 non-null  category      \n",
      " 6   Longitude                660679 non-null  category      \n",
      " 7   Number_of_Casualties     660679 non-null  int64         \n",
      " 8   Number_of_Vehicles       660679 non-null  int64         \n",
      " 9   Road_Surface_Conditions  660679 non-null  category      \n",
      " 10  Road_Type                660679 non-null  category      \n",
      " 11  Urban_or_Rural_Area      660679 non-null  category      \n",
      " 12  Weather_Conditions       660679 non-null  category      \n",
      " 13  Vehicle_Type             660679 non-null  category      \n",
      " 14  Year                     660679 non-null  int32         \n",
      " 15  Month                    660679 non-null  int32         \n",
      " 16  DayOfWeek                660679 non-null  int32         \n",
      "dtypes: category(10), datetime64[ns](1), int32(3), int64(2), object(1)\n",
      "memory usage: 78.7+ MB\n"
     ]
    }
   ],
   "source": [
    "data['Year'] = data['Accident Date'].dt.year\n",
    "data['Month'] = data['Accident Date'].dt.month\n",
    "data['DayOfWeek'] = data['Accident Date'].dt.dayofweek\n",
    "data.info()"
   ]
  },
  {
   "cell_type": "markdown",
   "id": "fe99b94d-c003-45fc-9f40-c0f7aac175c5",
   "metadata": {},
   "source": [
    "# Analyzation Starts here"
   ]
  },
  {
   "cell_type": "code",
   "execution_count": 12,
   "id": "edd21522-28b5-4180-8760-7ff5e81abab2",
   "metadata": {},
   "outputs": [],
   "source": [
    "# TODO: Create a percentage function\n",
    "def percent(value, total = 0):\n",
    "    if total == 0:\n",
    "        total = data.value_counts().sum()\n",
    "    return f\"{np.round(((value / total) * 100), 2)}%\"\n",
    "\n",
    "months = [ \"\",\n",
    "    \"January\", \"Febuary\", \"March\", \"April\", \"May\", \"June\",\n",
    "    \"July\", \"August\", \"September\", \"October\", \"November\", \"December\"\n",
    "]\n",
    "\n",
    "days = [\"Monday\", \"Tuesday\", \"Wednesday\", \"Thursday\", \"Friday\", \"Saturday\", \"Sunday\"]"
   ]
  },
  {
   "cell_type": "markdown",
   "id": "c673be78-4c4b-448f-a0d0-95c9eb68c7a8",
   "metadata": {},
   "source": [
    "### 1. Common Weather Conditions"
   ]
  },
  {
   "cell_type": "code",
   "execution_count": 13,
   "id": "09da1652-bed5-4330-b33c-abf9fdbfca32",
   "metadata": {},
   "outputs": [
    {
     "data": {
      "image/png": "[encoded data removed]",
      "text/plain": [
       "<Figure size 640x480 with 1 Axes>"
      ]
     },
     "metadata": {},
     "output_type": "display_data"
    },
    {
     "data": {
      "text/plain": [
       "Weather_Conditions\n",
       "Fine no high winds            520885\n",
       "Raining no high winds          79696\n",
       "Other                          17150\n",
       "Unknown Weather Conditions     14128\n",
       "Raining + high winds            9615\n",
       "Fine + high winds               8554\n",
       "Snowing no high winds           6238\n",
       "Fog or mist                     3528\n",
       "Snowing + high winds             885\n",
       "Name: count, dtype: int64"
      ]
     },
     "execution_count": 13,
     "metadata": {},
     "output_type": "execute_result"
    }
   ],
   "source": [
    "weather_condition = data['Weather_Conditions'].value_counts()\n",
    "\n",
    "weather_condition.plot(kind='bar')\n",
    "plt.show()\n",
    "\n",
    "weather_condition"
   ]
  },
  {
   "cell_type": "code",
   "execution_count": 14,
   "id": "91d0bc41-4776-4a94-9e54-a391066ef7c0",
   "metadata": {},
   "outputs": [
    {
     "data": {
      "text/plain": [
       "np.int64(520885)"
      ]
     },
     "execution_count": 14,
     "metadata": {},
     "output_type": "execute_result"
    }
   ],
   "source": [
    "weather = data[data['Weather_Conditions'] == data['Weather_Conditions'].mode()[0]].value_counts().sum()\n",
    "weather"
   ]
  },
  {
   "cell_type": "code",
   "execution_count": 15,
   "id": "96678819-541b-4130-8d33-40d93c5f7943",
   "metadata": {},
   "outputs": [
    {
     "data": {
      "text/plain": [
       "'78.84%'"
      ]
     },
     "execution_count": 15,
     "metadata": {},
     "output_type": "execute_result"
    }
   ],
   "source": [
    "percent(value=weather)"
   ]
  },
  {
   "cell_type": "markdown",
   "id": "614a5b34-5de0-40b4-8e46-a6e2bb54dd02",
   "metadata": {},
   "source": [
    "### The highest accident rate with the weather condition is `Fine no high winds` with `660679` or `78.84%` of the entire record records."
   ]
  },
  {
   "cell_type": "markdown",
   "id": "ef21e646-fcdd-4aab-9f01-38743b074cbb",
   "metadata": {},
   "source": [
    "### 2. Common Vehicle"
   ]
  },
  {
   "cell_type": "code",
   "execution_count": 16,
   "id": "ee41e757-1dec-480d-8394-50403da13411",
   "metadata": {},
   "outputs": [
    {
     "data": {
      "image/png": "[encoded data removed]",
      "text/plain": [
       "<Figure size 640x480 with 1 Axes>"
      ]
     },
     "metadata": {},
     "output_type": "display_data"
    },
    {
     "data": {
      "text/plain": [
       "Vehicle_Type\n",
       "Car                                      497992\n",
       "Van / Goods 3.5 tonnes mgw or under       34160\n",
       "Bus or coach (17 or more pass seats)      25878\n",
       "Motorcycle over 500cc                     25657\n",
       "Goods 7.5 tonnes mgw and over             17307\n",
       "Motorcycle 125cc and under                15269\n",
       "Taxi/Private hire car                     13294\n",
       "Motorcycle over 125cc and up to 500cc      7656\n",
       "Motorcycle 50cc and under                  7603\n",
       "Goods over 3.5t. and under 7.5t            6096\n",
       "Other vehicle                              5637\n",
       "Minibus (8 - 16 passenger seats)           1976\n",
       "Agricultural vehicle                       1947\n",
       "Pedal cycle                                 197\n",
       "Data missing or out of range                  6\n",
       "Ridden horse                                  4\n",
       "Name: count, dtype: int64"
      ]
     },
     "execution_count": 16,
     "metadata": {},
     "output_type": "execute_result"
    }
   ],
   "source": [
    "vehicle_type = data['Vehicle_Type'].value_counts()\n",
    "\n",
    "vehicle_type.plot(kind=\"bar\")\n",
    "plt.show()\n",
    "\n",
    "vehicle_type"
   ]
  },
  {
   "cell_type": "code",
   "execution_count": 17,
   "id": "e6703eb9-dfbb-41fa-a87f-0141c47db73f",
   "metadata": {},
   "outputs": [
    {
     "data": {
      "text/plain": [
       "np.int64(497992)"
      ]
     },
     "execution_count": 17,
     "metadata": {},
     "output_type": "execute_result"
    }
   ],
   "source": [
    "vehicle_count = data[data['Vehicle_Type'] == data['Vehicle_Type'].mode()[0]].value_counts().sum()\n",
    "vehicle_count"
   ]
  },
  {
   "cell_type": "code",
   "execution_count": 18,
   "id": "7aed2159-a0e6-406b-937e-394d0ae25f04",
   "metadata": {},
   "outputs": [
    {
     "data": {
      "text/plain": [
       "'75.38%'"
      ]
     },
     "execution_count": 18,
     "metadata": {},
     "output_type": "execute_result"
    }
   ],
   "source": [
    "percent(vehicle_count)"
   ]
  },
  {
   "cell_type": "markdown",
   "id": "7b05cf40-da9b-4c3e-a85d-ce5d96a81f68",
   "metadata": {},
   "source": [
    "### The highest Vehicle type involved in accident recorded is `Car` with the count of `497992` or `75.38%` of the entire record.\n"
   ]
  },
  {
   "cell_type": "markdown",
   "id": "dc3ea6d0-0501-46b5-93a2-95e978f8ed50",
   "metadata": {},
   "source": [
    "### 3. Is there's a relationship of Weather Conditions and Vehicle Type in count of accident\n"
   ]
  },
  {
   "cell_type": "code",
   "execution_count": 19,
   "id": "fc68715f-873f-45d9-a01c-e23cea189afd",
   "metadata": {},
   "outputs": [
    {
     "data": {
      "image/png": "[encoded data removed]",
      "text/plain": [
       "<Figure size 640x480 with 1 Axes>"
      ]
     },
     "metadata": {},
     "output_type": "display_data"
    },
    {
     "data": {
      "text/html": [
       "<div>\n",
       "<style scoped>\n",
       "    .dataframe tbody tr th:only-of-type {\n",
       "        vertical-align: middle;\n",
       "    }\n",
       "\n",
       "    .dataframe tbody tr th {\n",
       "        vertical-align: top;\n",
       "    }\n",
       "\n",
       "    .dataframe thead th {\n",
       "        text-align: right;\n",
       "    }\n",
       "</style>\n",
       "<table border=\"1\" class=\"dataframe\">\n",
       "  <thead>\n",
       "    <tr style=\"text-align: right;\">\n",
       "      <th>Weather_Conditions</th>\n",
       "      <th>Fine + high winds</th>\n",
       "      <th>Fine no high winds</th>\n",
       "      <th>Fog or mist</th>\n",
       "      <th>Other</th>\n",
       "      <th>Raining + high winds</th>\n",
       "      <th>Raining no high winds</th>\n",
       "      <th>Snowing + high winds</th>\n",
       "      <th>Snowing no high winds</th>\n",
       "      <th>Unknown Weather Conditions</th>\n",
       "    </tr>\n",
       "    <tr>\n",
       "      <th>Vehicle_Type</th>\n",
       "      <th></th>\n",
       "      <th></th>\n",
       "      <th></th>\n",
       "      <th></th>\n",
       "      <th></th>\n",
       "      <th></th>\n",
       "      <th></th>\n",
       "      <th></th>\n",
       "      <th></th>\n",
       "    </tr>\n",
       "  </thead>\n",
       "  <tbody>\n",
       "    <tr>\n",
       "      <th>Agricultural vehicle</th>\n",
       "      <td>20</td>\n",
       "      <td>1513</td>\n",
       "      <td>9</td>\n",
       "      <td>57</td>\n",
       "      <td>37</td>\n",
       "      <td>244</td>\n",
       "      <td>3</td>\n",
       "      <td>22</td>\n",
       "      <td>42</td>\n",
       "    </tr>\n",
       "    <tr>\n",
       "      <th>Bus or coach (17 or more pass seats)</th>\n",
       "      <td>350</td>\n",
       "      <td>20398</td>\n",
       "      <td>134</td>\n",
       "      <td>609</td>\n",
       "      <td>389</td>\n",
       "      <td>3182</td>\n",
       "      <td>32</td>\n",
       "      <td>219</td>\n",
       "      <td>565</td>\n",
       "    </tr>\n",
       "    <tr>\n",
       "      <th>Car</th>\n",
       "      <td>6463</td>\n",
       "      <td>392668</td>\n",
       "      <td>2641</td>\n",
       "      <td>12993</td>\n",
       "      <td>7206</td>\n",
       "      <td>59940</td>\n",
       "      <td>677</td>\n",
       "      <td>4748</td>\n",
       "      <td>10656</td>\n",
       "    </tr>\n",
       "    <tr>\n",
       "      <th>Data missing or out of range</th>\n",
       "      <td>1</td>\n",
       "      <td>4</td>\n",
       "      <td>0</td>\n",
       "      <td>0</td>\n",
       "      <td>0</td>\n",
       "      <td>0</td>\n",
       "      <td>0</td>\n",
       "      <td>0</td>\n",
       "      <td>1</td>\n",
       "    </tr>\n",
       "    <tr>\n",
       "      <th>Goods 7.5 tonnes mgw and over</th>\n",
       "      <td>251</td>\n",
       "      <td>13589</td>\n",
       "      <td>93</td>\n",
       "      <td>459</td>\n",
       "      <td>275</td>\n",
       "      <td>2114</td>\n",
       "      <td>28</td>\n",
       "      <td>149</td>\n",
       "      <td>349</td>\n",
       "    </tr>\n",
       "    <tr>\n",
       "      <th>Goods over 3.5t. and under 7.5t</th>\n",
       "      <td>94</td>\n",
       "      <td>4823</td>\n",
       "      <td>31</td>\n",
       "      <td>151</td>\n",
       "      <td>83</td>\n",
       "      <td>729</td>\n",
       "      <td>6</td>\n",
       "      <td>52</td>\n",
       "      <td>127</td>\n",
       "    </tr>\n",
       "    <tr>\n",
       "      <th>Minibus (8 - 16 passenger seats)</th>\n",
       "      <td>34</td>\n",
       "      <td>1552</td>\n",
       "      <td>14</td>\n",
       "      <td>50</td>\n",
       "      <td>27</td>\n",
       "      <td>245</td>\n",
       "      <td>2</td>\n",
       "      <td>16</td>\n",
       "      <td>36</td>\n",
       "    </tr>\n",
       "    <tr>\n",
       "      <th>Motorcycle 125cc and under</th>\n",
       "      <td>180</td>\n",
       "      <td>12064</td>\n",
       "      <td>82</td>\n",
       "      <td>388</td>\n",
       "      <td>220</td>\n",
       "      <td>1830</td>\n",
       "      <td>16</td>\n",
       "      <td>146</td>\n",
       "      <td>343</td>\n",
       "    </tr>\n",
       "    <tr>\n",
       "      <th>Motorcycle 50cc and under</th>\n",
       "      <td>106</td>\n",
       "      <td>6017</td>\n",
       "      <td>50</td>\n",
       "      <td>197</td>\n",
       "      <td>107</td>\n",
       "      <td>897</td>\n",
       "      <td>6</td>\n",
       "      <td>75</td>\n",
       "      <td>148</td>\n",
       "    </tr>\n",
       "    <tr>\n",
       "      <th>Motorcycle over 125cc and up to 500cc</th>\n",
       "      <td>87</td>\n",
       "      <td>6069</td>\n",
       "      <td>45</td>\n",
       "      <td>204</td>\n",
       "      <td>117</td>\n",
       "      <td>893</td>\n",
       "      <td>10</td>\n",
       "      <td>72</td>\n",
       "      <td>159</td>\n",
       "    </tr>\n",
       "    <tr>\n",
       "      <th>Motorcycle over 500cc</th>\n",
       "      <td>315</td>\n",
       "      <td>20245</td>\n",
       "      <td>118</td>\n",
       "      <td>655</td>\n",
       "      <td>354</td>\n",
       "      <td>3135</td>\n",
       "      <td>33</td>\n",
       "      <td>254</td>\n",
       "      <td>548</td>\n",
       "    </tr>\n",
       "    <tr>\n",
       "      <th>Other vehicle</th>\n",
       "      <td>57</td>\n",
       "      <td>4450</td>\n",
       "      <td>38</td>\n",
       "      <td>155</td>\n",
       "      <td>99</td>\n",
       "      <td>643</td>\n",
       "      <td>4</td>\n",
       "      <td>50</td>\n",
       "      <td>141</td>\n",
       "    </tr>\n",
       "    <tr>\n",
       "      <th>Pedal cycle</th>\n",
       "      <td>1</td>\n",
       "      <td>161</td>\n",
       "      <td>3</td>\n",
       "      <td>2</td>\n",
       "      <td>3</td>\n",
       "      <td>18</td>\n",
       "      <td>0</td>\n",
       "      <td>3</td>\n",
       "      <td>6</td>\n",
       "    </tr>\n",
       "    <tr>\n",
       "      <th>Ridden horse</th>\n",
       "      <td>0</td>\n",
       "      <td>3</td>\n",
       "      <td>0</td>\n",
       "      <td>0</td>\n",
       "      <td>0</td>\n",
       "      <td>1</td>\n",
       "      <td>0</td>\n",
       "      <td>0</td>\n",
       "      <td>0</td>\n",
       "    </tr>\n",
       "    <tr>\n",
       "      <th>Taxi/Private hire car</th>\n",
       "      <td>187</td>\n",
       "      <td>10452</td>\n",
       "      <td>78</td>\n",
       "      <td>328</td>\n",
       "      <td>190</td>\n",
       "      <td>1622</td>\n",
       "      <td>20</td>\n",
       "      <td>136</td>\n",
       "      <td>281</td>\n",
       "    </tr>\n",
       "    <tr>\n",
       "      <th>Van / Goods 3.5 tonnes mgw or under</th>\n",
       "      <td>408</td>\n",
       "      <td>26877</td>\n",
       "      <td>192</td>\n",
       "      <td>902</td>\n",
       "      <td>508</td>\n",
       "      <td>4203</td>\n",
       "      <td>48</td>\n",
       "      <td>296</td>\n",
       "      <td>726</td>\n",
       "    </tr>\n",
       "  </tbody>\n",
       "</table>\n",
       "</div>"
      ],
      "text/plain": [
       "Weather_Conditions                     Fine + high winds  Fine no high winds  \\\n",
       "Vehicle_Type                                                                   \n",
       "Agricultural vehicle                                  20                1513   \n",
       "Bus or coach (17 or more pass seats)                 350               20398   \n",
       "Car                                                 6463              392668   \n",
       "Data missing or out of range                           1                   4   \n",
       "Goods 7.5 tonnes mgw and over                        251               13589   \n",
       "Goods over 3.5t. and under 7.5t                       94                4823   \n",
       "Minibus (8 - 16 passenger seats)                      34                1552   \n",
       "Motorcycle 125cc and under                           180               12064   \n",
       "Motorcycle 50cc and under                            106                6017   \n",
       "Motorcycle over 125cc and up to 500cc                 87                6069   \n",
       "Motorcycle over 500cc                                315               20245   \n",
       "Other vehicle                                         57                4450   \n",
       "Pedal cycle                                            1                 161   \n",
       "Ridden horse                                           0                   3   \n",
       "Taxi/Private hire car                                187               10452   \n",
       "Van / Goods 3.5 tonnes mgw or under                  408               26877   \n",
       "\n",
       "Weather_Conditions                     Fog or mist  Other  \\\n",
       "Vehicle_Type                                                \n",
       "Agricultural vehicle                             9     57   \n",
       "Bus or coach (17 or more pass seats)           134    609   \n",
       "Car                                           2641  12993   \n",
       "Data missing or out of range                     0      0   \n",
       "Goods 7.5 tonnes mgw and over                   93    459   \n",
       "Goods over 3.5t. and under 7.5t                 31    151   \n",
       "Minibus (8 - 16 passenger seats)                14     50   \n",
       "Motorcycle 125cc and under                      82    388   \n",
       "Motorcycle 50cc and under                       50    197   \n",
       "Motorcycle over 125cc and up to 500cc           45    204   \n",
       "Motorcycle over 500cc                          118    655   \n",
       "Other vehicle                                   38    155   \n",
       "Pedal cycle                                      3      2   \n",
       "Ridden horse                                     0      0   \n",
       "Taxi/Private hire car                           78    328   \n",
       "Van / Goods 3.5 tonnes mgw or under            192    902   \n",
       "\n",
       "Weather_Conditions                     Raining + high winds  \\\n",
       "Vehicle_Type                                                  \n",
       "Agricultural vehicle                                     37   \n",
       "Bus or coach (17 or more pass seats)                    389   \n",
       "Car                                                    7206   \n",
       "Data missing or out of range                              0   \n",
       "Goods 7.5 tonnes mgw and over                           275   \n",
       "Goods over 3.5t. and under 7.5t                          83   \n",
       "Minibus (8 - 16 passenger seats)                         27   \n",
       "Motorcycle 125cc and under                              220   \n",
       "Motorcycle 50cc and under                               107   \n",
       "Motorcycle over 125cc and up to 500cc                   117   \n",
       "Motorcycle over 500cc                                   354   \n",
       "Other vehicle                                            99   \n",
       "Pedal cycle                                               3   \n",
       "Ridden horse                                              0   \n",
       "Taxi/Private hire car                                   190   \n",
       "Van / Goods 3.5 tonnes mgw or under                     508   \n",
       "\n",
       "Weather_Conditions                     Raining no high winds  \\\n",
       "Vehicle_Type                                                   \n",
       "Agricultural vehicle                                     244   \n",
       "Bus or coach (17 or more pass seats)                    3182   \n",
       "Car                                                    59940   \n",
       "Data missing or out of range                               0   \n",
       "Goods 7.5 tonnes mgw and over                           2114   \n",
       "Goods over 3.5t. and under 7.5t                          729   \n",
       "Minibus (8 - 16 passenger seats)                         245   \n",
       "Motorcycle 125cc and under                              1830   \n",
       "Motorcycle 50cc and under                                897   \n",
       "Motorcycle over 125cc and up to 500cc                    893   \n",
       "Motorcycle over 500cc                                   3135   \n",
       "Other vehicle                                            643   \n",
       "Pedal cycle                                               18   \n",
       "Ridden horse                                               1   \n",
       "Taxi/Private hire car                                   1622   \n",
       "Van / Goods 3.5 tonnes mgw or under                     4203   \n",
       "\n",
       "Weather_Conditions                     Snowing + high winds  \\\n",
       "Vehicle_Type                                                  \n",
       "Agricultural vehicle                                      3   \n",
       "Bus or coach (17 or more pass seats)                     32   \n",
       "Car                                                     677   \n",
       "Data missing or out of range                              0   \n",
       "Goods 7.5 tonnes mgw and over                            28   \n",
       "Goods over 3.5t. and under 7.5t                           6   \n",
       "Minibus (8 - 16 passenger seats)                          2   \n",
       "Motorcycle 125cc and under                               16   \n",
       "Motorcycle 50cc and under                                 6   \n",
       "Motorcycle over 125cc and up to 500cc                    10   \n",
       "Motorcycle over 500cc                                    33   \n",
       "Other vehicle                                             4   \n",
       "Pedal cycle                                               0   \n",
       "Ridden horse                                              0   \n",
       "Taxi/Private hire car                                    20   \n",
       "Van / Goods 3.5 tonnes mgw or under                      48   \n",
       "\n",
       "Weather_Conditions                     Snowing no high winds  \\\n",
       "Vehicle_Type                                                   \n",
       "Agricultural vehicle                                      22   \n",
       "Bus or coach (17 or more pass seats)                     219   \n",
       "Car                                                     4748   \n",
       "Data missing or out of range                               0   \n",
       "Goods 7.5 tonnes mgw and over                            149   \n",
       "Goods over 3.5t. and under 7.5t                           52   \n",
       "Minibus (8 - 16 passenger seats)                          16   \n",
       "Motorcycle 125cc and under                               146   \n",
       "Motorcycle 50cc and under                                 75   \n",
       "Motorcycle over 125cc and up to 500cc                     72   \n",
       "Motorcycle over 500cc                                    254   \n",
       "Other vehicle                                             50   \n",
       "Pedal cycle                                                3   \n",
       "Ridden horse                                               0   \n",
       "Taxi/Private hire car                                    136   \n",
       "Van / Goods 3.5 tonnes mgw or under                      296   \n",
       "\n",
       "Weather_Conditions                     Unknown Weather Conditions  \n",
       "Vehicle_Type                                                       \n",
       "Agricultural vehicle                                           42  \n",
       "Bus or coach (17 or more pass seats)                          565  \n",
       "Car                                                         10656  \n",
       "Data missing or out of range                                    1  \n",
       "Goods 7.5 tonnes mgw and over                                 349  \n",
       "Goods over 3.5t. and under 7.5t                               127  \n",
       "Minibus (8 - 16 passenger seats)                               36  \n",
       "Motorcycle 125cc and under                                    343  \n",
       "Motorcycle 50cc and under                                     148  \n",
       "Motorcycle over 125cc and up to 500cc                         159  \n",
       "Motorcycle over 500cc                                         548  \n",
       "Other vehicle                                                 141  \n",
       "Pedal cycle                                                     6  \n",
       "Ridden horse                                                    0  \n",
       "Taxi/Private hire car                                         281  \n",
       "Van / Goods 3.5 tonnes mgw or under                           726  "
      ]
     },
     "execution_count": 19,
     "metadata": {},
     "output_type": "execute_result"
    }
   ],
   "source": [
    "\n",
    "vehicle_ = data.groupby(['Vehicle_Type', 'Weather_Conditions']).size().unstack()\n",
    "\n",
    "vehicle_.plot(kind=\"bar\", stacked=True)\n",
    "plt.show()\n",
    "\n",
    "vehicle_"
   ]
  },
  {
   "cell_type": "markdown",
   "id": "6e4d6aca-1821-47d0-8161-57ba3ecc2d69",
   "metadata": {},
   "source": [
    "### 4. Area with highest accident rate\n",
    "#### Rural or Urban"
   ]
  },
  {
   "cell_type": "code",
   "execution_count": 20,
   "id": "4de15e95-69a8-4855-801f-05bda8600d8a",
   "metadata": {},
   "outputs": [
    {
     "data": {
      "image/png": "[encoded data removed]",
      "text/plain": [
       "<Figure size 640x480 with 1 Axes>"
      ]
     },
     "metadata": {},
     "output_type": "display_data"
    },
    {
     "data": {
      "text/plain": [
       "Urban_or_Rural_Area\n",
       "Urban          421678\n",
       "Rural          238990\n",
       "Unallocated        11\n",
       "Name: count, dtype: int64"
      ]
     },
     "execution_count": 20,
     "metadata": {},
     "output_type": "execute_result"
    }
   ],
   "source": [
    "u_r = data['Urban_or_Rural_Area'].value_counts()\n",
    "\n",
    "u_r.plot(kind=\"pie\")\n",
    "plt.legend([\"Urban\", \"Rural\", \"Unallocated\"])\n",
    "plt.show()\n",
    "\n",
    "u_r"
   ]
  },
  {
   "cell_type": "code",
   "execution_count": 21,
   "id": "cd3c8d2a-94c1-4f64-bbb0-5e20abf71116",
   "metadata": {},
   "outputs": [
    {
     "data": {
      "text/plain": [
       "np.int64(421678)"
      ]
     },
     "execution_count": 21,
     "metadata": {},
     "output_type": "execute_result"
    }
   ],
   "source": [
    "u_r_c = data[data['Urban_or_Rural_Area'] == data['Urban_or_Rural_Area'].mode()[0]].value_counts().sum()\n",
    "u_r_c"
   ]
  },
  {
   "cell_type": "code",
   "execution_count": 22,
   "id": "57f5a1db-c4ad-40bf-aa78-cca4a2abf8ca",
   "metadata": {},
   "outputs": [
    {
     "data": {
      "text/plain": [
       "'63.82%'"
      ]
     },
     "execution_count": 22,
     "metadata": {},
     "output_type": "execute_result"
    }
   ],
   "source": [
    "percent(u_r_c)"
   ]
  },
  {
   "cell_type": "markdown",
   "id": "40d758d2-2fa9-4403-82c3-6fb3aae82d2c",
   "metadata": {},
   "source": [
    "### Most accident happened in `Urban Areas`, with data recorded `421678` or `63.82%` of the entire record."
   ]
  },
  {
   "cell_type": "markdown",
   "id": "d91bb36e-a551-4007-8700-62cea6812258",
   "metadata": {},
   "source": [
    "### 5. Date with highest accident rate"
   ]
  },
  {
   "cell_type": "code",
   "execution_count": 23,
   "id": "a2ea2cc5-0e88-44ab-a539-6a8df7bf520a",
   "metadata": {},
   "outputs": [
    {
     "data": {
      "text/plain": [
       "Timestamp('2019-11-30 00:00:00')"
      ]
     },
     "execution_count": 23,
     "metadata": {},
     "output_type": "execute_result"
    }
   ],
   "source": [
    "accident_date = data['Accident Date'].mode()[0]\n",
    "accident_date"
   ]
  },
  {
   "cell_type": "markdown",
   "id": "43ca08c2-306d-4759-a666-0dfc33395d8a",
   "metadata": {},
   "source": [
    "### 6. Accident rate based on result from #5"
   ]
  },
  {
   "cell_type": "code",
   "execution_count": 24,
   "id": "ebed8118-1855-477d-ac31-9668ae08650e",
   "metadata": {},
   "outputs": [
    {
     "data": {
      "text/plain": [
       "np.int64(704)"
      ]
     },
     "execution_count": 24,
     "metadata": {},
     "output_type": "execute_result"
    }
   ],
   "source": [
    "### Using the earlier data, where it gives the data how many are the accidents recorded with this date\n",
    "data[data['Accident Date'] == accident_date].value_counts().sum()"
   ]
  },
  {
   "cell_type": "markdown",
   "id": "24d3b778-a37d-4f81-82e2-6f0ee1075b50",
   "metadata": {},
   "source": [
    "### 7. Common District Area Involve (TOP 10)"
   ]
  },
  {
   "cell_type": "code",
   "execution_count": 25,
   "id": "368cd39a-97d3-48cc-8ab2-87905671355f",
   "metadata": {},
   "outputs": [
    {
     "data": {
      "image/png": "[encoded data removed]",
      "text/plain": [
       "<Figure size 640x480 with 1 Axes>"
      ]
     },
     "metadata": {},
     "output_type": "display_data"
    },
    {
     "data": {
      "text/plain": [
       "District Area\n",
       "Birmingham          13491\n",
       "Leeds                8898\n",
       "Manchester           6720\n",
       "Bradford             6212\n",
       "Sheffield            5710\n",
       "Westminster          5706\n",
       "Liverpool            5587\n",
       "Glasgow City         4942\n",
       "Bristol, City of     4819\n",
       "Kirklees             4690\n",
       "Name: count, dtype: int64"
      ]
     },
     "execution_count": 25,
     "metadata": {},
     "output_type": "execute_result"
    }
   ],
   "source": [
    "district_data = data['District Area'].value_counts()\n",
    "\n",
    "district_data.sort_values()\n",
    "district_data = district_data[:10]\n",
    "district_data.plot(kind=\"bar\")\n",
    "plt.show()\n",
    "\n",
    "district_data"
   ]
  },
  {
   "cell_type": "markdown",
   "id": "472cfb7f-98e8-4ae4-b866-bdd4a4859786",
   "metadata": {},
   "source": [
    "### 8. Common weather where the accidents in Common District Area Involve"
   ]
  },
  {
   "cell_type": "code",
   "execution_count": 26,
   "id": "87b977e1-bcb2-411f-a804-eafa49c2bff4",
   "metadata": {},
   "outputs": [
    {
     "data": {
      "text/plain": [
       "'Fine no high winds'"
      ]
     },
     "execution_count": 26,
     "metadata": {},
     "output_type": "execute_result"
    }
   ],
   "source": [
    "weather_x_district = data[data['District Area'] == data['District Area'].mode()[0]]['Weather_Conditions'].mode()[0]\n",
    "weather_x_district"
   ]
  },
  {
   "cell_type": "markdown",
   "id": "a18dc285-5fb1-425b-9671-87af769cabbc",
   "metadata": {},
   "source": [
    "### 9. Most Common Vehicle Involve"
   ]
  },
  {
   "cell_type": "code",
   "execution_count": 27,
   "id": "80955349-1d84-48e7-a56b-b3befc7f83c4",
   "metadata": {},
   "outputs": [
    {
     "data": {
      "text/plain": [
       "'Car'"
      ]
     },
     "execution_count": 27,
     "metadata": {},
     "output_type": "execute_result"
    }
   ],
   "source": [
    "vehicles_x_weather_x_district = data[(data['District Area'] == data['District Area'].mode()[0]) & (data['Weather_Conditions'] == weather_x_district)]\n",
    "vehicles_x_weather_x_district['Vehicle_Type'].mode()[0]"
   ]
  },
  {
   "cell_type": "markdown",
   "id": "d3cf5810-13ab-408b-b9ca-7e959db16118",
   "metadata": {},
   "source": [
    "### 10. Average Accident rate in Urban and Rural Area"
   ]
  },
  {
   "cell_type": "code",
   "execution_count": 28,
   "id": "73a3ef9c-3d74-4926-8499-976db850e45e",
   "metadata": {},
   "outputs": [
    {
     "data": {
      "text/plain": [
       "np.int64(238990)"
      ]
     },
     "execution_count": 28,
     "metadata": {},
     "output_type": "execute_result"
    }
   ],
   "source": [
    "rural_data = data[data['Urban_or_Rural_Area'] == 'Rural'].value_counts().sum()\n",
    "rural_data"
   ]
  },
  {
   "cell_type": "code",
   "execution_count": 29,
   "id": "b7c7013f-aa4f-4de5-9464-a4d671e2d748",
   "metadata": {},
   "outputs": [
    {
     "data": {
      "text/plain": [
       "np.int64(421678)"
      ]
     },
     "execution_count": 29,
     "metadata": {},
     "output_type": "execute_result"
    }
   ],
   "source": [
    "urban_data = data[data['Urban_or_Rural_Area'] == 'Urban'].value_counts().sum()\n",
    "urban_data"
   ]
  },
  {
   "cell_type": "code",
   "execution_count": 30,
   "id": "25e51f1f-3a54-4a08-918c-5e71bc12230a",
   "metadata": {},
   "outputs": [
    {
     "data": {
      "text/plain": [
       "'36.17%'"
      ]
     },
     "execution_count": 30,
     "metadata": {},
     "output_type": "execute_result"
    }
   ],
   "source": [
    "percent(rural_data)"
   ]
  },
  {
   "cell_type": "code",
   "execution_count": 31,
   "id": "27169a25-8ee4-4e58-8ab2-87e8d304010e",
   "metadata": {},
   "outputs": [
    {
     "data": {
      "text/plain": [
       "'63.82%'"
      ]
     },
     "execution_count": 31,
     "metadata": {},
     "output_type": "execute_result"
    }
   ],
   "source": [
    "percent(urban_data)"
   ]
  },
  {
   "cell_type": "markdown",
   "id": "9d329f48-6418-4369-89f7-61ef027430b9",
   "metadata": {},
   "source": [
    "### There's more accident in `Urban areas` which has the count of `421678` or `63.82%` of the entire record rather than the `Rural areas` which as `238990` or `36.17` of the entire record."
   ]
  },
  {
   "cell_type": "markdown",
   "id": "748ca436-5788-42b5-8d36-35a101648c95",
   "metadata": {},
   "source": [
    "### 11. Common Day of Week Accident"
   ]
  },
  {
   "cell_type": "code",
   "execution_count": 32,
   "id": "902925dc-2910-4c0c-b5b8-1379810ca8df",
   "metadata": {},
   "outputs": [
    {
     "data": {
      "text/plain": [
       "'Saturday'"
      ]
     },
     "execution_count": 32,
     "metadata": {},
     "output_type": "execute_result"
    }
   ],
   "source": [
    "day = data['DayOfWeek'].mode()\n",
    "days[day[0]]"
   ]
  },
  {
   "cell_type": "markdown",
   "id": "862f0245-9759-4ae0-9667-a15268ea6751",
   "metadata": {},
   "source": [
    "### 12. Most common weather in every accident with each monthZ"
   ]
  },
  {
   "cell_type": "code",
   "execution_count": 33,
   "id": "38954425-cdd5-40a6-a02c-05417279388c",
   "metadata": {},
   "outputs": [
    {
     "data": {
      "text/html": [
       "<div>\n",
       "<style scoped>\n",
       "    .dataframe tbody tr th:only-of-type {\n",
       "        vertical-align: middle;\n",
       "    }\n",
       "\n",
       "    .dataframe tbody tr th {\n",
       "        vertical-align: top;\n",
       "    }\n",
       "\n",
       "    .dataframe thead th {\n",
       "        text-align: right;\n",
       "    }\n",
       "</style>\n",
       "<table border=\"1\" class=\"dataframe\">\n",
       "  <thead>\n",
       "    <tr style=\"text-align: right;\">\n",
       "      <th>Month</th>\n",
       "      <th>1</th>\n",
       "      <th>2</th>\n",
       "      <th>3</th>\n",
       "      <th>4</th>\n",
       "      <th>5</th>\n",
       "      <th>6</th>\n",
       "      <th>7</th>\n",
       "      <th>8</th>\n",
       "      <th>9</th>\n",
       "      <th>10</th>\n",
       "      <th>11</th>\n",
       "      <th>12</th>\n",
       "    </tr>\n",
       "    <tr>\n",
       "      <th>Weather_Conditions</th>\n",
       "      <th></th>\n",
       "      <th></th>\n",
       "      <th></th>\n",
       "      <th></th>\n",
       "      <th></th>\n",
       "      <th></th>\n",
       "      <th></th>\n",
       "      <th></th>\n",
       "      <th></th>\n",
       "      <th></th>\n",
       "      <th></th>\n",
       "      <th></th>\n",
       "    </tr>\n",
       "  </thead>\n",
       "  <tbody>\n",
       "    <tr>\n",
       "      <th>Fine + high winds</th>\n",
       "      <td>1816</td>\n",
       "      <td>694</td>\n",
       "      <td>1448</td>\n",
       "      <td>276</td>\n",
       "      <td>463</td>\n",
       "      <td>225</td>\n",
       "      <td>315</td>\n",
       "      <td>298</td>\n",
       "      <td>426</td>\n",
       "      <td>579</td>\n",
       "      <td>1388</td>\n",
       "      <td>626</td>\n",
       "    </tr>\n",
       "    <tr>\n",
       "      <th>Fine no high winds</th>\n",
       "      <td>35474</td>\n",
       "      <td>37671</td>\n",
       "      <td>43662</td>\n",
       "      <td>45844</td>\n",
       "      <td>47586</td>\n",
       "      <td>48292</td>\n",
       "      <td>46515</td>\n",
       "      <td>44213</td>\n",
       "      <td>47468</td>\n",
       "      <td>47822</td>\n",
       "      <td>40793</td>\n",
       "      <td>35545</td>\n",
       "    </tr>\n",
       "    <tr>\n",
       "      <th>Fog or mist</th>\n",
       "      <td>434</td>\n",
       "      <td>615</td>\n",
       "      <td>209</td>\n",
       "      <td>140</td>\n",
       "      <td>54</td>\n",
       "      <td>102</td>\n",
       "      <td>36</td>\n",
       "      <td>52</td>\n",
       "      <td>128</td>\n",
       "      <td>278</td>\n",
       "      <td>577</td>\n",
       "      <td>903</td>\n",
       "    </tr>\n",
       "    <tr>\n",
       "      <th>Other</th>\n",
       "      <td>2948</td>\n",
       "      <td>1996</td>\n",
       "      <td>952</td>\n",
       "      <td>553</td>\n",
       "      <td>634</td>\n",
       "      <td>553</td>\n",
       "      <td>713</td>\n",
       "      <td>664</td>\n",
       "      <td>663</td>\n",
       "      <td>1188</td>\n",
       "      <td>2173</td>\n",
       "      <td>4113</td>\n",
       "    </tr>\n",
       "    <tr>\n",
       "      <th>Raining + high winds</th>\n",
       "      <td>1990</td>\n",
       "      <td>501</td>\n",
       "      <td>1055</td>\n",
       "      <td>118</td>\n",
       "      <td>449</td>\n",
       "      <td>292</td>\n",
       "      <td>429</td>\n",
       "      <td>390</td>\n",
       "      <td>520</td>\n",
       "      <td>710</td>\n",
       "      <td>2217</td>\n",
       "      <td>944</td>\n",
       "    </tr>\n",
       "    <tr>\n",
       "      <th>Raining no high winds</th>\n",
       "      <td>7307</td>\n",
       "      <td>4964</td>\n",
       "      <td>5218</td>\n",
       "      <td>3596</td>\n",
       "      <td>6003</td>\n",
       "      <td>5828</td>\n",
       "      <td>8247</td>\n",
       "      <td>7245</td>\n",
       "      <td>6167</td>\n",
       "      <td>7615</td>\n",
       "      <td>11197</td>\n",
       "      <td>6309</td>\n",
       "    </tr>\n",
       "    <tr>\n",
       "      <th>Snowing + high winds</th>\n",
       "      <td>188</td>\n",
       "      <td>216</td>\n",
       "      <td>162</td>\n",
       "      <td>23</td>\n",
       "      <td>3</td>\n",
       "      <td>0</td>\n",
       "      <td>1</td>\n",
       "      <td>2</td>\n",
       "      <td>2</td>\n",
       "      <td>11</td>\n",
       "      <td>65</td>\n",
       "      <td>212</td>\n",
       "    </tr>\n",
       "    <tr>\n",
       "      <th>Snowing no high winds</th>\n",
       "      <td>1435</td>\n",
       "      <td>1746</td>\n",
       "      <td>288</td>\n",
       "      <td>168</td>\n",
       "      <td>14</td>\n",
       "      <td>16</td>\n",
       "      <td>15</td>\n",
       "      <td>11</td>\n",
       "      <td>13</td>\n",
       "      <td>67</td>\n",
       "      <td>563</td>\n",
       "      <td>1902</td>\n",
       "    </tr>\n",
       "    <tr>\n",
       "      <th>Unknown Weather Conditions</th>\n",
       "      <td>1280</td>\n",
       "      <td>1088</td>\n",
       "      <td>1092</td>\n",
       "      <td>1026</td>\n",
       "      <td>1146</td>\n",
       "      <td>1173</td>\n",
       "      <td>1174</td>\n",
       "      <td>1038</td>\n",
       "      <td>1068</td>\n",
       "      <td>1310</td>\n",
       "      <td>1451</td>\n",
       "      <td>1282</td>\n",
       "    </tr>\n",
       "  </tbody>\n",
       "</table>\n",
       "</div>"
      ],
      "text/plain": [
       "Month                          1      2      3      4      5      6      7   \\\n",
       "Weather_Conditions                                                            \n",
       "Fine + high winds            1816    694   1448    276    463    225    315   \n",
       "Fine no high winds          35474  37671  43662  45844  47586  48292  46515   \n",
       "Fog or mist                   434    615    209    140     54    102     36   \n",
       "Other                        2948   1996    952    553    634    553    713   \n",
       "Raining + high winds         1990    501   1055    118    449    292    429   \n",
       "Raining no high winds        7307   4964   5218   3596   6003   5828   8247   \n",
       "Snowing + high winds          188    216    162     23      3      0      1   \n",
       "Snowing no high winds        1435   1746    288    168     14     16     15   \n",
       "Unknown Weather Conditions   1280   1088   1092   1026   1146   1173   1174   \n",
       "\n",
       "Month                          8      9      10     11     12  \n",
       "Weather_Conditions                                             \n",
       "Fine + high winds             298    426    579   1388    626  \n",
       "Fine no high winds          44213  47468  47822  40793  35545  \n",
       "Fog or mist                    52    128    278    577    903  \n",
       "Other                         664    663   1188   2173   4113  \n",
       "Raining + high winds          390    520    710   2217    944  \n",
       "Raining no high winds        7245   6167   7615  11197   6309  \n",
       "Snowing + high winds            2      2     11     65    212  \n",
       "Snowing no high winds          11     13     67    563   1902  \n",
       "Unknown Weather Conditions   1038   1068   1310   1451   1282  "
      ]
     },
     "execution_count": 33,
     "metadata": {},
     "output_type": "execute_result"
    }
   ],
   "source": [
    "data.groupby(['Weather_Conditions', 'Month']).size().unstack()"
   ]
  },
  {
   "cell_type": "markdown",
   "id": "de0bf6cf-d295-486d-85ce-55d0ddb55060",
   "metadata": {},
   "source": [
    "### 13. Year with Highest Accident Rate"
   ]
  },
  {
   "cell_type": "code",
   "execution_count": 34,
   "id": "8a275277-3c91-4a7a-b317-4c392a30f834",
   "metadata": {},
   "outputs": [
    {
     "data": {
      "text/plain": [
       "np.int32(2019)"
      ]
     },
     "execution_count": 34,
     "metadata": {},
     "output_type": "execute_result"
    }
   ],
   "source": [
    "h_year = data['Year'].mode()[0]\n",
    "h_year"
   ]
  },
  {
   "cell_type": "code",
   "execution_count": 35,
   "id": "43baf4a6-2e35-4037-8563-8254bb1f205e",
   "metadata": {},
   "outputs": [
    {
     "data": {
      "text/plain": [
       "np.int64(182115)"
      ]
     },
     "execution_count": 35,
     "metadata": {},
     "output_type": "execute_result"
    }
   ],
   "source": [
    "h_year_c = data[data['Year'] == h_year].value_counts().sum()\n",
    "h_year_c"
   ]
  },
  {
   "cell_type": "code",
   "execution_count": 36,
   "id": "e0d60b1b-cb17-4e86-8458-c67af73d50eb",
   "metadata": {},
   "outputs": [
    {
     "data": {
      "text/plain": [
       "'27.56%'"
      ]
     },
     "execution_count": 36,
     "metadata": {},
     "output_type": "execute_result"
    }
   ],
   "source": [
    "percent(h_year_c)"
   ]
  },
  {
   "cell_type": "markdown",
   "id": "26ef9b7e-ea0f-4d4a-8506-4e078d28e0de",
   "metadata": {},
   "source": [
    "### 14. Month with Highest accident rate in Year 2020"
   ]
  },
  {
   "cell_type": "code",
   "execution_count": 37,
   "id": "8658fda0-8d72-41cf-bb84-151c9704287b",
   "metadata": {},
   "outputs": [
    {
     "data": {
      "text/plain": [
       "'October'"
      ]
     },
     "execution_count": 37,
     "metadata": {},
     "output_type": "execute_result"
    }
   ],
   "source": [
    "month_2020 = data[data['Year'] == 2020]['Month'].mode()[0]\n",
    "months[month_2020]"
   ]
  },
  {
   "cell_type": "markdown",
   "id": "74a55aae-ad7c-4401-882c-ebd09d198386",
   "metadata": {},
   "source": [
    "### 15. Month with highest accident rate in Year 2021"
   ]
  },
  {
   "cell_type": "code",
   "execution_count": 38,
   "id": "16a57f5c-83e1-4578-aede-68a6bd4ed1a7",
   "metadata": {},
   "outputs": [
    {
     "data": {
      "text/plain": [
       "'November'"
      ]
     },
     "execution_count": 38,
     "metadata": {},
     "output_type": "execute_result"
    }
   ],
   "source": [
    "month_2021 = data[data['Year'] == 2021]['Month'].mode()[0]\n",
    "months[month_2021]"
   ]
  },
  {
   "cell_type": "markdown",
   "id": "5dda19cd-dc0e-45e7-b88d-21dc8e504bbc",
   "metadata": {},
   "source": [
    "### 16. Month with highest accident rate in year 2022"
   ]
  },
  {
   "cell_type": "code",
   "execution_count": 39,
   "id": "8511a8b0-92c8-4ac8-8e42-125ae9e500bb",
   "metadata": {},
   "outputs": [
    {
     "data": {
      "text/plain": [
       "'November'"
      ]
     },
     "execution_count": 39,
     "metadata": {},
     "output_type": "execute_result"
    }
   ],
   "source": [
    "month_2022 = data[data['Year'] == 2022]['Month'].mode()[0]\n",
    "months[month_2022]"
   ]
  },
  {
   "cell_type": "markdown",
   "id": "be89593e-ff0c-4db2-889a-4592e68eb88f",
   "metadata": {},
   "source": [
    "### 17. Highest casualty in an accident"
   ]
  },
  {
   "cell_type": "code",
   "execution_count": 40,
   "id": "c95a5300-6ce9-44ae-a134-ae76a8ab4f86",
   "metadata": {},
   "outputs": [
    {
     "data": {
      "text/plain": [
       "np.int64(68)"
      ]
     },
     "execution_count": 40,
     "metadata": {},
     "output_type": "execute_result"
    }
   ],
   "source": [
    "data['Number_of_Casualties'].max()"
   ]
  },
  {
   "cell_type": "markdown",
   "id": "2d59e6bc-a4ed-4353-850c-2dcb60c160aa",
   "metadata": {},
   "source": [
    "### 18. Road type with highest accident rate"
   ]
  },
  {
   "cell_type": "code",
   "execution_count": 41,
   "id": "c639a271-1061-4d34-872a-0bcba14d3bb7",
   "metadata": {},
   "outputs": [
    {
     "data": {
      "text/plain": [
       "'Single carriageway'"
      ]
     },
     "execution_count": 41,
     "metadata": {},
     "output_type": "execute_result"
    }
   ],
   "source": [
    "rt = data['Road_Type'].mode()[0]\n",
    "rt"
   ]
  },
  {
   "cell_type": "code",
   "execution_count": 42,
   "id": "e7185eb8-c870-4a7f-8a98-b16608317c22",
   "metadata": {},
   "outputs": [
    {
     "data": {
      "text/plain": [
       "np.int64(492143)"
      ]
     },
     "execution_count": 42,
     "metadata": {},
     "output_type": "execute_result"
    }
   ],
   "source": [
    "rtc = data[data['Road_Type'] == rt].value_counts().sum()\n",
    "rtc"
   ]
  },
  {
   "cell_type": "code",
   "execution_count": 43,
   "id": "2df7d30f-305a-4b1f-b0d1-4518b34896c0",
   "metadata": {},
   "outputs": [
    {
     "data": {
      "text/plain": [
       "'74.49%'"
      ]
     },
     "execution_count": 43,
     "metadata": {},
     "output_type": "execute_result"
    }
   ],
   "source": [
    "percent(rtc)"
   ]
  },
  {
   "cell_type": "markdown",
   "id": "1d066e52-5c8d-4e44-baa3-9668eb8c66d6",
   "metadata": {},
   "source": [
    "### The most common `Road Type` is `Single Carriageway` which has `492143` or `74.49%` of the entire data."
   ]
  },
  {
   "cell_type": "markdown",
   "id": "292acce2-747a-46e5-81da-46cd2b86ddba",
   "metadata": {},
   "source": [
    "### 19. Is there's any relationship between the Road Type and the Casualty"
   ]
  },
  {
   "cell_type": "code",
   "execution_count": 44,
   "id": "3eb2d77d-6705-4597-b9b5-819c209e1a56",
   "metadata": {},
   "outputs": [
    {
     "data": {
      "text/html": [
       "<div>\n",
       "<style scoped>\n",
       "    .dataframe tbody tr th:only-of-type {\n",
       "        vertical-align: middle;\n",
       "    }\n",
       "\n",
       "    .dataframe tbody tr th {\n",
       "        vertical-align: top;\n",
       "    }\n",
       "\n",
       "    .dataframe thead th {\n",
       "        text-align: right;\n",
       "    }\n",
       "</style>\n",
       "<table border=\"1\" class=\"dataframe\">\n",
       "  <thead>\n",
       "    <tr style=\"text-align: right;\">\n",
       "      <th>Road_Type</th>\n",
       "      <th>Dual carriageway</th>\n",
       "      <th>One way street</th>\n",
       "      <th>Roundabout</th>\n",
       "      <th>Single carriageway</th>\n",
       "      <th>Slip road</th>\n",
       "      <th>Unknown Road Type</th>\n",
       "    </tr>\n",
       "    <tr>\n",
       "      <th>Number_of_Casualties</th>\n",
       "      <th></th>\n",
       "      <th></th>\n",
       "      <th></th>\n",
       "      <th></th>\n",
       "      <th></th>\n",
       "      <th></th>\n",
       "    </tr>\n",
       "  </thead>\n",
       "  <tbody>\n",
       "    <tr>\n",
       "      <th>1</th>\n",
       "      <td>69619</td>\n",
       "      <td>11656</td>\n",
       "      <td>35291</td>\n",
       "      <td>378621</td>\n",
       "      <td>5104</td>\n",
       "      <td>3750</td>\n",
       "    </tr>\n",
       "    <tr>\n",
       "      <th>2</th>\n",
       "      <td>19685</td>\n",
       "      <td>1451</td>\n",
       "      <td>6419</td>\n",
       "      <td>78510</td>\n",
       "      <td>1343</td>\n",
       "      <td>563</td>\n",
       "    </tr>\n",
       "    <tr>\n",
       "      <th>3</th>\n",
       "      <td>6102</td>\n",
       "      <td>303</td>\n",
       "      <td>1555</td>\n",
       "      <td>22306</td>\n",
       "      <td>386</td>\n",
       "      <td>124</td>\n",
       "    </tr>\n",
       "    <tr>\n",
       "      <th>4</th>\n",
       "      <td>2350</td>\n",
       "      <td>94</td>\n",
       "      <td>491</td>\n",
       "      <td>8042</td>\n",
       "      <td>122</td>\n",
       "      <td>57</td>\n",
       "    </tr>\n",
       "    <tr>\n",
       "      <th>5</th>\n",
       "      <td>941</td>\n",
       "      <td>38</td>\n",
       "      <td>165</td>\n",
       "      <td>2912</td>\n",
       "      <td>50</td>\n",
       "      <td>17</td>\n",
       "    </tr>\n",
       "    <tr>\n",
       "      <th>6</th>\n",
       "      <td>388</td>\n",
       "      <td>6</td>\n",
       "      <td>47</td>\n",
       "      <td>1063</td>\n",
       "      <td>17</td>\n",
       "      <td>4</td>\n",
       "    </tr>\n",
       "    <tr>\n",
       "      <th>7</th>\n",
       "      <td>159</td>\n",
       "      <td>4</td>\n",
       "      <td>10</td>\n",
       "      <td>355</td>\n",
       "      <td>8</td>\n",
       "      <td>3</td>\n",
       "    </tr>\n",
       "    <tr>\n",
       "      <th>8</th>\n",
       "      <td>67</td>\n",
       "      <td>1</td>\n",
       "      <td>5</td>\n",
       "      <td>138</td>\n",
       "      <td>2</td>\n",
       "      <td>1</td>\n",
       "    </tr>\n",
       "    <tr>\n",
       "      <th>9</th>\n",
       "      <td>36</td>\n",
       "      <td>2</td>\n",
       "      <td>2</td>\n",
       "      <td>71</td>\n",
       "      <td>1</td>\n",
       "      <td>0</td>\n",
       "    </tr>\n",
       "    <tr>\n",
       "      <th>10</th>\n",
       "      <td>24</td>\n",
       "      <td>1</td>\n",
       "      <td>2</td>\n",
       "      <td>29</td>\n",
       "      <td>2</td>\n",
       "      <td>0</td>\n",
       "    </tr>\n",
       "    <tr>\n",
       "      <th>11</th>\n",
       "      <td>9</td>\n",
       "      <td>1</td>\n",
       "      <td>1</td>\n",
       "      <td>24</td>\n",
       "      <td>1</td>\n",
       "      <td>0</td>\n",
       "    </tr>\n",
       "    <tr>\n",
       "      <th>12</th>\n",
       "      <td>8</td>\n",
       "      <td>0</td>\n",
       "      <td>1</td>\n",
       "      <td>11</td>\n",
       "      <td>1</td>\n",
       "      <td>0</td>\n",
       "    </tr>\n",
       "    <tr>\n",
       "      <th>13</th>\n",
       "      <td>9</td>\n",
       "      <td>1</td>\n",
       "      <td>1</td>\n",
       "      <td>13</td>\n",
       "      <td>0</td>\n",
       "      <td>0</td>\n",
       "    </tr>\n",
       "    <tr>\n",
       "      <th>14</th>\n",
       "      <td>6</td>\n",
       "      <td>0</td>\n",
       "      <td>0</td>\n",
       "      <td>5</td>\n",
       "      <td>2</td>\n",
       "      <td>0</td>\n",
       "    </tr>\n",
       "    <tr>\n",
       "      <th>15</th>\n",
       "      <td>1</td>\n",
       "      <td>1</td>\n",
       "      <td>0</td>\n",
       "      <td>9</td>\n",
       "      <td>0</td>\n",
       "      <td>0</td>\n",
       "    </tr>\n",
       "    <tr>\n",
       "      <th>16</th>\n",
       "      <td>3</td>\n",
       "      <td>0</td>\n",
       "      <td>0</td>\n",
       "      <td>3</td>\n",
       "      <td>1</td>\n",
       "      <td>0</td>\n",
       "    </tr>\n",
       "    <tr>\n",
       "      <th>17</th>\n",
       "      <td>2</td>\n",
       "      <td>0</td>\n",
       "      <td>1</td>\n",
       "      <td>5</td>\n",
       "      <td>0</td>\n",
       "      <td>0</td>\n",
       "    </tr>\n",
       "    <tr>\n",
       "      <th>18</th>\n",
       "      <td>3</td>\n",
       "      <td>0</td>\n",
       "      <td>0</td>\n",
       "      <td>3</td>\n",
       "      <td>0</td>\n",
       "      <td>0</td>\n",
       "    </tr>\n",
       "    <tr>\n",
       "      <th>19</th>\n",
       "      <td>1</td>\n",
       "      <td>0</td>\n",
       "      <td>1</td>\n",
       "      <td>5</td>\n",
       "      <td>0</td>\n",
       "      <td>0</td>\n",
       "    </tr>\n",
       "    <tr>\n",
       "      <th>21</th>\n",
       "      <td>0</td>\n",
       "      <td>0</td>\n",
       "      <td>0</td>\n",
       "      <td>4</td>\n",
       "      <td>0</td>\n",
       "      <td>0</td>\n",
       "    </tr>\n",
       "    <tr>\n",
       "      <th>22</th>\n",
       "      <td>2</td>\n",
       "      <td>0</td>\n",
       "      <td>0</td>\n",
       "      <td>3</td>\n",
       "      <td>0</td>\n",
       "      <td>0</td>\n",
       "    </tr>\n",
       "    <tr>\n",
       "      <th>24</th>\n",
       "      <td>1</td>\n",
       "      <td>0</td>\n",
       "      <td>0</td>\n",
       "      <td>1</td>\n",
       "      <td>0</td>\n",
       "      <td>0</td>\n",
       "    </tr>\n",
       "    <tr>\n",
       "      <th>25</th>\n",
       "      <td>1</td>\n",
       "      <td>0</td>\n",
       "      <td>0</td>\n",
       "      <td>0</td>\n",
       "      <td>0</td>\n",
       "      <td>0</td>\n",
       "    </tr>\n",
       "    <tr>\n",
       "      <th>26</th>\n",
       "      <td>0</td>\n",
       "      <td>0</td>\n",
       "      <td>0</td>\n",
       "      <td>1</td>\n",
       "      <td>0</td>\n",
       "      <td>0</td>\n",
       "    </tr>\n",
       "    <tr>\n",
       "      <th>27</th>\n",
       "      <td>0</td>\n",
       "      <td>0</td>\n",
       "      <td>0</td>\n",
       "      <td>2</td>\n",
       "      <td>0</td>\n",
       "      <td>0</td>\n",
       "    </tr>\n",
       "    <tr>\n",
       "      <th>28</th>\n",
       "      <td>1</td>\n",
       "      <td>0</td>\n",
       "      <td>0</td>\n",
       "      <td>0</td>\n",
       "      <td>0</td>\n",
       "      <td>1</td>\n",
       "    </tr>\n",
       "    <tr>\n",
       "      <th>29</th>\n",
       "      <td>0</td>\n",
       "      <td>0</td>\n",
       "      <td>0</td>\n",
       "      <td>3</td>\n",
       "      <td>0</td>\n",
       "      <td>0</td>\n",
       "    </tr>\n",
       "    <tr>\n",
       "      <th>32</th>\n",
       "      <td>1</td>\n",
       "      <td>0</td>\n",
       "      <td>0</td>\n",
       "      <td>0</td>\n",
       "      <td>0</td>\n",
       "      <td>0</td>\n",
       "    </tr>\n",
       "    <tr>\n",
       "      <th>40</th>\n",
       "      <td>1</td>\n",
       "      <td>0</td>\n",
       "      <td>0</td>\n",
       "      <td>1</td>\n",
       "      <td>0</td>\n",
       "      <td>0</td>\n",
       "    </tr>\n",
       "    <tr>\n",
       "      <th>42</th>\n",
       "      <td>1</td>\n",
       "      <td>0</td>\n",
       "      <td>0</td>\n",
       "      <td>1</td>\n",
       "      <td>0</td>\n",
       "      <td>0</td>\n",
       "    </tr>\n",
       "    <tr>\n",
       "      <th>43</th>\n",
       "      <td>1</td>\n",
       "      <td>0</td>\n",
       "      <td>0</td>\n",
       "      <td>0</td>\n",
       "      <td>0</td>\n",
       "      <td>0</td>\n",
       "    </tr>\n",
       "    <tr>\n",
       "      <th>45</th>\n",
       "      <td>1</td>\n",
       "      <td>0</td>\n",
       "      <td>0</td>\n",
       "      <td>0</td>\n",
       "      <td>0</td>\n",
       "      <td>0</td>\n",
       "    </tr>\n",
       "    <tr>\n",
       "      <th>47</th>\n",
       "      <td>1</td>\n",
       "      <td>0</td>\n",
       "      <td>0</td>\n",
       "      <td>0</td>\n",
       "      <td>0</td>\n",
       "      <td>0</td>\n",
       "    </tr>\n",
       "    <tr>\n",
       "      <th>48</th>\n",
       "      <td>0</td>\n",
       "      <td>0</td>\n",
       "      <td>0</td>\n",
       "      <td>1</td>\n",
       "      <td>0</td>\n",
       "      <td>0</td>\n",
       "    </tr>\n",
       "    <tr>\n",
       "      <th>62</th>\n",
       "      <td>0</td>\n",
       "      <td>0</td>\n",
       "      <td>0</td>\n",
       "      <td>1</td>\n",
       "      <td>0</td>\n",
       "      <td>0</td>\n",
       "    </tr>\n",
       "    <tr>\n",
       "      <th>68</th>\n",
       "      <td>0</td>\n",
       "      <td>0</td>\n",
       "      <td>0</td>\n",
       "      <td>0</td>\n",
       "      <td>1</td>\n",
       "      <td>0</td>\n",
       "    </tr>\n",
       "  </tbody>\n",
       "</table>\n",
       "</div>"
      ],
      "text/plain": [
       "Road_Type             Dual carriageway  One way street  Roundabout  \\\n",
       "Number_of_Casualties                                                 \n",
       "1                                69619           11656       35291   \n",
       "2                                19685            1451        6419   \n",
       "3                                 6102             303        1555   \n",
       "4                                 2350              94         491   \n",
       "5                                  941              38         165   \n",
       "6                                  388               6          47   \n",
       "7                                  159               4          10   \n",
       "8                                   67               1           5   \n",
       "9                                   36               2           2   \n",
       "10                                  24               1           2   \n",
       "11                                   9               1           1   \n",
       "12                                   8               0           1   \n",
       "13                                   9               1           1   \n",
       "14                                   6               0           0   \n",
       "15                                   1               1           0   \n",
       "16                                   3               0           0   \n",
       "17                                   2               0           1   \n",
       "18                                   3               0           0   \n",
       "19                                   1               0           1   \n",
       "21                                   0               0           0   \n",
       "22                                   2               0           0   \n",
       "24                                   1               0           0   \n",
       "25                                   1               0           0   \n",
       "26                                   0               0           0   \n",
       "27                                   0               0           0   \n",
       "28                                   1               0           0   \n",
       "29                                   0               0           0   \n",
       "32                                   1               0           0   \n",
       "40                                   1               0           0   \n",
       "42                                   1               0           0   \n",
       "43                                   1               0           0   \n",
       "45                                   1               0           0   \n",
       "47                                   1               0           0   \n",
       "48                                   0               0           0   \n",
       "62                                   0               0           0   \n",
       "68                                   0               0           0   \n",
       "\n",
       "Road_Type             Single carriageway  Slip road  Unknown Road Type  \n",
       "Number_of_Casualties                                                    \n",
       "1                                 378621       5104               3750  \n",
       "2                                  78510       1343                563  \n",
       "3                                  22306        386                124  \n",
       "4                                   8042        122                 57  \n",
       "5                                   2912         50                 17  \n",
       "6                                   1063         17                  4  \n",
       "7                                    355          8                  3  \n",
       "8                                    138          2                  1  \n",
       "9                                     71          1                  0  \n",
       "10                                    29          2                  0  \n",
       "11                                    24          1                  0  \n",
       "12                                    11          1                  0  \n",
       "13                                    13          0                  0  \n",
       "14                                     5          2                  0  \n",
       "15                                     9          0                  0  \n",
       "16                                     3          1                  0  \n",
       "17                                     5          0                  0  \n",
       "18                                     3          0                  0  \n",
       "19                                     5          0                  0  \n",
       "21                                     4          0                  0  \n",
       "22                                     3          0                  0  \n",
       "24                                     1          0                  0  \n",
       "25                                     0          0                  0  \n",
       "26                                     1          0                  0  \n",
       "27                                     2          0                  0  \n",
       "28                                     0          0                  1  \n",
       "29                                     3          0                  0  \n",
       "32                                     0          0                  0  \n",
       "40                                     1          0                  0  \n",
       "42                                     1          0                  0  \n",
       "43                                     0          0                  0  \n",
       "45                                     0          0                  0  \n",
       "47                                     0          0                  0  \n",
       "48                                     1          0                  0  \n",
       "62                                     1          0                  0  \n",
       "68                                     0          1                  0  "
      ]
     },
     "execution_count": 44,
     "metadata": {},
     "output_type": "execute_result"
    }
   ],
   "source": [
    "data.groupby(['Number_of_Casualties', 'Road_Type']).size().unstack()"
   ]
  },
  {
   "cell_type": "markdown",
   "id": "85c5f7d9-067c-45d7-8319-3e08de7397ef",
   "metadata": {},
   "source": [
    "### 20. "
   ]
  },
  {
   "cell_type": "code",
   "execution_count": null,
   "id": "bb2211e6-5105-4ba8-9ac3-6c7153b3d347",
   "metadata": {},
   "outputs": [],
   "source": []
  }
 ],
 "metadata": {
  "kernelspec": {
   "display_name": "Python 3 (ipykernel)",
   "language": "python",
   "name": "python3"
  },
  "language_info": {
   "codemirror_mode": {
    "name": "ipython",
    "version": 3
   },
   "file_extension": ".py",
   "mimetype": "text/x-python",
   "name": "python",
   "nbconvert_exporter": "python",
   "pygments_lexer": "ipython3",
   "version": "3.12.7"
  }
 },
 "nbformat": 4,
 "nbformat_minor": 5
}
