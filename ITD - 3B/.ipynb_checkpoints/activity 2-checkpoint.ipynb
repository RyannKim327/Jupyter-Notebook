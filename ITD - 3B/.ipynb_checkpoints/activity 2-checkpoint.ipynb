{
 "cells": [
  {
   "cell_type": "markdown",
   "id": "10fca578-e6f6-4317-8f8b-ef4518fda5b3",
   "metadata": {},
   "source": [
    "# Testing Python"
   ]
  },
  {
   "cell_type": "code",
   "execution_count": 1,
   "id": "679fcb85-1028-43af-b5b1-2e4975b2b8a6",
   "metadata": {},
   "outputs": [
    {
     "name": "stdout",
     "output_type": "stream",
     "text": [
      "Hello Lord\n"
     ]
    }
   ],
   "source": [
    "print(\"Hello Lord\")"
   ]
  },
  {
   "cell_type": "markdown",
   "id": "9a337bff-7479-44da-9471-68aa5df6455f",
   "metadata": {},
   "source": [
    "# Installing Libararies"
   ]
  },
  {
   "cell_type": "raw",
   "id": "5ae1cc7e-f225-4a89-829d-ab70d7df16d2",
   "metadata": {},
   "source": [
    "pip install numpy"
   ]
  },
  {
   "cell_type": "raw",
   "id": "5a2a86ec-bc0c-4522-9c37-b5a27d2fcb71",
   "metadata": {},
   "source": [
    "pip install pandas"
   ]
  },
  {
   "cell_type": "raw",
   "id": "114a102c-10d6-4976-82f8-3d500c4a4969",
   "metadata": {},
   "source": [
    "pip install matplotlib"
   ]
  },
  {
   "cell_type": "raw",
   "id": "f18aa14d-2070-4d71-b67b-90182c0b9f80",
   "metadata": {},
   "source": [
    "pip install seaborn"
   ]
  },
  {
   "cell_type": "code",
   "execution_count": 2,
   "id": "ac2b8bd0-9d38-49d8-814d-ccc1b9c9cf33",
   "metadata": {},
   "outputs": [],
   "source": [
    "import numpy as np\n",
    "import pandas as pd\n",
    "import matplotlib.pyplot as plt\n",
    "import seaborn as sns"
   ]
  },
  {
   "cell_type": "markdown",
   "id": "63b3308e-aff7-4517-a2f0-ded1150b98b0",
   "metadata": {},
   "source": [
    "# Importing data sets"
   ]
  },
  {
   "cell_type": "code",
   "execution_count": 3,
   "id": "a68296f3-3418-4097-83ce-b3aab44be55d",
   "metadata": {},
   "outputs": [
    {
     "data": {
      "text/html": [
       "<div>\n",
       "<style scoped>\n",
       "    .dataframe tbody tr th:only-of-type {\n",
       "        vertical-align: middle;\n",
       "    }\n",
       "\n",
       "    .dataframe tbody tr th {\n",
       "        vertical-align: top;\n",
       "    }\n",
       "\n",
       "    .dataframe thead th {\n",
       "        text-align: right;\n",
       "    }\n",
       "</style>\n",
       "<table border=\"1\" class=\"dataframe\">\n",
       "  <thead>\n",
       "    <tr style=\"text-align: right;\">\n",
       "      <th></th>\n",
       "      <th>rowid</th>\n",
       "      <th>species</th>\n",
       "      <th>island</th>\n",
       "      <th>bill_length_mm</th>\n",
       "      <th>bill_depth_mm</th>\n",
       "      <th>flipper_length_mm</th>\n",
       "      <th>body_mass_g</th>\n",
       "      <th>sex</th>\n",
       "      <th>year</th>\n",
       "    </tr>\n",
       "  </thead>\n",
       "  <tbody>\n",
       "    <tr>\n",
       "      <th>0</th>\n",
       "      <td>1</td>\n",
       "      <td>Adelie</td>\n",
       "      <td>Torgersen</td>\n",
       "      <td>39.1</td>\n",
       "      <td>18.7</td>\n",
       "      <td>181.0</td>\n",
       "      <td>3750.0</td>\n",
       "      <td>male</td>\n",
       "      <td>2007</td>\n",
       "    </tr>\n",
       "    <tr>\n",
       "      <th>1</th>\n",
       "      <td>2</td>\n",
       "      <td>Adelie</td>\n",
       "      <td>Torgersen</td>\n",
       "      <td>39.5</td>\n",
       "      <td>17.4</td>\n",
       "      <td>186.0</td>\n",
       "      <td>3800.0</td>\n",
       "      <td>female</td>\n",
       "      <td>2007</td>\n",
       "    </tr>\n",
       "    <tr>\n",
       "      <th>2</th>\n",
       "      <td>3</td>\n",
       "      <td>Adelie</td>\n",
       "      <td>Torgersen</td>\n",
       "      <td>40.3</td>\n",
       "      <td>18.0</td>\n",
       "      <td>195.0</td>\n",
       "      <td>3250.0</td>\n",
       "      <td>female</td>\n",
       "      <td>2007</td>\n",
       "    </tr>\n",
       "    <tr>\n",
       "      <th>3</th>\n",
       "      <td>4</td>\n",
       "      <td>Adelie</td>\n",
       "      <td>Torgersen</td>\n",
       "      <td>NaN</td>\n",
       "      <td>NaN</td>\n",
       "      <td>NaN</td>\n",
       "      <td>NaN</td>\n",
       "      <td>NaN</td>\n",
       "      <td>2007</td>\n",
       "    </tr>\n",
       "    <tr>\n",
       "      <th>4</th>\n",
       "      <td>5</td>\n",
       "      <td>Adelie</td>\n",
       "      <td>Torgersen</td>\n",
       "      <td>36.7</td>\n",
       "      <td>19.3</td>\n",
       "      <td>193.0</td>\n",
       "      <td>3450.0</td>\n",
       "      <td>female</td>\n",
       "      <td>2007</td>\n",
       "    </tr>\n",
       "    <tr>\n",
       "      <th>...</th>\n",
       "      <td>...</td>\n",
       "      <td>...</td>\n",
       "      <td>...</td>\n",
       "      <td>...</td>\n",
       "      <td>...</td>\n",
       "      <td>...</td>\n",
       "      <td>...</td>\n",
       "      <td>...</td>\n",
       "      <td>...</td>\n",
       "    </tr>\n",
       "    <tr>\n",
       "      <th>339</th>\n",
       "      <td>340</td>\n",
       "      <td>Chinstrap</td>\n",
       "      <td>Dream</td>\n",
       "      <td>55.8</td>\n",
       "      <td>19.8</td>\n",
       "      <td>207.0</td>\n",
       "      <td>4000.0</td>\n",
       "      <td>male</td>\n",
       "      <td>2009</td>\n",
       "    </tr>\n",
       "    <tr>\n",
       "      <th>340</th>\n",
       "      <td>341</td>\n",
       "      <td>Chinstrap</td>\n",
       "      <td>Dream</td>\n",
       "      <td>43.5</td>\n",
       "      <td>18.1</td>\n",
       "      <td>202.0</td>\n",
       "      <td>3400.0</td>\n",
       "      <td>female</td>\n",
       "      <td>2009</td>\n",
       "    </tr>\n",
       "    <tr>\n",
       "      <th>341</th>\n",
       "      <td>342</td>\n",
       "      <td>Chinstrap</td>\n",
       "      <td>Dream</td>\n",
       "      <td>49.6</td>\n",
       "      <td>18.2</td>\n",
       "      <td>193.0</td>\n",
       "      <td>3775.0</td>\n",
       "      <td>male</td>\n",
       "      <td>2009</td>\n",
       "    </tr>\n",
       "    <tr>\n",
       "      <th>342</th>\n",
       "      <td>343</td>\n",
       "      <td>Chinstrap</td>\n",
       "      <td>Dream</td>\n",
       "      <td>50.8</td>\n",
       "      <td>19.0</td>\n",
       "      <td>210.0</td>\n",
       "      <td>4100.0</td>\n",
       "      <td>male</td>\n",
       "      <td>2009</td>\n",
       "    </tr>\n",
       "    <tr>\n",
       "      <th>343</th>\n",
       "      <td>344</td>\n",
       "      <td>Chinstrap</td>\n",
       "      <td>Dream</td>\n",
       "      <td>50.2</td>\n",
       "      <td>18.7</td>\n",
       "      <td>198.0</td>\n",
       "      <td>3775.0</td>\n",
       "      <td>female</td>\n",
       "      <td>2009</td>\n",
       "    </tr>\n",
       "  </tbody>\n",
       "</table>\n",
       "<p>344 rows × 9 columns</p>\n",
       "</div>"
      ],
      "text/plain": [
       "     rowid    species     island  bill_length_mm  bill_depth_mm  \\\n",
       "0        1     Adelie  Torgersen            39.1           18.7   \n",
       "1        2     Adelie  Torgersen            39.5           17.4   \n",
       "2        3     Adelie  Torgersen            40.3           18.0   \n",
       "3        4     Adelie  Torgersen             NaN            NaN   \n",
       "4        5     Adelie  Torgersen            36.7           19.3   \n",
       "..     ...        ...        ...             ...            ...   \n",
       "339    340  Chinstrap      Dream            55.8           19.8   \n",
       "340    341  Chinstrap      Dream            43.5           18.1   \n",
       "341    342  Chinstrap      Dream            49.6           18.2   \n",
       "342    343  Chinstrap      Dream            50.8           19.0   \n",
       "343    344  Chinstrap      Dream            50.2           18.7   \n",
       "\n",
       "     flipper_length_mm  body_mass_g     sex  year  \n",
       "0                181.0       3750.0    male  2007  \n",
       "1                186.0       3800.0  female  2007  \n",
       "2                195.0       3250.0  female  2007  \n",
       "3                  NaN          NaN     NaN  2007  \n",
       "4                193.0       3450.0  female  2007  \n",
       "..                 ...          ...     ...   ...  \n",
       "339              207.0       4000.0    male  2009  \n",
       "340              202.0       3400.0  female  2009  \n",
       "341              193.0       3775.0    male  2009  \n",
       "342              210.0       4100.0    male  2009  \n",
       "343              198.0       3775.0  female  2009  \n",
       "\n",
       "[344 rows x 9 columns]"
      ]
     },
     "execution_count": 3,
     "metadata": {},
     "output_type": "execute_result"
    }
   ],
   "source": [
    "birds = pd.read_csv(\"datasets\\\\penguins.csv\")\n",
    "birds"
   ]
  },
  {
   "cell_type": "markdown",
   "id": "3fd85b62-3118-483e-bf3d-a7f2f67ec984",
   "metadata": {},
   "source": [
    "# Checking null values"
   ]
  },
  {
   "cell_type": "code",
   "execution_count": 4,
   "id": "248b0947-2ef8-44f3-a017-93cba8a8480c",
   "metadata": {},
   "outputs": [
    {
     "data": {
      "text/plain": [
       "rowid                 0\n",
       "species               0\n",
       "island                0\n",
       "bill_length_mm        2\n",
       "bill_depth_mm         2\n",
       "flipper_length_mm     2\n",
       "body_mass_g           2\n",
       "sex                  11\n",
       "year                  0\n",
       "dtype: int64"
      ]
     },
     "execution_count": 4,
     "metadata": {},
     "output_type": "execute_result"
    }
   ],
   "source": [
    "birds.isnull().sum()"
   ]
  },
  {
   "cell_type": "code",
   "execution_count": 5,
   "id": "07d2c716-f257-410b-9764-76dc47af19bd",
   "metadata": {},
   "outputs": [
    {
     "data": {
      "text/html": [
       "<div>\n",
       "<style scoped>\n",
       "    .dataframe tbody tr th:only-of-type {\n",
       "        vertical-align: middle;\n",
       "    }\n",
       "\n",
       "    .dataframe tbody tr th {\n",
       "        vertical-align: top;\n",
       "    }\n",
       "\n",
       "    .dataframe thead th {\n",
       "        text-align: right;\n",
       "    }\n",
       "</style>\n",
       "<table border=\"1\" class=\"dataframe\">\n",
       "  <thead>\n",
       "    <tr style=\"text-align: right;\">\n",
       "      <th></th>\n",
       "      <th>rowid</th>\n",
       "      <th>bill_length_mm</th>\n",
       "      <th>bill_depth_mm</th>\n",
       "      <th>flipper_length_mm</th>\n",
       "      <th>body_mass_g</th>\n",
       "      <th>year</th>\n",
       "    </tr>\n",
       "  </thead>\n",
       "  <tbody>\n",
       "    <tr>\n",
       "      <th>count</th>\n",
       "      <td>344.000000</td>\n",
       "      <td>342.000000</td>\n",
       "      <td>342.000000</td>\n",
       "      <td>342.000000</td>\n",
       "      <td>342.000000</td>\n",
       "      <td>344.000000</td>\n",
       "    </tr>\n",
       "    <tr>\n",
       "      <th>mean</th>\n",
       "      <td>172.500000</td>\n",
       "      <td>43.921930</td>\n",
       "      <td>17.151170</td>\n",
       "      <td>200.915205</td>\n",
       "      <td>4201.754386</td>\n",
       "      <td>2008.029070</td>\n",
       "    </tr>\n",
       "    <tr>\n",
       "      <th>std</th>\n",
       "      <td>99.448479</td>\n",
       "      <td>5.459584</td>\n",
       "      <td>1.974793</td>\n",
       "      <td>14.061714</td>\n",
       "      <td>801.954536</td>\n",
       "      <td>0.818356</td>\n",
       "    </tr>\n",
       "    <tr>\n",
       "      <th>min</th>\n",
       "      <td>1.000000</td>\n",
       "      <td>32.100000</td>\n",
       "      <td>13.100000</td>\n",
       "      <td>172.000000</td>\n",
       "      <td>2700.000000</td>\n",
       "      <td>2007.000000</td>\n",
       "    </tr>\n",
       "    <tr>\n",
       "      <th>25%</th>\n",
       "      <td>86.750000</td>\n",
       "      <td>39.225000</td>\n",
       "      <td>15.600000</td>\n",
       "      <td>190.000000</td>\n",
       "      <td>3550.000000</td>\n",
       "      <td>2007.000000</td>\n",
       "    </tr>\n",
       "    <tr>\n",
       "      <th>50%</th>\n",
       "      <td>172.500000</td>\n",
       "      <td>44.450000</td>\n",
       "      <td>17.300000</td>\n",
       "      <td>197.000000</td>\n",
       "      <td>4050.000000</td>\n",
       "      <td>2008.000000</td>\n",
       "    </tr>\n",
       "    <tr>\n",
       "      <th>75%</th>\n",
       "      <td>258.250000</td>\n",
       "      <td>48.500000</td>\n",
       "      <td>18.700000</td>\n",
       "      <td>213.000000</td>\n",
       "      <td>4750.000000</td>\n",
       "      <td>2009.000000</td>\n",
       "    </tr>\n",
       "    <tr>\n",
       "      <th>max</th>\n",
       "      <td>344.000000</td>\n",
       "      <td>59.600000</td>\n",
       "      <td>21.500000</td>\n",
       "      <td>231.000000</td>\n",
       "      <td>6300.000000</td>\n",
       "      <td>2009.000000</td>\n",
       "    </tr>\n",
       "  </tbody>\n",
       "</table>\n",
       "</div>"
      ],
      "text/plain": [
       "            rowid  bill_length_mm  bill_depth_mm  flipper_length_mm  \\\n",
       "count  344.000000      342.000000     342.000000         342.000000   \n",
       "mean   172.500000       43.921930      17.151170         200.915205   \n",
       "std     99.448479        5.459584       1.974793          14.061714   \n",
       "min      1.000000       32.100000      13.100000         172.000000   \n",
       "25%     86.750000       39.225000      15.600000         190.000000   \n",
       "50%    172.500000       44.450000      17.300000         197.000000   \n",
       "75%    258.250000       48.500000      18.700000         213.000000   \n",
       "max    344.000000       59.600000      21.500000         231.000000   \n",
       "\n",
       "       body_mass_g         year  \n",
       "count   342.000000   344.000000  \n",
       "mean   4201.754386  2008.029070  \n",
       "std     801.954536     0.818356  \n",
       "min    2700.000000  2007.000000  \n",
       "25%    3550.000000  2007.000000  \n",
       "50%    4050.000000  2008.000000  \n",
       "75%    4750.000000  2009.000000  \n",
       "max    6300.000000  2009.000000  "
      ]
     },
     "execution_count": 5,
     "metadata": {},
     "output_type": "execute_result"
    }
   ],
   "source": [
    "birds.describe()"
   ]
  },
  {
   "cell_type": "code",
   "execution_count": 6,
   "id": "5a03391a-c5cd-48c2-8abd-1a4758c70f6a",
   "metadata": {},
   "outputs": [
    {
     "data": {
      "text/html": [
       "<div>\n",
       "<style scoped>\n",
       "    .dataframe tbody tr th:only-of-type {\n",
       "        vertical-align: middle;\n",
       "    }\n",
       "\n",
       "    .dataframe tbody tr th {\n",
       "        vertical-align: top;\n",
       "    }\n",
       "\n",
       "    .dataframe thead th {\n",
       "        text-align: right;\n",
       "    }\n",
       "</style>\n",
       "<table border=\"1\" class=\"dataframe\">\n",
       "  <thead>\n",
       "    <tr style=\"text-align: right;\">\n",
       "      <th></th>\n",
       "      <th>count</th>\n",
       "      <th>mean</th>\n",
       "      <th>std</th>\n",
       "      <th>min</th>\n",
       "      <th>25%</th>\n",
       "      <th>50%</th>\n",
       "      <th>75%</th>\n",
       "      <th>max</th>\n",
       "    </tr>\n",
       "  </thead>\n",
       "  <tbody>\n",
       "    <tr>\n",
       "      <th>rowid</th>\n",
       "      <td>344.0</td>\n",
       "      <td>172.500000</td>\n",
       "      <td>99.448479</td>\n",
       "      <td>1.0</td>\n",
       "      <td>86.750</td>\n",
       "      <td>172.50</td>\n",
       "      <td>258.25</td>\n",
       "      <td>344.0</td>\n",
       "    </tr>\n",
       "    <tr>\n",
       "      <th>bill_length_mm</th>\n",
       "      <td>342.0</td>\n",
       "      <td>43.921930</td>\n",
       "      <td>5.459584</td>\n",
       "      <td>32.1</td>\n",
       "      <td>39.225</td>\n",
       "      <td>44.45</td>\n",
       "      <td>48.50</td>\n",
       "      <td>59.6</td>\n",
       "    </tr>\n",
       "    <tr>\n",
       "      <th>bill_depth_mm</th>\n",
       "      <td>342.0</td>\n",
       "      <td>17.151170</td>\n",
       "      <td>1.974793</td>\n",
       "      <td>13.1</td>\n",
       "      <td>15.600</td>\n",
       "      <td>17.30</td>\n",
       "      <td>18.70</td>\n",
       "      <td>21.5</td>\n",
       "    </tr>\n",
       "    <tr>\n",
       "      <th>flipper_length_mm</th>\n",
       "      <td>342.0</td>\n",
       "      <td>200.915205</td>\n",
       "      <td>14.061714</td>\n",
       "      <td>172.0</td>\n",
       "      <td>190.000</td>\n",
       "      <td>197.00</td>\n",
       "      <td>213.00</td>\n",
       "      <td>231.0</td>\n",
       "    </tr>\n",
       "    <tr>\n",
       "      <th>body_mass_g</th>\n",
       "      <td>342.0</td>\n",
       "      <td>4201.754386</td>\n",
       "      <td>801.954536</td>\n",
       "      <td>2700.0</td>\n",
       "      <td>3550.000</td>\n",
       "      <td>4050.00</td>\n",
       "      <td>4750.00</td>\n",
       "      <td>6300.0</td>\n",
       "    </tr>\n",
       "    <tr>\n",
       "      <th>year</th>\n",
       "      <td>344.0</td>\n",
       "      <td>2008.029070</td>\n",
       "      <td>0.818356</td>\n",
       "      <td>2007.0</td>\n",
       "      <td>2007.000</td>\n",
       "      <td>2008.00</td>\n",
       "      <td>2009.00</td>\n",
       "      <td>2009.0</td>\n",
       "    </tr>\n",
       "  </tbody>\n",
       "</table>\n",
       "</div>"
      ],
      "text/plain": [
       "                   count         mean         std     min       25%      50%  \\\n",
       "rowid              344.0   172.500000   99.448479     1.0    86.750   172.50   \n",
       "bill_length_mm     342.0    43.921930    5.459584    32.1    39.225    44.45   \n",
       "bill_depth_mm      342.0    17.151170    1.974793    13.1    15.600    17.30   \n",
       "flipper_length_mm  342.0   200.915205   14.061714   172.0   190.000   197.00   \n",
       "body_mass_g        342.0  4201.754386  801.954536  2700.0  3550.000  4050.00   \n",
       "year               344.0  2008.029070    0.818356  2007.0  2007.000  2008.00   \n",
       "\n",
       "                       75%     max  \n",
       "rowid               258.25   344.0  \n",
       "bill_length_mm       48.50    59.6  \n",
       "bill_depth_mm        18.70    21.5  \n",
       "flipper_length_mm   213.00   231.0  \n",
       "body_mass_g        4750.00  6300.0  \n",
       "year               2009.00  2009.0  "
      ]
     },
     "execution_count": 6,
     "metadata": {},
     "output_type": "execute_result"
    }
   ],
   "source": [
    "birds.describe().T"
   ]
  },
  {
   "cell_type": "code",
   "execution_count": 7,
   "id": "7aae91ad-0029-4e8c-bf28-567c7f92c506",
   "metadata": {},
   "outputs": [
    {
     "data": {
      "text/plain": [
       "0      Torgersen\n",
       "1      Torgersen\n",
       "2      Torgersen\n",
       "3      Torgersen\n",
       "4      Torgersen\n",
       "         ...    \n",
       "339        Dream\n",
       "340        Dream\n",
       "341        Dream\n",
       "342        Dream\n",
       "343        Dream\n",
       "Name: island, Length: 344, dtype: object"
      ]
     },
     "execution_count": 7,
     "metadata": {},
     "output_type": "execute_result"
    }
   ],
   "source": [
    "birds['island']"
   ]
  },
  {
   "cell_type": "markdown",
   "id": "dcf76c4b-c9da-4f4c-8de6-d49419e1c966",
   "metadata": {},
   "source": [
    "# Adding weight"
   ]
  },
  {
   "cell_type": "code",
   "execution_count": 8,
   "id": "924e4dd9-23db-485b-be70-a84a96fdb502",
   "metadata": {},
   "outputs": [
    {
     "data": {
      "text/html": [
       "<div>\n",
       "<style scoped>\n",
       "    .dataframe tbody tr th:only-of-type {\n",
       "        vertical-align: middle;\n",
       "    }\n",
       "\n",
       "    .dataframe tbody tr th {\n",
       "        vertical-align: top;\n",
       "    }\n",
       "\n",
       "    .dataframe thead th {\n",
       "        text-align: right;\n",
       "    }\n",
       "</style>\n",
       "<table border=\"1\" class=\"dataframe\">\n",
       "  <thead>\n",
       "    <tr style=\"text-align: right;\">\n",
       "      <th></th>\n",
       "      <th>rowid</th>\n",
       "      <th>species</th>\n",
       "      <th>island</th>\n",
       "      <th>bill_length_mm</th>\n",
       "      <th>bill_depth_mm</th>\n",
       "      <th>flipper_length_mm</th>\n",
       "      <th>body_mass_g</th>\n",
       "      <th>sex</th>\n",
       "      <th>year</th>\n",
       "      <th>weight</th>\n",
       "    </tr>\n",
       "  </thead>\n",
       "  <tbody>\n",
       "    <tr>\n",
       "      <th>0</th>\n",
       "      <td>1</td>\n",
       "      <td>Adelie</td>\n",
       "      <td>Torgersen</td>\n",
       "      <td>39.1</td>\n",
       "      <td>18.7</td>\n",
       "      <td>181.0</td>\n",
       "      <td>3750.0</td>\n",
       "      <td>male</td>\n",
       "      <td>2007</td>\n",
       "      <td>3.8</td>\n",
       "    </tr>\n",
       "    <tr>\n",
       "      <th>1</th>\n",
       "      <td>2</td>\n",
       "      <td>Adelie</td>\n",
       "      <td>Torgersen</td>\n",
       "      <td>39.5</td>\n",
       "      <td>17.4</td>\n",
       "      <td>186.0</td>\n",
       "      <td>3800.0</td>\n",
       "      <td>female</td>\n",
       "      <td>2007</td>\n",
       "      <td>3.8</td>\n",
       "    </tr>\n",
       "    <tr>\n",
       "      <th>2</th>\n",
       "      <td>3</td>\n",
       "      <td>Adelie</td>\n",
       "      <td>Torgersen</td>\n",
       "      <td>40.3</td>\n",
       "      <td>18.0</td>\n",
       "      <td>195.0</td>\n",
       "      <td>3250.0</td>\n",
       "      <td>female</td>\n",
       "      <td>2007</td>\n",
       "      <td>3.2</td>\n",
       "    </tr>\n",
       "    <tr>\n",
       "      <th>3</th>\n",
       "      <td>4</td>\n",
       "      <td>Adelie</td>\n",
       "      <td>Torgersen</td>\n",
       "      <td>NaN</td>\n",
       "      <td>NaN</td>\n",
       "      <td>NaN</td>\n",
       "      <td>NaN</td>\n",
       "      <td>NaN</td>\n",
       "      <td>2007</td>\n",
       "      <td>NaN</td>\n",
       "    </tr>\n",
       "    <tr>\n",
       "      <th>4</th>\n",
       "      <td>5</td>\n",
       "      <td>Adelie</td>\n",
       "      <td>Torgersen</td>\n",
       "      <td>36.7</td>\n",
       "      <td>19.3</td>\n",
       "      <td>193.0</td>\n",
       "      <td>3450.0</td>\n",
       "      <td>female</td>\n",
       "      <td>2007</td>\n",
       "      <td>3.4</td>\n",
       "    </tr>\n",
       "    <tr>\n",
       "      <th>...</th>\n",
       "      <td>...</td>\n",
       "      <td>...</td>\n",
       "      <td>...</td>\n",
       "      <td>...</td>\n",
       "      <td>...</td>\n",
       "      <td>...</td>\n",
       "      <td>...</td>\n",
       "      <td>...</td>\n",
       "      <td>...</td>\n",
       "      <td>...</td>\n",
       "    </tr>\n",
       "    <tr>\n",
       "      <th>339</th>\n",
       "      <td>340</td>\n",
       "      <td>Chinstrap</td>\n",
       "      <td>Dream</td>\n",
       "      <td>55.8</td>\n",
       "      <td>19.8</td>\n",
       "      <td>207.0</td>\n",
       "      <td>4000.0</td>\n",
       "      <td>male</td>\n",
       "      <td>2009</td>\n",
       "      <td>4.0</td>\n",
       "    </tr>\n",
       "    <tr>\n",
       "      <th>340</th>\n",
       "      <td>341</td>\n",
       "      <td>Chinstrap</td>\n",
       "      <td>Dream</td>\n",
       "      <td>43.5</td>\n",
       "      <td>18.1</td>\n",
       "      <td>202.0</td>\n",
       "      <td>3400.0</td>\n",
       "      <td>female</td>\n",
       "      <td>2009</td>\n",
       "      <td>3.4</td>\n",
       "    </tr>\n",
       "    <tr>\n",
       "      <th>341</th>\n",
       "      <td>342</td>\n",
       "      <td>Chinstrap</td>\n",
       "      <td>Dream</td>\n",
       "      <td>49.6</td>\n",
       "      <td>18.2</td>\n",
       "      <td>193.0</td>\n",
       "      <td>3775.0</td>\n",
       "      <td>male</td>\n",
       "      <td>2009</td>\n",
       "      <td>3.8</td>\n",
       "    </tr>\n",
       "    <tr>\n",
       "      <th>342</th>\n",
       "      <td>343</td>\n",
       "      <td>Chinstrap</td>\n",
       "      <td>Dream</td>\n",
       "      <td>50.8</td>\n",
       "      <td>19.0</td>\n",
       "      <td>210.0</td>\n",
       "      <td>4100.0</td>\n",
       "      <td>male</td>\n",
       "      <td>2009</td>\n",
       "      <td>4.1</td>\n",
       "    </tr>\n",
       "    <tr>\n",
       "      <th>343</th>\n",
       "      <td>344</td>\n",
       "      <td>Chinstrap</td>\n",
       "      <td>Dream</td>\n",
       "      <td>50.2</td>\n",
       "      <td>18.7</td>\n",
       "      <td>198.0</td>\n",
       "      <td>3775.0</td>\n",
       "      <td>female</td>\n",
       "      <td>2009</td>\n",
       "      <td>3.8</td>\n",
       "    </tr>\n",
       "  </tbody>\n",
       "</table>\n",
       "<p>344 rows × 10 columns</p>\n",
       "</div>"
      ],
      "text/plain": [
       "     rowid    species     island  bill_length_mm  bill_depth_mm  \\\n",
       "0        1     Adelie  Torgersen            39.1           18.7   \n",
       "1        2     Adelie  Torgersen            39.5           17.4   \n",
       "2        3     Adelie  Torgersen            40.3           18.0   \n",
       "3        4     Adelie  Torgersen             NaN            NaN   \n",
       "4        5     Adelie  Torgersen            36.7           19.3   \n",
       "..     ...        ...        ...             ...            ...   \n",
       "339    340  Chinstrap      Dream            55.8           19.8   \n",
       "340    341  Chinstrap      Dream            43.5           18.1   \n",
       "341    342  Chinstrap      Dream            49.6           18.2   \n",
       "342    343  Chinstrap      Dream            50.8           19.0   \n",
       "343    344  Chinstrap      Dream            50.2           18.7   \n",
       "\n",
       "     flipper_length_mm  body_mass_g     sex  year  weight  \n",
       "0                181.0       3750.0    male  2007     3.8  \n",
       "1                186.0       3800.0  female  2007     3.8  \n",
       "2                195.0       3250.0  female  2007     3.2  \n",
       "3                  NaN          NaN     NaN  2007     NaN  \n",
       "4                193.0       3450.0  female  2007     3.4  \n",
       "..                 ...          ...     ...   ...     ...  \n",
       "339              207.0       4000.0    male  2009     4.0  \n",
       "340              202.0       3400.0  female  2009     3.4  \n",
       "341              193.0       3775.0    male  2009     3.8  \n",
       "342              210.0       4100.0    male  2009     4.1  \n",
       "343              198.0       3775.0  female  2009     3.8  \n",
       "\n",
       "[344 rows x 10 columns]"
      ]
     },
     "execution_count": 8,
     "metadata": {},
     "output_type": "execute_result"
    }
   ],
   "source": [
    "birds['weight'] = np.round(birds['body_mass_g'] / 1000, 1)\n",
    "birds"
   ]
  },
  {
   "cell_type": "markdown",
   "id": "18c1a828-cb4a-4b88-9f44-997213cf54d9",
   "metadata": {},
   "source": [
    "# Setting up null values"
   ]
  },
  {
   "cell_type": "code",
   "execution_count": 9,
   "id": "0d9e58e6-b3f2-46e5-a28b-c57ca05a39cc",
   "metadata": {},
   "outputs": [],
   "source": [
    "birds['bill_length_mm'] = birds['bill_length_mm'].fillna(birds['bill_length_mm'].mean())"
   ]
  },
  {
   "cell_type": "code",
   "execution_count": 10,
   "id": "d58f965d-1315-43a6-9229-5fd0c8b4b651",
   "metadata": {},
   "outputs": [],
   "source": [
    "birds['bill_depth_mm'] = birds['bill_depth_mm'].fillna(birds['bill_depth_mm'].mean())"
   ]
  },
  {
   "cell_type": "code",
   "execution_count": 11,
   "id": "83d533f9-d0ec-42e0-942a-8d229858de4b",
   "metadata": {},
   "outputs": [],
   "source": [
    "birds['flipper_length_mm'] = birds['flipper_length_mm'].fillna(birds['flipper_length_mm'].mean())"
   ]
  },
  {
   "cell_type": "code",
   "execution_count": 12,
   "id": "f1a03ae5-488e-4f98-9937-f34fa4ee88ed",
   "metadata": {},
   "outputs": [],
   "source": [
    "birds['body_mass_g'] = birds['body_mass_g'].fillna(birds['body_mass_g'].mean())"
   ]
  },
  {
   "cell_type": "code",
   "execution_count": 13,
   "id": "ab10f4fe-4eba-4121-8171-c7272ce9563b",
   "metadata": {},
   "outputs": [],
   "source": [
    "birds['sex'] = birds['sex'].fillna(birds['sex'].mode()[0])"
   ]
  },
  {
   "cell_type": "code",
   "execution_count": 14,
   "id": "e7a4567d-d454-4b86-9212-851701fa0064",
   "metadata": {},
   "outputs": [
    {
     "data": {
      "text/html": [
       "<div>\n",
       "<style scoped>\n",
       "    .dataframe tbody tr th:only-of-type {\n",
       "        vertical-align: middle;\n",
       "    }\n",
       "\n",
       "    .dataframe tbody tr th {\n",
       "        vertical-align: top;\n",
       "    }\n",
       "\n",
       "    .dataframe thead th {\n",
       "        text-align: right;\n",
       "    }\n",
       "</style>\n",
       "<table border=\"1\" class=\"dataframe\">\n",
       "  <thead>\n",
       "    <tr style=\"text-align: right;\">\n",
       "      <th></th>\n",
       "      <th>rowid</th>\n",
       "      <th>species</th>\n",
       "      <th>island</th>\n",
       "      <th>bill_length_mm</th>\n",
       "      <th>bill_depth_mm</th>\n",
       "      <th>flipper_length_mm</th>\n",
       "      <th>body_mass_g</th>\n",
       "      <th>sex</th>\n",
       "      <th>year</th>\n",
       "      <th>weight</th>\n",
       "    </tr>\n",
       "  </thead>\n",
       "  <tbody>\n",
       "    <tr>\n",
       "      <th>0</th>\n",
       "      <td>1</td>\n",
       "      <td>Adelie</td>\n",
       "      <td>Torgersen</td>\n",
       "      <td>39.10000</td>\n",
       "      <td>18.70000</td>\n",
       "      <td>181.000000</td>\n",
       "      <td>3750.000000</td>\n",
       "      <td>male</td>\n",
       "      <td>2007</td>\n",
       "      <td>3.75</td>\n",
       "    </tr>\n",
       "    <tr>\n",
       "      <th>1</th>\n",
       "      <td>2</td>\n",
       "      <td>Adelie</td>\n",
       "      <td>Torgersen</td>\n",
       "      <td>39.50000</td>\n",
       "      <td>17.40000</td>\n",
       "      <td>186.000000</td>\n",
       "      <td>3800.000000</td>\n",
       "      <td>female</td>\n",
       "      <td>2007</td>\n",
       "      <td>3.80</td>\n",
       "    </tr>\n",
       "    <tr>\n",
       "      <th>2</th>\n",
       "      <td>3</td>\n",
       "      <td>Adelie</td>\n",
       "      <td>Torgersen</td>\n",
       "      <td>40.30000</td>\n",
       "      <td>18.00000</td>\n",
       "      <td>195.000000</td>\n",
       "      <td>3250.000000</td>\n",
       "      <td>female</td>\n",
       "      <td>2007</td>\n",
       "      <td>3.25</td>\n",
       "    </tr>\n",
       "    <tr>\n",
       "      <th>3</th>\n",
       "      <td>4</td>\n",
       "      <td>Adelie</td>\n",
       "      <td>Torgersen</td>\n",
       "      <td>43.92193</td>\n",
       "      <td>17.15117</td>\n",
       "      <td>200.915205</td>\n",
       "      <td>4201.754386</td>\n",
       "      <td>male</td>\n",
       "      <td>2007</td>\n",
       "      <td>4.20</td>\n",
       "    </tr>\n",
       "    <tr>\n",
       "      <th>4</th>\n",
       "      <td>5</td>\n",
       "      <td>Adelie</td>\n",
       "      <td>Torgersen</td>\n",
       "      <td>36.70000</td>\n",
       "      <td>19.30000</td>\n",
       "      <td>193.000000</td>\n",
       "      <td>3450.000000</td>\n",
       "      <td>female</td>\n",
       "      <td>2007</td>\n",
       "      <td>3.45</td>\n",
       "    </tr>\n",
       "    <tr>\n",
       "      <th>...</th>\n",
       "      <td>...</td>\n",
       "      <td>...</td>\n",
       "      <td>...</td>\n",
       "      <td>...</td>\n",
       "      <td>...</td>\n",
       "      <td>...</td>\n",
       "      <td>...</td>\n",
       "      <td>...</td>\n",
       "      <td>...</td>\n",
       "      <td>...</td>\n",
       "    </tr>\n",
       "    <tr>\n",
       "      <th>339</th>\n",
       "      <td>340</td>\n",
       "      <td>Chinstrap</td>\n",
       "      <td>Dream</td>\n",
       "      <td>55.80000</td>\n",
       "      <td>19.80000</td>\n",
       "      <td>207.000000</td>\n",
       "      <td>4000.000000</td>\n",
       "      <td>male</td>\n",
       "      <td>2009</td>\n",
       "      <td>4.00</td>\n",
       "    </tr>\n",
       "    <tr>\n",
       "      <th>340</th>\n",
       "      <td>341</td>\n",
       "      <td>Chinstrap</td>\n",
       "      <td>Dream</td>\n",
       "      <td>43.50000</td>\n",
       "      <td>18.10000</td>\n",
       "      <td>202.000000</td>\n",
       "      <td>3400.000000</td>\n",
       "      <td>female</td>\n",
       "      <td>2009</td>\n",
       "      <td>3.40</td>\n",
       "    </tr>\n",
       "    <tr>\n",
       "      <th>341</th>\n",
       "      <td>342</td>\n",
       "      <td>Chinstrap</td>\n",
       "      <td>Dream</td>\n",
       "      <td>49.60000</td>\n",
       "      <td>18.20000</td>\n",
       "      <td>193.000000</td>\n",
       "      <td>3775.000000</td>\n",
       "      <td>male</td>\n",
       "      <td>2009</td>\n",
       "      <td>3.78</td>\n",
       "    </tr>\n",
       "    <tr>\n",
       "      <th>342</th>\n",
       "      <td>343</td>\n",
       "      <td>Chinstrap</td>\n",
       "      <td>Dream</td>\n",
       "      <td>50.80000</td>\n",
       "      <td>19.00000</td>\n",
       "      <td>210.000000</td>\n",
       "      <td>4100.000000</td>\n",
       "      <td>male</td>\n",
       "      <td>2009</td>\n",
       "      <td>4.10</td>\n",
       "    </tr>\n",
       "    <tr>\n",
       "      <th>343</th>\n",
       "      <td>344</td>\n",
       "      <td>Chinstrap</td>\n",
       "      <td>Dream</td>\n",
       "      <td>50.20000</td>\n",
       "      <td>18.70000</td>\n",
       "      <td>198.000000</td>\n",
       "      <td>3775.000000</td>\n",
       "      <td>female</td>\n",
       "      <td>2009</td>\n",
       "      <td>3.78</td>\n",
       "    </tr>\n",
       "  </tbody>\n",
       "</table>\n",
       "<p>344 rows × 10 columns</p>\n",
       "</div>"
      ],
      "text/plain": [
       "     rowid    species     island  bill_length_mm  bill_depth_mm  \\\n",
       "0        1     Adelie  Torgersen        39.10000       18.70000   \n",
       "1        2     Adelie  Torgersen        39.50000       17.40000   \n",
       "2        3     Adelie  Torgersen        40.30000       18.00000   \n",
       "3        4     Adelie  Torgersen        43.92193       17.15117   \n",
       "4        5     Adelie  Torgersen        36.70000       19.30000   \n",
       "..     ...        ...        ...             ...            ...   \n",
       "339    340  Chinstrap      Dream        55.80000       19.80000   \n",
       "340    341  Chinstrap      Dream        43.50000       18.10000   \n",
       "341    342  Chinstrap      Dream        49.60000       18.20000   \n",
       "342    343  Chinstrap      Dream        50.80000       19.00000   \n",
       "343    344  Chinstrap      Dream        50.20000       18.70000   \n",
       "\n",
       "     flipper_length_mm  body_mass_g     sex  year  weight  \n",
       "0           181.000000  3750.000000    male  2007    3.75  \n",
       "1           186.000000  3800.000000  female  2007    3.80  \n",
       "2           195.000000  3250.000000  female  2007    3.25  \n",
       "3           200.915205  4201.754386    male  2007    4.20  \n",
       "4           193.000000  3450.000000  female  2007    3.45  \n",
       "..                 ...          ...     ...   ...     ...  \n",
       "339         207.000000  4000.000000    male  2009    4.00  \n",
       "340         202.000000  3400.000000  female  2009    3.40  \n",
       "341         193.000000  3775.000000    male  2009    3.78  \n",
       "342         210.000000  4100.000000    male  2009    4.10  \n",
       "343         198.000000  3775.000000  female  2009    3.78  \n",
       "\n",
       "[344 rows x 10 columns]"
      ]
     },
     "execution_count": 14,
     "metadata": {},
     "output_type": "execute_result"
    }
   ],
   "source": [
    "birds['weight'] = np.round(birds['body_mass_g'] / 1000, 2)\n",
    "birds"
   ]
  },
  {
   "cell_type": "code",
   "execution_count": 15,
   "id": "63c51c5e-ec9b-4db3-b533-557bdad97c53",
   "metadata": {},
   "outputs": [
    {
     "data": {
      "text/plain": [
       "rowid                0\n",
       "species              0\n",
       "island               0\n",
       "bill_length_mm       0\n",
       "bill_depth_mm        0\n",
       "flipper_length_mm    0\n",
       "body_mass_g          0\n",
       "sex                  0\n",
       "year                 0\n",
       "weight               0\n",
       "dtype: int64"
      ]
     },
     "execution_count": 15,
     "metadata": {},
     "output_type": "execute_result"
    }
   ],
   "source": [
    "birds.isnull().sum()"
   ]
  },
  {
   "cell_type": "code",
   "execution_count": 16,
   "id": "2da4704c-495f-431d-be58-0e8ea17b07cb",
   "metadata": {},
   "outputs": [
    {
     "name": "stdout",
     "output_type": "stream",
     "text": [
      "<class 'pandas.core.frame.DataFrame'>\n",
      "RangeIndex: 344 entries, 0 to 343\n",
      "Data columns (total 10 columns):\n",
      " #   Column             Non-Null Count  Dtype  \n",
      "---  ------             --------------  -----  \n",
      " 0   rowid              344 non-null    int64  \n",
      " 1   species            344 non-null    object \n",
      " 2   island             344 non-null    object \n",
      " 3   bill_length_mm     344 non-null    float64\n",
      " 4   bill_depth_mm      344 non-null    float64\n",
      " 5   flipper_length_mm  344 non-null    float64\n",
      " 6   body_mass_g        344 non-null    float64\n",
      " 7   sex                344 non-null    object \n",
      " 8   year               344 non-null    int64  \n",
      " 9   weight             344 non-null    float64\n",
      "dtypes: float64(5), int64(2), object(3)\n",
      "memory usage: 27.0+ KB\n"
     ]
    }
   ],
   "source": [
    "birds.info()"
   ]
  },
  {
   "cell_type": "code",
   "execution_count": 17,
   "id": "6b42ba40-f73e-4424-8114-c7cd3ea506df",
   "metadata": {},
   "outputs": [],
   "source": [
    "birds['rowid'] = birds['rowid'].astype('category')\n",
    "birds['year'] = birds['year'].astype('category')\n",
    "birds['species'] = birds['species'].astype('category')\n",
    "birds['island'] = birds['island'].astype('category')\n",
    "birds['sex'] = birds['sex'].astype('category')\n"
   ]
  },
  {
   "cell_type": "code",
   "execution_count": 18,
   "id": "25147eb1-7bba-4e9c-baa2-17231d540f42",
   "metadata": {},
   "outputs": [
    {
     "name": "stdout",
     "output_type": "stream",
     "text": [
      "<class 'pandas.core.frame.DataFrame'>\n",
      "RangeIndex: 344 entries, 0 to 343\n",
      "Data columns (total 10 columns):\n",
      " #   Column             Non-Null Count  Dtype   \n",
      "---  ------             --------------  -----   \n",
      " 0   rowid              344 non-null    category\n",
      " 1   species            344 non-null    category\n",
      " 2   island             344 non-null    category\n",
      " 3   bill_length_mm     344 non-null    float64 \n",
      " 4   bill_depth_mm      344 non-null    float64 \n",
      " 5   flipper_length_mm  344 non-null    float64 \n",
      " 6   body_mass_g        344 non-null    float64 \n",
      " 7   sex                344 non-null    category\n",
      " 8   year               344 non-null    category\n",
      " 9   weight             344 non-null    float64 \n",
      "dtypes: category(5), float64(5)\n",
      "memory usage: 26.9 KB\n"
     ]
    }
   ],
   "source": [
    "birds.info()"
   ]
  },
  {
   "cell_type": "markdown",
   "id": "b7560b38-3dcc-4afb-9b26-01a84b0b09c9",
   "metadata": {},
   "source": [
    "# Counting stars"
   ]
  },
  {
   "cell_type": "code",
   "execution_count": 19,
   "id": "99440ba8-86e6-4769-ab59-29b822764060",
   "metadata": {},
   "outputs": [
    {
     "data": {
      "text/plain": [
       "rowid                152\n",
       "species              152\n",
       "island               152\n",
       "bill_length_mm       152\n",
       "bill_depth_mm        152\n",
       "flipper_length_mm    152\n",
       "body_mass_g          152\n",
       "sex                  152\n",
       "year                 152\n",
       "weight               152\n",
       "dtype: int64"
      ]
     },
     "execution_count": 19,
     "metadata": {},
     "output_type": "execute_result"
    }
   ],
   "source": [
    "adelie = birds[birds['species'] == \"Adelie\"]\n",
    "adelie.count()"
   ]
  },
  {
   "cell_type": "code",
   "execution_count": 20,
   "id": "f97c13ad-40e0-4005-9c41-dbba03fdae09",
   "metadata": {},
   "outputs": [
    {
     "data": {
      "text/plain": [
       "rowid                124\n",
       "species              124\n",
       "island               124\n",
       "bill_length_mm       124\n",
       "bill_depth_mm        124\n",
       "flipper_length_mm    124\n",
       "body_mass_g          124\n",
       "sex                  124\n",
       "year                 124\n",
       "weight               124\n",
       "dtype: int64"
      ]
     },
     "execution_count": 20,
     "metadata": {},
     "output_type": "execute_result"
    }
   ],
   "source": [
    "gentoo = birds[birds['species'] == \"Gentoo\"]\n",
    "gentoo.count()"
   ]
  },
  {
   "cell_type": "code",
   "execution_count": 21,
   "id": "b69a1158-2404-4b16-ad7d-b822d2975261",
   "metadata": {},
   "outputs": [
    {
     "data": {
      "text/plain": [
       "rowid                68\n",
       "species              68\n",
       "island               68\n",
       "bill_length_mm       68\n",
       "bill_depth_mm        68\n",
       "flipper_length_mm    68\n",
       "body_mass_g          68\n",
       "sex                  68\n",
       "year                 68\n",
       "weight               68\n",
       "dtype: int64"
      ]
     },
     "execution_count": 21,
     "metadata": {},
     "output_type": "execute_result"
    }
   ],
   "source": [
    "chains = birds[birds['species'] == \"Chinstrap\"]\n",
    "chains.count()"
   ]
  },
  {
   "cell_type": "code",
   "execution_count": 22,
   "id": "402e57a2-c7a6-4149-9c0d-445235f3221a",
   "metadata": {},
   "outputs": [],
   "source": [
    "total = adelie.count() + gentoo.count() + chains.count()"
   ]
  },
  {
   "cell_type": "markdown",
   "id": "09898770-1c0d-48d9-bf52-759037390095",
   "metadata": {},
   "source": [
    "# How many are there in kilos\n",
    "> I use 5 kilos to see the differences"
   ]
  },
  {
   "cell_type": "code",
   "execution_count": 23,
   "id": "7799466d-f9ee-42fa-bd26-d04098e31ad1",
   "metadata": {},
   "outputs": [
    {
     "data": {
      "text/plain": [
       "rowid                61\n",
       "species              61\n",
       "island               61\n",
       "bill_length_mm       61\n",
       "bill_depth_mm        61\n",
       "flipper_length_mm    61\n",
       "body_mass_g          61\n",
       "sex                  61\n",
       "year                 61\n",
       "weight               61\n",
       "dtype: int64"
      ]
     },
     "execution_count": 23,
     "metadata": {},
     "output_type": "execute_result"
    }
   ],
   "source": [
    "# 3kgs\n",
    "g = birds[\n",
    "    birds['species'] == \"Gentoo\"\n",
    "]\n",
    "g[g['weight'] > 5].count()"
   ]
  },
  {
   "cell_type": "code",
   "execution_count": 24,
   "id": "4f7439ec-e73b-46e9-9779-f338547d8e18",
   "metadata": {},
   "outputs": [
    {
     "data": {
      "text/plain": [
       "rowid                57\n",
       "species              57\n",
       "island               57\n",
       "bill_length_mm       57\n",
       "bill_depth_mm        57\n",
       "flipper_length_mm    57\n",
       "body_mass_g          57\n",
       "sex                  57\n",
       "year                 57\n",
       "weight               57\n",
       "dtype: int64"
      ]
     },
     "execution_count": 24,
     "metadata": {},
     "output_type": "execute_result"
    }
   ],
   "source": [
    "# 3kgs\n",
    "g = birds[\n",
    "    birds['species'] == \"Gentoo\"\n",
    "]\n",
    "g[g['weight'] < 5].count()"
   ]
  },
  {
   "cell_type": "markdown",
   "id": "403d75f5-6df2-4fba-a293-c1cf7880ca53",
   "metadata": {},
   "source": [
    "# Unique bird in"
   ]
  },
  {
   "cell_type": "code",
   "execution_count": 25,
   "id": "a4e4d020-7de0-47e1-97e2-91a9162e0454",
   "metadata": {},
   "outputs": [],
   "source": [
    "def getPenguin(penguin_name, island):\n",
    "    return birds[(birds['species'] == penguin_name) & (birds['island'] == island)]"
   ]
  },
  {
   "cell_type": "code",
   "execution_count": 26,
   "id": "2a3b0ca3-6128-4922-99b8-fa0e5d578a61",
   "metadata": {},
   "outputs": [
    {
     "name": "stdout",
     "output_type": "stream",
     "text": [
      "<class 'pandas.core.frame.DataFrame'>\n",
      "Index: 0 entries\n",
      "Data columns (total 10 columns):\n",
      " #   Column             Non-Null Count  Dtype   \n",
      "---  ------             --------------  -----   \n",
      " 0   rowid              0 non-null      category\n",
      " 1   species            0 non-null      category\n",
      " 2   island             0 non-null      category\n",
      " 3   bill_length_mm     0 non-null      float64 \n",
      " 4   bill_depth_mm      0 non-null      float64 \n",
      " 5   flipper_length_mm  0 non-null      float64 \n",
      " 6   body_mass_g        0 non-null      float64 \n",
      " 7   sex                0 non-null      category\n",
      " 8   year               0 non-null      category\n",
      " 9   weight             0 non-null      float64 \n",
      "dtypes: category(5), float64(5)\n",
      "memory usage: 11.3 KB\n"
     ]
    }
   ],
   "source": [
    "gentoo_dream = getPenguin(\"Gentoo\", \"Dream\")\n",
    "gentoo_dream.info()"
   ]
  },
  {
   "cell_type": "code",
   "execution_count": 27,
   "id": "39f7052f-7d35-409c-97db-5d752f060022",
   "metadata": {},
   "outputs": [
    {
     "name": "stdout",
     "output_type": "stream",
     "text": [
      "<class 'pandas.core.frame.DataFrame'>\n",
      "Index: 0 entries\n",
      "Data columns (total 10 columns):\n",
      " #   Column             Non-Null Count  Dtype   \n",
      "---  ------             --------------  -----   \n",
      " 0   rowid              0 non-null      category\n",
      " 1   species            0 non-null      category\n",
      " 2   island             0 non-null      category\n",
      " 3   bill_length_mm     0 non-null      float64 \n",
      " 4   bill_depth_mm      0 non-null      float64 \n",
      " 5   flipper_length_mm  0 non-null      float64 \n",
      " 6   body_mass_g        0 non-null      float64 \n",
      " 7   sex                0 non-null      category\n",
      " 8   year               0 non-null      category\n",
      " 9   weight             0 non-null      float64 \n",
      "dtypes: category(5), float64(5)\n",
      "memory usage: 11.3 KB\n"
     ]
    }
   ],
   "source": [
    "gentoo_torg = getPenguin(\"Gentoo\", \"Torgersen\")\n",
    "gentoo_torg.info()"
   ]
  },
  {
   "cell_type": "code",
   "execution_count": 28,
   "id": "4088f3a5-192f-464e-935a-2e306f5bb326",
   "metadata": {},
   "outputs": [
    {
     "name": "stdout",
     "output_type": "stream",
     "text": [
      "<class 'pandas.core.frame.DataFrame'>\n",
      "Index: 124 entries, 152 to 275\n",
      "Data columns (total 10 columns):\n",
      " #   Column             Non-Null Count  Dtype   \n",
      "---  ------             --------------  -----   \n",
      " 0   rowid              124 non-null    category\n",
      " 1   species            124 non-null    category\n",
      " 2   island             124 non-null    category\n",
      " 3   bill_length_mm     124 non-null    float64 \n",
      " 4   bill_depth_mm      124 non-null    float64 \n",
      " 5   flipper_length_mm  124 non-null    float64 \n",
      " 6   body_mass_g        124 non-null    float64 \n",
      " 7   sex                124 non-null    category\n",
      " 8   year               124 non-null    category\n",
      " 9   weight             124 non-null    float64 \n",
      "dtypes: category(5), float64(5)\n",
      "memory usage: 17.8 KB\n"
     ]
    }
   ],
   "source": [
    "gentoo_biscoe = getPenguin(\"Gentoo\", \"Biscoe\")\n",
    "gentoo_biscoe.info()"
   ]
  },
  {
   "cell_type": "markdown",
   "id": "f4bf5b14-dd3c-4d47-b1f9-a12e1db6ec23",
   "metadata": {},
   "source": [
    "# Insight #1\n",
    "## `Gentoo penguins` are live exclusuively in the `Biscoe island`"
   ]
  },
  {
   "cell_type": "code",
   "execution_count": 29,
   "id": "4527f130-dfd5-44c4-a230-be831db02c9b",
   "metadata": {},
   "outputs": [
    {
     "name": "stdout",
     "output_type": "stream",
     "text": [
      "<class 'pandas.core.frame.DataFrame'>\n",
      "Index: 56 entries, 30 to 151\n",
      "Data columns (total 10 columns):\n",
      " #   Column             Non-Null Count  Dtype   \n",
      "---  ------             --------------  -----   \n",
      " 0   rowid              56 non-null     category\n",
      " 1   species            56 non-null     category\n",
      " 2   island             56 non-null     category\n",
      " 3   bill_length_mm     56 non-null     float64 \n",
      " 4   bill_depth_mm      56 non-null     float64 \n",
      " 5   flipper_length_mm  56 non-null     float64 \n",
      " 6   body_mass_g        56 non-null     float64 \n",
      " 7   sex                56 non-null     category\n",
      " 8   year               56 non-null     category\n",
      " 9   weight             56 non-null     float64 \n",
      "dtypes: category(5), float64(5)\n",
      "memory usage: 14.2 KB\n"
     ]
    }
   ],
   "source": [
    "adelie_dream = getPenguin(\"Adelie\", \"Dream\")\n",
    "adelie_dream.info()"
   ]
  },
  {
   "cell_type": "code",
   "execution_count": 30,
   "id": "bf75e847-f2c2-40c7-9e1f-02252657ac88",
   "metadata": {},
   "outputs": [
    {
     "name": "stdout",
     "output_type": "stream",
     "text": [
      "<class 'pandas.core.frame.DataFrame'>\n",
      "Index: 52 entries, 0 to 131\n",
      "Data columns (total 10 columns):\n",
      " #   Column             Non-Null Count  Dtype   \n",
      "---  ------             --------------  -----   \n",
      " 0   rowid              52 non-null     category\n",
      " 1   species            52 non-null     category\n",
      " 2   island             52 non-null     category\n",
      " 3   bill_length_mm     52 non-null     float64 \n",
      " 4   bill_depth_mm      52 non-null     float64 \n",
      " 5   flipper_length_mm  52 non-null     float64 \n",
      " 6   body_mass_g        52 non-null     float64 \n",
      " 7   sex                52 non-null     category\n",
      " 8   year               52 non-null     category\n",
      " 9   weight             52 non-null     float64 \n",
      "dtypes: category(5), float64(5)\n",
      "memory usage: 14.0 KB\n"
     ]
    }
   ],
   "source": [
    "adelie_torg= getPenguin(\"Adelie\", \"Torgersen\")\n",
    "adelie_torg.info()"
   ]
  },
  {
   "cell_type": "code",
   "execution_count": 31,
   "id": "98ede5cd-d325-4ebd-9a82-3cd82d8f73b8",
   "metadata": {},
   "outputs": [
    {
     "name": "stdout",
     "output_type": "stream",
     "text": [
      "<class 'pandas.core.frame.DataFrame'>\n",
      "Index: 44 entries, 20 to 115\n",
      "Data columns (total 10 columns):\n",
      " #   Column             Non-Null Count  Dtype   \n",
      "---  ------             --------------  -----   \n",
      " 0   rowid              44 non-null     category\n",
      " 1   species            44 non-null     category\n",
      " 2   island             44 non-null     category\n",
      " 3   bill_length_mm     44 non-null     float64 \n",
      " 4   bill_depth_mm      44 non-null     float64 \n",
      " 5   flipper_length_mm  44 non-null     float64 \n",
      " 6   body_mass_g        44 non-null     float64 \n",
      " 7   sex                44 non-null     category\n",
      " 8   year               44 non-null     category\n",
      " 9   weight             44 non-null     float64 \n",
      "dtypes: category(5), float64(5)\n",
      "memory usage: 13.6 KB\n"
     ]
    }
   ],
   "source": [
    "adelie_biscoe = getPenguin(\"Adelie\", \"Biscoe\")\n",
    "adelie_biscoe.info()"
   ]
  },
  {
   "cell_type": "markdown",
   "id": "dec7f3ea-e586-462c-9115-e825d2cd25e2",
   "metadata": {},
   "source": [
    "# Insight #2\n",
    "## `Adelie Penguins` are found in `Dream`, `Biscoe`, and `Torgersen` islands"
   ]
  },
  {
   "cell_type": "code",
   "execution_count": 32,
   "id": "a3b89bda-adc6-4af6-9045-d793b10912e9",
   "metadata": {},
   "outputs": [
    {
     "name": "stdout",
     "output_type": "stream",
     "text": [
      "<class 'pandas.core.frame.DataFrame'>\n",
      "Index: 68 entries, 276 to 343\n",
      "Data columns (total 10 columns):\n",
      " #   Column             Non-Null Count  Dtype   \n",
      "---  ------             --------------  -----   \n",
      " 0   rowid              68 non-null     category\n",
      " 1   species            68 non-null     category\n",
      " 2   island             68 non-null     category\n",
      " 3   bill_length_mm     68 non-null     float64 \n",
      " 4   bill_depth_mm      68 non-null     float64 \n",
      " 5   flipper_length_mm  68 non-null     float64 \n",
      " 6   body_mass_g        68 non-null     float64 \n",
      " 7   sex                68 non-null     category\n",
      " 8   year               68 non-null     category\n",
      " 9   weight             68 non-null     float64 \n",
      "dtypes: category(5), float64(5)\n",
      "memory usage: 14.9 KB\n"
     ]
    }
   ],
   "source": [
    "chins_dream = getPenguin(\"Chinstrap\", \"Dream\")\n",
    "chins_dream.info()"
   ]
  },
  {
   "cell_type": "code",
   "execution_count": 33,
   "id": "2fb7d3b4-70ff-4c86-8302-c8c7163305b2",
   "metadata": {},
   "outputs": [
    {
     "name": "stdout",
     "output_type": "stream",
     "text": [
      "<class 'pandas.core.frame.DataFrame'>\n",
      "Index: 0 entries\n",
      "Data columns (total 10 columns):\n",
      " #   Column             Non-Null Count  Dtype   \n",
      "---  ------             --------------  -----   \n",
      " 0   rowid              0 non-null      category\n",
      " 1   species            0 non-null      category\n",
      " 2   island             0 non-null      category\n",
      " 3   bill_length_mm     0 non-null      float64 \n",
      " 4   bill_depth_mm      0 non-null      float64 \n",
      " 5   flipper_length_mm  0 non-null      float64 \n",
      " 6   body_mass_g        0 non-null      float64 \n",
      " 7   sex                0 non-null      category\n",
      " 8   year               0 non-null      category\n",
      " 9   weight             0 non-null      float64 \n",
      "dtypes: category(5), float64(5)\n",
      "memory usage: 11.3 KB\n"
     ]
    }
   ],
   "source": [
    "chins_torg = getPenguin(\"Chinstrap\", \"Torgersen\")\n",
    "chins_torg.info()"
   ]
  },
  {
   "cell_type": "code",
   "execution_count": 34,
   "id": "b015ae4b-feee-4bfb-b87c-470db4ab0a42",
   "metadata": {},
   "outputs": [
    {
     "name": "stdout",
     "output_type": "stream",
     "text": [
      "<class 'pandas.core.frame.DataFrame'>\n",
      "Index: 0 entries\n",
      "Data columns (total 10 columns):\n",
      " #   Column             Non-Null Count  Dtype   \n",
      "---  ------             --------------  -----   \n",
      " 0   rowid              0 non-null      category\n",
      " 1   species            0 non-null      category\n",
      " 2   island             0 non-null      category\n",
      " 3   bill_length_mm     0 non-null      float64 \n",
      " 4   bill_depth_mm      0 non-null      float64 \n",
      " 5   flipper_length_mm  0 non-null      float64 \n",
      " 6   body_mass_g        0 non-null      float64 \n",
      " 7   sex                0 non-null      category\n",
      " 8   year               0 non-null      category\n",
      " 9   weight             0 non-null      float64 \n",
      "dtypes: category(5), float64(5)\n",
      "memory usage: 11.3 KB\n"
     ]
    }
   ],
   "source": [
    "chins_biscoe = getPenguin(\"Chinstrap\", \"Biscoe\")\n",
    "chins_biscoe.info()"
   ]
  },
  {
   "cell_type": "markdown",
   "id": "6e58e599-d4e4-4e86-bc16-45cafca3281c",
   "metadata": {},
   "source": [
    "# Insight #3\n",
    "## `Chinstrap Penguins` are exclusively lived in `Dream Island` "
   ]
  },
  {
   "cell_type": "code",
   "execution_count": 35,
   "id": "6f203a4f-ec2f-4a8b-b35b-829dc4e50a01",
   "metadata": {},
   "outputs": [],
   "source": [
    "adelie_b_avg = np.round(adelie_biscoe['weight'].mean(), 2)\n",
    "adelie_d_avg = np.round(adelie_dream['weight'].mean(), 2)\n",
    "adelie_t_avg = np.round(adelie_torg['weight'].mean(), 2)"
   ]
  },
  {
   "cell_type": "code",
   "execution_count": 36,
   "id": "bbd3cbe2-70bd-4457-b621-37ddaf9a303d",
   "metadata": {},
   "outputs": [
    {
     "data": {
      "text/plain": [
       "np.float64(3.71)"
      ]
     },
     "execution_count": 36,
     "metadata": {},
     "output_type": "execute_result"
    }
   ],
   "source": [
    "adelie_b_avg"
   ]
  },
  {
   "cell_type": "code",
   "execution_count": 37,
   "id": "e8cb590d-1bbd-4e70-95b8-a4d25a637aef",
   "metadata": {},
   "outputs": [
    {
     "data": {
      "text/plain": [
       "np.float64(3.69)"
      ]
     },
     "execution_count": 37,
     "metadata": {},
     "output_type": "execute_result"
    }
   ],
   "source": [
    "adelie_d_avg"
   ]
  },
  {
   "cell_type": "code",
   "execution_count": 38,
   "id": "a66ba7c9-5688-4b58-be18-0cc147475f1d",
   "metadata": {},
   "outputs": [
    {
     "data": {
      "text/plain": [
       "np.float64(3.72)"
      ]
     },
     "execution_count": 38,
     "metadata": {},
     "output_type": "execute_result"
    }
   ],
   "source": [
    "adelie_t_avg"
   ]
  },
  {
   "cell_type": "markdown",
   "id": "886de7f7-c8bd-4fe2-88ff-79001ea7afea",
   "metadata": {},
   "source": [
    "# Extra\n",
    "## The island that has the most weight of `Adelie penguin` is `Torgersen`"
   ]
  },
  {
   "cell_type": "code",
   "execution_count": 39,
   "id": "2f09e6ca-cb60-4c46-849d-8b77aacd2980",
   "metadata": {},
   "outputs": [
    {
     "data": {
      "text/plain": [
       "np.float64(5.07)"
      ]
     },
     "execution_count": 39,
     "metadata": {},
     "output_type": "execute_result"
    }
   ],
   "source": [
    "avg_gentoo = np.round(gentoo['weight'].mean(), 2)\n",
    "avg_gentoo"
   ]
  },
  {
   "cell_type": "markdown",
   "id": "b22393b0-e7b8-4036-92be-361470979781",
   "metadata": {},
   "source": [
    "# Insight #4\n",
    "## The Average weight of `Gentoo penguin` is: `5.07`"
   ]
  },
  {
   "cell_type": "code",
   "execution_count": 40,
   "id": "9d9f226c-7f70-4e2b-bf7a-794d56f85784",
   "metadata": {},
   "outputs": [
    {
     "data": {
      "text/plain": [
       "np.float64(3.7)"
      ]
     },
     "execution_count": 40,
     "metadata": {},
     "output_type": "execute_result"
    }
   ],
   "source": [
    "avg_adelie = np.round(adelie['weight'].mean(), 2)\n",
    "avg_adelie"
   ]
  },
  {
   "cell_type": "markdown",
   "id": "25a2a2b6-7a48-48af-9407-5643cdfef569",
   "metadata": {},
   "source": [
    "# Insight #5\n",
    "## The Average weight of `Adelie penguin` is: `3.7`"
   ]
  },
  {
   "cell_type": "code",
   "execution_count": 41,
   "id": "95ffa413-ec60-41b2-a5ea-033595513bef",
   "metadata": {},
   "outputs": [
    {
     "data": {
      "text/plain": [
       "np.float64(3.73)"
      ]
     },
     "execution_count": 41,
     "metadata": {},
     "output_type": "execute_result"
    }
   ],
   "source": [
    "avg_chains = np.round(chains['weight'].mean(), 2)\n",
    "avg_chains"
   ]
  },
  {
   "cell_type": "markdown",
   "id": "041991b1-8e74-45e3-8048-3e93cc73064e",
   "metadata": {},
   "source": [
    "# Insight #6\n",
    "## The Average weight of `Chainstrap penguin` is: `3.73`"
   ]
  },
  {
   "cell_type": "code",
   "execution_count": 42,
   "id": "a8f9f61e-a194-4e08-af4f-f277fdd18bcd",
   "metadata": {},
   "outputs": [
    {
     "data": {
      "text/plain": [
       "np.True_"
      ]
     },
     "execution_count": 42,
     "metadata": {},
     "output_type": "execute_result"
    }
   ],
   "source": [
    "avg_gentoo == np.max([avg_adelie, avg_chains, avg_gentoo])"
   ]
  },
  {
   "cell_type": "markdown",
   "id": "02ced3dd-96c4-4a46-bc0e-7b37b7fd7c0c",
   "metadata": {},
   "source": [
    "# Insight #7\n",
    "## The heaviest penguin among all species is: `Gentoo`"
   ]
  },
  {
   "cell_type": "code",
   "execution_count": 43,
   "id": "32dc8d62-9ef9-46db-ab7c-d5a1d108305f",
   "metadata": {},
   "outputs": [],
   "source": [
    "def groupings(cats):\n",
    "    return birds.groupby(cats)"
   ]
  },
  {
   "cell_type": "code",
   "execution_count": 44,
   "id": "47d56f76-2251-4d25-9e2f-458602784493",
   "metadata": {},
   "outputs": [
    {
     "name": "stderr",
     "output_type": "stream",
     "text": [
      "C:\\Users\\RyannKim327\\AppData\\Local\\Temp\\ipykernel_23852\\656757947.py:2: FutureWarning: The default of observed=False is deprecated and will be changed to True in a future version of pandas. Pass observed=False to retain current behavior or observed=True to adopt the future default and silence this warning.\n",
      "  return birds.groupby(cats)\n"
     ]
    },
    {
     "data": {
      "text/plain": [
       "species    island   \n",
       "Adelie     Biscoe        44\n",
       "           Dream         56\n",
       "           Torgersen     52\n",
       "Chinstrap  Biscoe         0\n",
       "           Dream         68\n",
       "           Torgersen      0\n",
       "Gentoo     Biscoe       124\n",
       "           Dream          0\n",
       "           Torgersen      0\n",
       "dtype: int64"
      ]
     },
     "execution_count": 44,
     "metadata": {},
     "output_type": "execute_result"
    }
   ],
   "source": [
    "a = groupings(['species', 'island'])\n",
    "a.size()"
   ]
  },
  {
   "cell_type": "code",
   "execution_count": 45,
   "id": "b92cd661-7653-48bf-b3e8-619fd89e795f",
   "metadata": {},
   "outputs": [
    {
     "data": {
      "text/plain": [
       "species    island   \n",
       "Adelie     Biscoe       3.7\n",
       "           Dream        3.7\n",
       "           Torgersen    3.7\n",
       "Chinstrap  Biscoe       NaN\n",
       "           Dream        3.7\n",
       "           Torgersen    NaN\n",
       "Gentoo     Biscoe       5.1\n",
       "           Dream        NaN\n",
       "           Torgersen    NaN\n",
       "Name: weight, dtype: float64"
      ]
     },
     "execution_count": 45,
     "metadata": {},
     "output_type": "execute_result"
    }
   ],
   "source": [
    "np.round(a['weight'].mean(), 1)"
   ]
  },
  {
   "cell_type": "code",
   "execution_count": null,
   "id": "5ab4a13a-cbf0-4d7e-a23a-953bad1bf168",
   "metadata": {},
   "outputs": [],
   "source": []
  },
  {
   "cell_type": "markdown",
   "id": "31fb4146-f8fb-4238-966f-152d922718e7",
   "metadata": {},
   "source": [
    "# Insight #8"
   ]
  },
  {
   "cell_type": "code",
   "execution_count": 46,
   "id": "b59f83cb-5aef-49a5-9021-23acef0e53a4",
   "metadata": {},
   "outputs": [
    {
     "name": "stderr",
     "output_type": "stream",
     "text": [
      "C:\\Users\\RyannKim327\\AppData\\Local\\Temp\\ipykernel_23852\\656757947.py:2: FutureWarning: The default of observed=False is deprecated and will be changed to True in a future version of pandas. Pass observed=False to retain current behavior or observed=True to adopt the future default and silence this warning.\n",
      "  return birds.groupby(cats)\n"
     ]
    },
    {
     "data": {
      "text/html": [
       "<div>\n",
       "<style scoped>\n",
       "    .dataframe tbody tr th:only-of-type {\n",
       "        vertical-align: middle;\n",
       "    }\n",
       "\n",
       "    .dataframe tbody tr th {\n",
       "        vertical-align: top;\n",
       "    }\n",
       "\n",
       "    .dataframe thead th {\n",
       "        text-align: right;\n",
       "    }\n",
       "</style>\n",
       "<table border=\"1\" class=\"dataframe\">\n",
       "  <thead>\n",
       "    <tr style=\"text-align: right;\">\n",
       "      <th></th>\n",
       "      <th>island</th>\n",
       "      <th>Biscoe</th>\n",
       "      <th>Dream</th>\n",
       "      <th>Torgersen</th>\n",
       "    </tr>\n",
       "    <tr>\n",
       "      <th>species</th>\n",
       "      <th>sex</th>\n",
       "      <th></th>\n",
       "      <th></th>\n",
       "      <th></th>\n",
       "    </tr>\n",
       "  </thead>\n",
       "  <tbody>\n",
       "    <tr>\n",
       "      <th rowspan=\"2\" valign=\"top\">Adelie</th>\n",
       "      <th>female</th>\n",
       "      <td>3.37</td>\n",
       "      <td>3.34</td>\n",
       "      <td>3.40</td>\n",
       "    </tr>\n",
       "    <tr>\n",
       "      <th>male</th>\n",
       "      <td>4.05</td>\n",
       "      <td>4.01</td>\n",
       "      <td>3.99</td>\n",
       "    </tr>\n",
       "    <tr>\n",
       "      <th rowspan=\"2\" valign=\"top\">Chinstrap</th>\n",
       "      <th>female</th>\n",
       "      <td>NaN</td>\n",
       "      <td>3.53</td>\n",
       "      <td>NaN</td>\n",
       "    </tr>\n",
       "    <tr>\n",
       "      <th>male</th>\n",
       "      <td>NaN</td>\n",
       "      <td>3.94</td>\n",
       "      <td>NaN</td>\n",
       "    </tr>\n",
       "    <tr>\n",
       "      <th rowspan=\"2\" valign=\"top\">Gentoo</th>\n",
       "      <th>female</th>\n",
       "      <td>4.68</td>\n",
       "      <td>NaN</td>\n",
       "      <td>NaN</td>\n",
       "    </tr>\n",
       "    <tr>\n",
       "      <th>male</th>\n",
       "      <td>5.41</td>\n",
       "      <td>NaN</td>\n",
       "      <td>NaN</td>\n",
       "    </tr>\n",
       "  </tbody>\n",
       "</table>\n",
       "</div>"
      ],
      "text/plain": [
       "island            Biscoe  Dream  Torgersen\n",
       "species   sex                             \n",
       "Adelie    female    3.37   3.34       3.40\n",
       "          male      4.05   4.01       3.99\n",
       "Chinstrap female     NaN   3.53        NaN\n",
       "          male       NaN   3.94        NaN\n",
       "Gentoo    female    4.68    NaN        NaN\n",
       "          male      5.41    NaN        NaN"
      ]
     },
     "execution_count": 46,
     "metadata": {},
     "output_type": "execute_result"
    }
   ],
   "source": [
    "_a = groupings(['species', 'sex', 'island'])['weight']\n",
    "np.round(_a.mean().unstack(), 2)\n"
   ]
  },
  {
   "cell_type": "markdown",
   "id": "784cf41d-a2dc-4143-b639-ce568ada37c9",
   "metadata": {},
   "source": [
    "# Insight #9\n",
    "The `male penguin` is `heavier` than the female penguins"
   ]
  },
  {
   "cell_type": "code",
   "execution_count": 47,
   "id": "6029a9d2-6af4-48c0-8997-9d37767fbd8b",
   "metadata": {},
   "outputs": [
    {
     "name": "stderr",
     "output_type": "stream",
     "text": [
      "C:\\Users\\RyannKim327\\AppData\\Local\\Temp\\ipykernel_23852\\656757947.py:2: FutureWarning: The default of observed=False is deprecated and will be changed to True in a future version of pandas. Pass observed=False to retain current behavior or observed=True to adopt the future default and silence this warning.\n",
      "  return birds.groupby(cats)\n"
     ]
    },
    {
     "data": {
      "text/html": [
       "<div>\n",
       "<style scoped>\n",
       "    .dataframe tbody tr th:only-of-type {\n",
       "        vertical-align: middle;\n",
       "    }\n",
       "\n",
       "    .dataframe tbody tr th {\n",
       "        vertical-align: top;\n",
       "    }\n",
       "\n",
       "    .dataframe thead th {\n",
       "        text-align: right;\n",
       "    }\n",
       "</style>\n",
       "<table border=\"1\" class=\"dataframe\">\n",
       "  <thead>\n",
       "    <tr style=\"text-align: right;\">\n",
       "      <th>year</th>\n",
       "      <th>2007</th>\n",
       "      <th>2008</th>\n",
       "      <th>2009</th>\n",
       "    </tr>\n",
       "    <tr>\n",
       "      <th>species</th>\n",
       "      <th></th>\n",
       "      <th></th>\n",
       "      <th></th>\n",
       "    </tr>\n",
       "  </thead>\n",
       "  <tbody>\n",
       "    <tr>\n",
       "      <th>Adelie</th>\n",
       "      <td>50</td>\n",
       "      <td>50</td>\n",
       "      <td>52</td>\n",
       "    </tr>\n",
       "    <tr>\n",
       "      <th>Chinstrap</th>\n",
       "      <td>26</td>\n",
       "      <td>18</td>\n",
       "      <td>24</td>\n",
       "    </tr>\n",
       "    <tr>\n",
       "      <th>Gentoo</th>\n",
       "      <td>34</td>\n",
       "      <td>46</td>\n",
       "      <td>44</td>\n",
       "    </tr>\n",
       "  </tbody>\n",
       "</table>\n",
       "</div>"
      ],
      "text/plain": [
       "year       2007  2008  2009\n",
       "species                    \n",
       "Adelie       50    50    52\n",
       "Chinstrap    26    18    24\n",
       "Gentoo       34    46    44"
      ]
     },
     "execution_count": 47,
     "metadata": {},
     "output_type": "execute_result"
    }
   ],
   "source": [
    "_a = groupings(['species', 'year'])['rowid']\n",
    "_a.count().unstack()"
   ]
  },
  {
   "cell_type": "markdown",
   "id": "4b1a269b-2fc1-4af5-91c4-1f868a606b42",
   "metadata": {},
   "source": [
    "# Insight #10\n",
    "The highest recorded Chinstrap was in `2007`"
   ]
  },
  {
   "cell_type": "markdown",
   "id": "4f852b33-61c7-4854-b68d-1e5f754a8f92",
   "metadata": {},
   "source": [
    "# Insight #11\n",
    "The highest recorded `Gentoo` was in `2008`"
   ]
  },
  {
   "cell_type": "markdown",
   "id": "3923f837-3419-4df4-b662-9871d1be6ffc",
   "metadata": {},
   "source": [
    "# Use the Correlations"
   ]
  },
  {
   "cell_type": "code",
   "execution_count": 48,
   "id": "a8ed6233-bcd8-4a0c-890d-dbda8bf91670",
   "metadata": {},
   "outputs": [
    {
     "data": {
      "text/plain": [
       "np.float64(-0.23505287035553282)"
      ]
     },
     "execution_count": 48,
     "metadata": {},
     "output_type": "execute_result"
    }
   ],
   "source": [
    "p_bl_corr = birds['bill_length_mm'].corr(birds['bill_depth_mm'])\n",
    "p_bl_corr"
   ]
  },
  {
   "cell_type": "markdown",
   "id": "a490048a-4987-4585-b8f7-d4c4d3f72e16",
   "metadata": {},
   "source": [
    "# Insight #12\n",
    "Bill length has no correlation with the bill depth"
   ]
  },
  {
   "cell_type": "code",
   "execution_count": 49,
   "id": "8e05a8aa-ba4b-4678-afe6-e2e0326a3f55",
   "metadata": {},
   "outputs": [
    {
     "data": {
      "text/plain": [
       "np.float64(-0.47191562118606645)"
      ]
     },
     "execution_count": 49,
     "metadata": {},
     "output_type": "execute_result"
    }
   ],
   "source": [
    "p_bm_bd_corr = birds['body_mass_g'].corr(birds['bill_depth_mm'])\n",
    "p_bm_bd_corr"
   ]
  },
  {
   "cell_type": "markdown",
   "id": "6902d030-c2f6-4daa-a6cc-85adf059b888",
   "metadata": {},
   "source": [
    "# Insight #13\n",
    "Body mass has no correlation with the bill depth"
   ]
  },
  {
   "cell_type": "code",
   "execution_count": 50,
   "id": "f74b5ccb-7e07-493f-b789-d5410d57d9e9",
   "metadata": {},
   "outputs": [
    {
     "data": {
      "text/plain": [
       "np.float64(0.5951098244376305)"
      ]
     },
     "execution_count": 50,
     "metadata": {},
     "output_type": "execute_result"
    }
   ],
   "source": [
    "p_bm_bl_corr = birds['body_mass_g'].corr(birds['bill_length_mm'])\n",
    "p_bm_bl_corr"
   ]
  },
  {
   "cell_type": "markdown",
   "id": "2702567c-8dea-43a0-9a74-2ade9c4e7f49",
   "metadata": {},
   "source": [
    "# Insight #14\n",
    "Body mass has correlation with the bill length"
   ]
  },
  {
   "cell_type": "code",
   "execution_count": 51,
   "id": "712216e8-ad0e-4eff-81e7-94d210fed22a",
   "metadata": {},
   "outputs": [
    {
     "data": {
      "text/plain": [
       "np.float64(0.8712017673060114)"
      ]
     },
     "execution_count": 51,
     "metadata": {},
     "output_type": "execute_result"
    }
   ],
   "source": [
    "p_bm_f_corr = birds['body_mass_g'].corr(birds['flipper_length_mm'])\n",
    "p_bm_f_corr"
   ]
  },
  {
   "cell_type": "markdown",
   "id": "80e61180-e456-41c0-86f5-d0c21d75d01a",
   "metadata": {},
   "source": [
    "# Insight #15\n",
    "Body mass has correlation with the flipper length"
   ]
  },
  {
   "cell_type": "code",
   "execution_count": 53,
   "id": "575e5e58-b916-4d4d-956f-aac3517acd35",
   "metadata": {},
   "outputs": [
    {
     "data": {
      "text/html": [
       "<div>\n",
       "<style scoped>\n",
       "    .dataframe tbody tr th:only-of-type {\n",
       "        vertical-align: middle;\n",
       "    }\n",
       "\n",
       "    .dataframe tbody tr th {\n",
       "        vertical-align: top;\n",
       "    }\n",
       "\n",
       "    .dataframe thead th {\n",
       "        text-align: right;\n",
       "    }\n",
       "</style>\n",
       "<table border=\"1\" class=\"dataframe\">\n",
       "  <thead>\n",
       "    <tr style=\"text-align: right;\">\n",
       "      <th></th>\n",
       "      <th>rowid</th>\n",
       "      <th>species</th>\n",
       "      <th>island</th>\n",
       "      <th>bill_length_mm</th>\n",
       "      <th>bill_depth_mm</th>\n",
       "      <th>flipper_length_mm</th>\n",
       "      <th>body_mass_g</th>\n",
       "      <th>sex</th>\n",
       "      <th>year</th>\n",
       "      <th>weight</th>\n",
       "    </tr>\n",
       "  </thead>\n",
       "  <tbody>\n",
       "    <tr>\n",
       "      <th>0</th>\n",
       "      <td>1</td>\n",
       "      <td>Adelie</td>\n",
       "      <td>Torgersen</td>\n",
       "      <td>39.10000</td>\n",
       "      <td>18.70000</td>\n",
       "      <td>181.000000</td>\n",
       "      <td>3750.000000</td>\n",
       "      <td>male</td>\n",
       "      <td>2007</td>\n",
       "      <td>3.75</td>\n",
       "    </tr>\n",
       "    <tr>\n",
       "      <th>1</th>\n",
       "      <td>2</td>\n",
       "      <td>Adelie</td>\n",
       "      <td>Torgersen</td>\n",
       "      <td>39.50000</td>\n",
       "      <td>17.40000</td>\n",
       "      <td>186.000000</td>\n",
       "      <td>3800.000000</td>\n",
       "      <td>female</td>\n",
       "      <td>2007</td>\n",
       "      <td>3.80</td>\n",
       "    </tr>\n",
       "    <tr>\n",
       "      <th>2</th>\n",
       "      <td>3</td>\n",
       "      <td>Adelie</td>\n",
       "      <td>Torgersen</td>\n",
       "      <td>40.30000</td>\n",
       "      <td>18.00000</td>\n",
       "      <td>195.000000</td>\n",
       "      <td>3250.000000</td>\n",
       "      <td>female</td>\n",
       "      <td>2007</td>\n",
       "      <td>3.25</td>\n",
       "    </tr>\n",
       "    <tr>\n",
       "      <th>3</th>\n",
       "      <td>4</td>\n",
       "      <td>Adelie</td>\n",
       "      <td>Torgersen</td>\n",
       "      <td>43.92193</td>\n",
       "      <td>17.15117</td>\n",
       "      <td>200.915205</td>\n",
       "      <td>4201.754386</td>\n",
       "      <td>male</td>\n",
       "      <td>2007</td>\n",
       "      <td>4.20</td>\n",
       "    </tr>\n",
       "    <tr>\n",
       "      <th>4</th>\n",
       "      <td>5</td>\n",
       "      <td>Adelie</td>\n",
       "      <td>Torgersen</td>\n",
       "      <td>36.70000</td>\n",
       "      <td>19.30000</td>\n",
       "      <td>193.000000</td>\n",
       "      <td>3450.000000</td>\n",
       "      <td>female</td>\n",
       "      <td>2007</td>\n",
       "      <td>3.45</td>\n",
       "    </tr>\n",
       "    <tr>\n",
       "      <th>...</th>\n",
       "      <td>...</td>\n",
       "      <td>...</td>\n",
       "      <td>...</td>\n",
       "      <td>...</td>\n",
       "      <td>...</td>\n",
       "      <td>...</td>\n",
       "      <td>...</td>\n",
       "      <td>...</td>\n",
       "      <td>...</td>\n",
       "      <td>...</td>\n",
       "    </tr>\n",
       "    <tr>\n",
       "      <th>339</th>\n",
       "      <td>340</td>\n",
       "      <td>Chinstrap</td>\n",
       "      <td>Dream</td>\n",
       "      <td>55.80000</td>\n",
       "      <td>19.80000</td>\n",
       "      <td>207.000000</td>\n",
       "      <td>4000.000000</td>\n",
       "      <td>male</td>\n",
       "      <td>2009</td>\n",
       "      <td>4.00</td>\n",
       "    </tr>\n",
       "    <tr>\n",
       "      <th>340</th>\n",
       "      <td>341</td>\n",
       "      <td>Chinstrap</td>\n",
       "      <td>Dream</td>\n",
       "      <td>43.50000</td>\n",
       "      <td>18.10000</td>\n",
       "      <td>202.000000</td>\n",
       "      <td>3400.000000</td>\n",
       "      <td>female</td>\n",
       "      <td>2009</td>\n",
       "      <td>3.40</td>\n",
       "    </tr>\n",
       "    <tr>\n",
       "      <th>341</th>\n",
       "      <td>342</td>\n",
       "      <td>Chinstrap</td>\n",
       "      <td>Dream</td>\n",
       "      <td>49.60000</td>\n",
       "      <td>18.20000</td>\n",
       "      <td>193.000000</td>\n",
       "      <td>3775.000000</td>\n",
       "      <td>male</td>\n",
       "      <td>2009</td>\n",
       "      <td>3.78</td>\n",
       "    </tr>\n",
       "    <tr>\n",
       "      <th>342</th>\n",
       "      <td>343</td>\n",
       "      <td>Chinstrap</td>\n",
       "      <td>Dream</td>\n",
       "      <td>50.80000</td>\n",
       "      <td>19.00000</td>\n",
       "      <td>210.000000</td>\n",
       "      <td>4100.000000</td>\n",
       "      <td>male</td>\n",
       "      <td>2009</td>\n",
       "      <td>4.10</td>\n",
       "    </tr>\n",
       "    <tr>\n",
       "      <th>343</th>\n",
       "      <td>344</td>\n",
       "      <td>Chinstrap</td>\n",
       "      <td>Dream</td>\n",
       "      <td>50.20000</td>\n",
       "      <td>18.70000</td>\n",
       "      <td>198.000000</td>\n",
       "      <td>3775.000000</td>\n",
       "      <td>female</td>\n",
       "      <td>2009</td>\n",
       "      <td>3.78</td>\n",
       "    </tr>\n",
       "  </tbody>\n",
       "</table>\n",
       "<p>344 rows × 10 columns</p>\n",
       "</div>"
      ],
      "text/plain": [
       "    rowid    species     island  bill_length_mm  bill_depth_mm  \\\n",
       "0       1     Adelie  Torgersen        39.10000       18.70000   \n",
       "1       2     Adelie  Torgersen        39.50000       17.40000   \n",
       "2       3     Adelie  Torgersen        40.30000       18.00000   \n",
       "3       4     Adelie  Torgersen        43.92193       17.15117   \n",
       "4       5     Adelie  Torgersen        36.70000       19.30000   \n",
       "..    ...        ...        ...             ...            ...   \n",
       "339   340  Chinstrap      Dream        55.80000       19.80000   \n",
       "340   341  Chinstrap      Dream        43.50000       18.10000   \n",
       "341   342  Chinstrap      Dream        49.60000       18.20000   \n",
       "342   343  Chinstrap      Dream        50.80000       19.00000   \n",
       "343   344  Chinstrap      Dream        50.20000       18.70000   \n",
       "\n",
       "     flipper_length_mm  body_mass_g     sex  year  weight  \n",
       "0           181.000000  3750.000000    male  2007    3.75  \n",
       "1           186.000000  3800.000000  female  2007    3.80  \n",
       "2           195.000000  3250.000000  female  2007    3.25  \n",
       "3           200.915205  4201.754386    male  2007    4.20  \n",
       "4           193.000000  3450.000000  female  2007    3.45  \n",
       "..                 ...          ...     ...   ...     ...  \n",
       "339         207.000000  4000.000000    male  2009    4.00  \n",
       "340         202.000000  3400.000000  female  2009    3.40  \n",
       "341         193.000000  3775.000000    male  2009    3.78  \n",
       "342         210.000000  4100.000000    male  2009    4.10  \n",
       "343         198.000000  3775.000000  female  2009    3.78  \n",
       "\n",
       "[344 rows x 10 columns]"
      ]
     },
     "execution_count": 53,
     "metadata": {},
     "output_type": "execute_result"
    }
   ],
   "source": [
    "birds"
   ]
  },
  {
   "cell_type": "markdown",
   "id": "cb208646-84e9-44f9-85a3-2b97bd63da44",
   "metadata": {},
   "source": [
    "# Installation if Science Python"
   ]
  },
  {
   "cell_type": "raw",
   "id": "14c2b455-cc1d-49d6-a7f7-57a17ec0834d",
   "metadata": {},
   "source": [
    "pip install scipy"
   ]
  },
  {
   "cell_type": "code",
   "execution_count": 56,
   "id": "43d9aeac-8fab-4778-b6fc-687ad7444626",
   "metadata": {},
   "outputs": [],
   "source": [
    "from scipy.stats import f_oneway"
   ]
  },
  {
   "cell_type": "code",
   "execution_count": 59,
   "id": "a8da3d80-383e-49c9-96e7-c8fe23f1ffab",
   "metadata": {},
   "outputs": [
    {
     "data": {
      "text/plain": [
       "0      3750.000000\n",
       "3      4201.754386\n",
       "5      3650.000000\n",
       "7      4675.000000\n",
       "8      3475.000000\n",
       "          ...     \n",
       "334    3800.000000\n",
       "336    3950.000000\n",
       "339    4000.000000\n",
       "341    3775.000000\n",
       "342    4100.000000\n",
       "Name: body_mass_g, Length: 179, dtype: float64"
      ]
     },
     "execution_count": 59,
     "metadata": {},
     "output_type": "execute_result"
    }
   ],
   "source": [
    "male = birds[birds['sex'] == 'male']['body_mass_g']\n",
    "male"
   ]
  },
  {
   "cell_type": "code",
   "execution_count": 60,
   "id": "c2831e35-10d8-4b64-85aa-3c8f4573725f",
   "metadata": {},
   "outputs": [
    {
     "data": {
      "text/plain": [
       "1      3800.0\n",
       "2      3250.0\n",
       "4      3450.0\n",
       "6      3625.0\n",
       "12     3200.0\n",
       "        ...  \n",
       "335    3525.0\n",
       "337    3650.0\n",
       "338    3650.0\n",
       "340    3400.0\n",
       "343    3775.0\n",
       "Name: body_mass_g, Length: 165, dtype: float64"
      ]
     },
     "execution_count": 60,
     "metadata": {},
     "output_type": "execute_result"
    }
   ],
   "source": [
    "female = birds[birds['sex'] == 'female']['body_mass_g']\n",
    "female"
   ]
  },
  {
   "cell_type": "code",
   "execution_count": 62,
   "id": "779131bd-15c3-479e-9221-51c4b2a0bc47",
   "metadata": {},
   "outputs": [
    {
     "data": {
      "text/plain": [
       "np.float64(3.0226600487050246e-15)"
      ]
     },
     "execution_count": 62,
     "metadata": {},
     "output_type": "execute_result"
    }
   ],
   "source": [
    "f_stats, pvalue = f_oneway(male, female)\n",
    "pvalue"
   ]
  },
  {
   "cell_type": "code",
   "execution_count": 64,
   "id": "06918f3b-cf36-4555-bbbe-595fa64e5612",
   "metadata": {},
   "outputs": [
    {
     "data": {
      "text/plain": [
       "np.float64(68.38476171974526)"
      ]
     },
     "execution_count": 64,
     "metadata": {},
     "output_type": "execute_result"
    }
   ],
   "source": [
    "f_stats"
   ]
  },
  {
   "cell_type": "code",
   "execution_count": null,
   "id": "6ddc873f-7c10-41b1-b45d-244acda6a7bf",
   "metadata": {},
   "outputs": [],
   "source": []
  }
 ],
 "metadata": {
  "kernelspec": {
   "display_name": "Python 3 (ipykernel)",
   "language": "python",
   "name": "python3"
  },
  "language_info": {
   "codemirror_mode": {
    "name": "ipython",
    "version": 3
   },
   "file_extension": ".py",
   "mimetype": "text/x-python",
   "name": "python",
   "nbconvert_exporter": "python",
   "pygments_lexer": "ipython3",
   "version": "3.12.7"
  }
 },
 "nbformat": 4,
 "nbformat_minor": 5
}
