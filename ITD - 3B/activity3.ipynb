{
 "cells": [
  {
   "cell_type": "markdown",
   "id": "8d4a92f3-5359-4ca9-818a-f0192e7f03c5",
   "metadata": {},
   "source": [
    "# Accident Data\n",
    "### Analyst: Ryann Kim Sesgundo"
   ]
  },
  {
   "cell_type": "markdown",
   "id": "767a1b8a-993d-42f8-8954-11581b1c3527",
   "metadata": {},
   "source": [
    "#### Import dependencies"
   ]
  },
  {
   "cell_type": "code",
   "execution_count": 1,
   "id": "0f45e926-1ece-4d6d-8f2f-ad1528794bc8",
   "metadata": {},
   "outputs": [],
   "source": [
    "import pandas as pd, numpy as np, seaborn as sns, matplotlib.pyplot as plt\n",
    "from scipy.stats import f_oneway"
   ]
  },
  {
   "cell_type": "code",
   "execution_count": 2,
   "id": "b3c3ebf9-7dac-48c6-8c73-8cdd19cef8db",
   "metadata": {},
   "outputs": [],
   "source": [
    "data = pd.read_csv(\"datasets\\\\accident_data.csv\")"
   ]
  },
  {
   "cell_type": "code",
   "execution_count": 3,
   "id": "95b601a1-42fa-440e-bcc5-ad01dad8951a",
   "metadata": {},
   "outputs": [
    {
     "data": {
      "text/plain": [
       "Index                       object\n",
       "Accident_Severity           object\n",
       "Accident Date               object\n",
       "Latitude                   float64\n",
       "Light_Conditions            object\n",
       "District Area               object\n",
       "Longitude                  float64\n",
       "Number_of_Casualties         int64\n",
       "Number_of_Vehicles           int64\n",
       "Road_Surface_Conditions     object\n",
       "Road_Type                   object\n",
       "Urban_or_Rural_Area         object\n",
       "Weather_Conditions          object\n",
       "Vehicle_Type                object\n",
       "dtype: object"
      ]
     },
     "execution_count": 3,
     "metadata": {},
     "output_type": "execute_result"
    }
   ],
   "source": [
    "data.dtypes"
   ]
  },
  {
   "cell_type": "code",
   "execution_count": 4,
   "id": "b9e58bfb-a0d7-455d-9fee-867614339d29",
   "metadata": {},
   "outputs": [
    {
     "data": {
      "text/plain": [
       "Index                          0\n",
       "Accident_Severity              0\n",
       "Accident Date                  0\n",
       "Latitude                      25\n",
       "Light_Conditions               0\n",
       "District Area                  0\n",
       "Longitude                     26\n",
       "Number_of_Casualties           0\n",
       "Number_of_Vehicles             0\n",
       "Road_Surface_Conditions      726\n",
       "Road_Type                   4520\n",
       "Urban_or_Rural_Area           15\n",
       "Weather_Conditions         14128\n",
       "Vehicle_Type                   0\n",
       "dtype: int64"
      ]
     },
     "execution_count": 4,
     "metadata": {},
     "output_type": "execute_result"
    }
   ],
   "source": [
    "data.isnull().sum()"
   ]
  },
  {
   "cell_type": "code",
   "execution_count": 5,
   "id": "d3d20b45-9673-4337-8f4f-9bd98a25883e",
   "metadata": {},
   "outputs": [],
   "source": [
    "data['Latitude'] = data['Latitude'].fillna(data['Latitude'].mode())\n",
    "data['Longitude'] = data['Longitude'].fillna(data['Longitude'].mode())\n",
    "data['Road_Surface_Conditions'] = data['Road_Surface_Conditions'].fillna(data['Road_Surface_Conditions'].mode()[0])\n",
    "data['Urban_or_Rural_Area'] = data['Urban_or_Rural_Area'].fillna(data['Urban_or_Rural_Area'].mode()[0])\n",
    "data['Road_Type'] = data['Road_Type'].fillna('Unknown Road Type')\n",
    "data['Weather_Conditions'] = data['Weather_Conditions'].fillna('Unknown Weather Conditions')"
   ]
  },
  {
   "cell_type": "code",
   "execution_count": 6,
   "id": "5170b9bd-d36b-4426-af16-080246ecbf0d",
   "metadata": {},
   "outputs": [],
   "source": [
    "# If ever, convert first to string then convert back to Date Time\n",
    "data['Accident Date'] = data['Accident Date'].astype(\"str\")\n",
    "data['Accident Date'] = data['Accident Date'].str.strip()\n",
    "data['Accident Date'] = data['Accident Date'].str.replace('/', '-')"
   ]
  },
  {
   "cell_type": "code",
   "execution_count": 7,
   "id": "9c5ee021-ae5c-4d18-a629-6f70ef5fb2e4",
   "metadata": {},
   "outputs": [],
   "source": [
    "data['Accident Date'] = pd.to_datetime(data['Accident Date'], dayfirst=True, errors='coerce')"
   ]
  },
  {
   "cell_type": "code",
   "execution_count": 8,
   "id": "9850ea47-1a16-41e4-b990-7fb8388e909e",
   "metadata": {},
   "outputs": [],
   "source": [
    "data['Accident_Severity'] = data['Accident_Severity'].astype('category')\n",
    "data['Light_Conditions'] = data['Light_Conditions'].astype('category')\n",
    "data['Latitude'] = data['Light_Conditions'].astype('category')\n",
    "data['Longitude'] = data['Light_Conditions'].astype('category')\n",
    "data['District Area'] = data['District Area'].astype('category')\n",
    "data['Road_Surface_Conditions'] = data['Road_Surface_Conditions'].astype('category')\n",
    "data['Road_Type'] = data['Road_Type'].astype('category')\n",
    "data['Urban_or_Rural_Area'] = data['Urban_or_Rural_Area'].astype('category')\n",
    "data['Weather_Conditions'] = data['Weather_Conditions'].astype('category')\n",
    "data['Vehicle_Type'] = data['Vehicle_Type'].astype('category')"
   ]
  },
  {
   "cell_type": "code",
   "execution_count": 9,
   "id": "068c94ca-48b0-48cc-ada2-c6e090206c6b",
   "metadata": {},
   "outputs": [
    {
     "data": {
      "text/plain": [
       "Index                              object\n",
       "Accident_Severity                category\n",
       "Accident Date              datetime64[ns]\n",
       "Latitude                         category\n",
       "Light_Conditions                 category\n",
       "District Area                    category\n",
       "Longitude                        category\n",
       "Number_of_Casualties                int64\n",
       "Number_of_Vehicles                  int64\n",
       "Road_Surface_Conditions          category\n",
       "Road_Type                        category\n",
       "Urban_or_Rural_Area              category\n",
       "Weather_Conditions               category\n",
       "Vehicle_Type                     category\n",
       "dtype: object"
      ]
     },
     "execution_count": 9,
     "metadata": {},
     "output_type": "execute_result"
    }
   ],
   "source": [
    "data.dtypes"
   ]
  },
  {
   "cell_type": "code",
   "execution_count": 10,
   "id": "f1a99db5-9c1d-46b0-ac85-57009e051872",
   "metadata": {},
   "outputs": [
    {
     "data": {
      "text/plain": [
       "Index                      0\n",
       "Accident_Severity          0\n",
       "Accident Date              0\n",
       "Latitude                   0\n",
       "Light_Conditions           0\n",
       "District Area              0\n",
       "Longitude                  0\n",
       "Number_of_Casualties       0\n",
       "Number_of_Vehicles         0\n",
       "Road_Surface_Conditions    0\n",
       "Road_Type                  0\n",
       "Urban_or_Rural_Area        0\n",
       "Weather_Conditions         0\n",
       "Vehicle_Type               0\n",
       "dtype: int64"
      ]
     },
     "execution_count": 10,
     "metadata": {},
     "output_type": "execute_result"
    }
   ],
   "source": [
    "data.isnull().sum()"
   ]
  },
  {
   "cell_type": "markdown",
   "id": "ac07889c-412e-49c7-aa94-442c42936917",
   "metadata": {},
   "source": [
    "### Adding more fields"
   ]
  },
  {
   "cell_type": "code",
   "execution_count": 11,
   "id": "c7ec9317-1f84-4548-abd9-61700f850b99",
   "metadata": {},
   "outputs": [
    {
     "data": {
      "text/html": [
       "<div>\n",
       "<style scoped>\n",
       "    .dataframe tbody tr th:only-of-type {\n",
       "        vertical-align: middle;\n",
       "    }\n",
       "\n",
       "    .dataframe tbody tr th {\n",
       "        vertical-align: top;\n",
       "    }\n",
       "\n",
       "    .dataframe thead th {\n",
       "        text-align: right;\n",
       "    }\n",
       "</style>\n",
       "<table border=\"1\" class=\"dataframe\">\n",
       "  <thead>\n",
       "    <tr style=\"text-align: right;\">\n",
       "      <th></th>\n",
       "      <th>Index</th>\n",
       "      <th>Accident_Severity</th>\n",
       "      <th>Accident Date</th>\n",
       "      <th>Latitude</th>\n",
       "      <th>Light_Conditions</th>\n",
       "      <th>District Area</th>\n",
       "      <th>Longitude</th>\n",
       "      <th>Number_of_Casualties</th>\n",
       "      <th>Number_of_Vehicles</th>\n",
       "      <th>Road_Surface_Conditions</th>\n",
       "      <th>Road_Type</th>\n",
       "      <th>Urban_or_Rural_Area</th>\n",
       "      <th>Weather_Conditions</th>\n",
       "      <th>Vehicle_Type</th>\n",
       "      <th>Year</th>\n",
       "      <th>Month</th>\n",
       "      <th>DayOfWeek</th>\n",
       "    </tr>\n",
       "  </thead>\n",
       "  <tbody>\n",
       "    <tr>\n",
       "      <th>0</th>\n",
       "      <td>200701BS64157</td>\n",
       "      <td>Serious</td>\n",
       "      <td>2019-06-05</td>\n",
       "      <td>Darkness - lights lit</td>\n",
       "      <td>Darkness - lights lit</td>\n",
       "      <td>Kensington and Chelsea</td>\n",
       "      <td>Darkness - lights lit</td>\n",
       "      <td>1</td>\n",
       "      <td>2</td>\n",
       "      <td>Dry</td>\n",
       "      <td>Single carriageway</td>\n",
       "      <td>Urban</td>\n",
       "      <td>Fine no high winds</td>\n",
       "      <td>Car</td>\n",
       "      <td>2019</td>\n",
       "      <td>6</td>\n",
       "      <td>2</td>\n",
       "    </tr>\n",
       "    <tr>\n",
       "      <th>1</th>\n",
       "      <td>200701BS65737</td>\n",
       "      <td>Serious</td>\n",
       "      <td>2019-07-02</td>\n",
       "      <td>Daylight</td>\n",
       "      <td>Daylight</td>\n",
       "      <td>Kensington and Chelsea</td>\n",
       "      <td>Daylight</td>\n",
       "      <td>1</td>\n",
       "      <td>2</td>\n",
       "      <td>Wet or damp</td>\n",
       "      <td>Single carriageway</td>\n",
       "      <td>Urban</td>\n",
       "      <td>Raining no high winds</td>\n",
       "      <td>Car</td>\n",
       "      <td>2019</td>\n",
       "      <td>7</td>\n",
       "      <td>1</td>\n",
       "    </tr>\n",
       "    <tr>\n",
       "      <th>2</th>\n",
       "      <td>200701BS66127</td>\n",
       "      <td>Serious</td>\n",
       "      <td>2019-08-26</td>\n",
       "      <td>Darkness - lighting unknown</td>\n",
       "      <td>Darkness - lighting unknown</td>\n",
       "      <td>Kensington and Chelsea</td>\n",
       "      <td>Darkness - lighting unknown</td>\n",
       "      <td>1</td>\n",
       "      <td>3</td>\n",
       "      <td>Dry</td>\n",
       "      <td>Unknown Road Type</td>\n",
       "      <td>Urban</td>\n",
       "      <td>Unknown Weather Conditions</td>\n",
       "      <td>Taxi/Private hire car</td>\n",
       "      <td>2019</td>\n",
       "      <td>8</td>\n",
       "      <td>0</td>\n",
       "    </tr>\n",
       "    <tr>\n",
       "      <th>3</th>\n",
       "      <td>200701BS66128</td>\n",
       "      <td>Serious</td>\n",
       "      <td>2019-08-16</td>\n",
       "      <td>Daylight</td>\n",
       "      <td>Daylight</td>\n",
       "      <td>Kensington and Chelsea</td>\n",
       "      <td>Daylight</td>\n",
       "      <td>1</td>\n",
       "      <td>4</td>\n",
       "      <td>Dry</td>\n",
       "      <td>Single carriageway</td>\n",
       "      <td>Urban</td>\n",
       "      <td>Fine no high winds</td>\n",
       "      <td>Bus or coach (17 or more pass seats)</td>\n",
       "      <td>2019</td>\n",
       "      <td>8</td>\n",
       "      <td>4</td>\n",
       "    </tr>\n",
       "    <tr>\n",
       "      <th>4</th>\n",
       "      <td>200701BS66837</td>\n",
       "      <td>Slight</td>\n",
       "      <td>2019-09-03</td>\n",
       "      <td>Darkness - lights lit</td>\n",
       "      <td>Darkness - lights lit</td>\n",
       "      <td>Kensington and Chelsea</td>\n",
       "      <td>Darkness - lights lit</td>\n",
       "      <td>1</td>\n",
       "      <td>2</td>\n",
       "      <td>Dry</td>\n",
       "      <td>Unknown Road Type</td>\n",
       "      <td>Urban</td>\n",
       "      <td>Unknown Weather Conditions</td>\n",
       "      <td>Other vehicle</td>\n",
       "      <td>2019</td>\n",
       "      <td>9</td>\n",
       "      <td>1</td>\n",
       "    </tr>\n",
       "    <tr>\n",
       "      <th>...</th>\n",
       "      <td>...</td>\n",
       "      <td>...</td>\n",
       "      <td>...</td>\n",
       "      <td>...</td>\n",
       "      <td>...</td>\n",
       "      <td>...</td>\n",
       "      <td>...</td>\n",
       "      <td>...</td>\n",
       "      <td>...</td>\n",
       "      <td>...</td>\n",
       "      <td>...</td>\n",
       "      <td>...</td>\n",
       "      <td>...</td>\n",
       "      <td>...</td>\n",
       "      <td>...</td>\n",
       "      <td>...</td>\n",
       "      <td>...</td>\n",
       "    </tr>\n",
       "    <tr>\n",
       "      <th>660674</th>\n",
       "      <td>201091NM01760</td>\n",
       "      <td>Slight</td>\n",
       "      <td>2022-02-18</td>\n",
       "      <td>Daylight</td>\n",
       "      <td>Daylight</td>\n",
       "      <td>Highland</td>\n",
       "      <td>Daylight</td>\n",
       "      <td>2</td>\n",
       "      <td>1</td>\n",
       "      <td>Dry</td>\n",
       "      <td>Single carriageway</td>\n",
       "      <td>Rural</td>\n",
       "      <td>Fine no high winds</td>\n",
       "      <td>Car</td>\n",
       "      <td>2022</td>\n",
       "      <td>2</td>\n",
       "      <td>4</td>\n",
       "    </tr>\n",
       "    <tr>\n",
       "      <th>660675</th>\n",
       "      <td>201091NM01881</td>\n",
       "      <td>Slight</td>\n",
       "      <td>2022-02-21</td>\n",
       "      <td>Darkness - no lighting</td>\n",
       "      <td>Darkness - no lighting</td>\n",
       "      <td>Highland</td>\n",
       "      <td>Darkness - no lighting</td>\n",
       "      <td>1</td>\n",
       "      <td>1</td>\n",
       "      <td>Frost or ice</td>\n",
       "      <td>Single carriageway</td>\n",
       "      <td>Rural</td>\n",
       "      <td>Fine no high winds</td>\n",
       "      <td>Car</td>\n",
       "      <td>2022</td>\n",
       "      <td>2</td>\n",
       "      <td>0</td>\n",
       "    </tr>\n",
       "    <tr>\n",
       "      <th>660676</th>\n",
       "      <td>201091NM01935</td>\n",
       "      <td>Slight</td>\n",
       "      <td>2022-02-23</td>\n",
       "      <td>Daylight</td>\n",
       "      <td>Daylight</td>\n",
       "      <td>Highland</td>\n",
       "      <td>Daylight</td>\n",
       "      <td>1</td>\n",
       "      <td>3</td>\n",
       "      <td>Frost or ice</td>\n",
       "      <td>Single carriageway</td>\n",
       "      <td>Rural</td>\n",
       "      <td>Fine no high winds</td>\n",
       "      <td>Car</td>\n",
       "      <td>2022</td>\n",
       "      <td>2</td>\n",
       "      <td>2</td>\n",
       "    </tr>\n",
       "    <tr>\n",
       "      <th>660677</th>\n",
       "      <td>201091NM01964</td>\n",
       "      <td>Serious</td>\n",
       "      <td>2022-02-23</td>\n",
       "      <td>Darkness - no lighting</td>\n",
       "      <td>Darkness - no lighting</td>\n",
       "      <td>Highland</td>\n",
       "      <td>Darkness - no lighting</td>\n",
       "      <td>1</td>\n",
       "      <td>2</td>\n",
       "      <td>Wet or damp</td>\n",
       "      <td>Single carriageway</td>\n",
       "      <td>Rural</td>\n",
       "      <td>Fine no high winds</td>\n",
       "      <td>Motorcycle over 500cc</td>\n",
       "      <td>2022</td>\n",
       "      <td>2</td>\n",
       "      <td>2</td>\n",
       "    </tr>\n",
       "    <tr>\n",
       "      <th>660678</th>\n",
       "      <td>201091NM02142</td>\n",
       "      <td>Serious</td>\n",
       "      <td>2022-02-28</td>\n",
       "      <td>Daylight</td>\n",
       "      <td>Daylight</td>\n",
       "      <td>Highland</td>\n",
       "      <td>Daylight</td>\n",
       "      <td>1</td>\n",
       "      <td>1</td>\n",
       "      <td>Wet or damp</td>\n",
       "      <td>Dual carriageway</td>\n",
       "      <td>Rural</td>\n",
       "      <td>Snowing no high winds</td>\n",
       "      <td>Car</td>\n",
       "      <td>2022</td>\n",
       "      <td>2</td>\n",
       "      <td>0</td>\n",
       "    </tr>\n",
       "  </tbody>\n",
       "</table>\n",
       "<p>660679 rows × 17 columns</p>\n",
       "</div>"
      ],
      "text/plain": [
       "                Index Accident_Severity Accident Date  \\\n",
       "0       200701BS64157           Serious    2019-06-05   \n",
       "1       200701BS65737           Serious    2019-07-02   \n",
       "2       200701BS66127           Serious    2019-08-26   \n",
       "3       200701BS66128           Serious    2019-08-16   \n",
       "4       200701BS66837            Slight    2019-09-03   \n",
       "...               ...               ...           ...   \n",
       "660674  201091NM01760            Slight    2022-02-18   \n",
       "660675  201091NM01881            Slight    2022-02-21   \n",
       "660676  201091NM01935            Slight    2022-02-23   \n",
       "660677  201091NM01964           Serious    2022-02-23   \n",
       "660678  201091NM02142           Serious    2022-02-28   \n",
       "\n",
       "                           Latitude             Light_Conditions  \\\n",
       "0             Darkness - lights lit        Darkness - lights lit   \n",
       "1                          Daylight                     Daylight   \n",
       "2       Darkness - lighting unknown  Darkness - lighting unknown   \n",
       "3                          Daylight                     Daylight   \n",
       "4             Darkness - lights lit        Darkness - lights lit   \n",
       "...                             ...                          ...   \n",
       "660674                     Daylight                     Daylight   \n",
       "660675       Darkness - no lighting       Darkness - no lighting   \n",
       "660676                     Daylight                     Daylight   \n",
       "660677       Darkness - no lighting       Darkness - no lighting   \n",
       "660678                     Daylight                     Daylight   \n",
       "\n",
       "                 District Area                    Longitude  \\\n",
       "0       Kensington and Chelsea        Darkness - lights lit   \n",
       "1       Kensington and Chelsea                     Daylight   \n",
       "2       Kensington and Chelsea  Darkness - lighting unknown   \n",
       "3       Kensington and Chelsea                     Daylight   \n",
       "4       Kensington and Chelsea        Darkness - lights lit   \n",
       "...                        ...                          ...   \n",
       "660674                Highland                     Daylight   \n",
       "660675                Highland       Darkness - no lighting   \n",
       "660676                Highland                     Daylight   \n",
       "660677                Highland       Darkness - no lighting   \n",
       "660678                Highland                     Daylight   \n",
       "\n",
       "        Number_of_Casualties  Number_of_Vehicles Road_Surface_Conditions  \\\n",
       "0                          1                   2                     Dry   \n",
       "1                          1                   2             Wet or damp   \n",
       "2                          1                   3                     Dry   \n",
       "3                          1                   4                     Dry   \n",
       "4                          1                   2                     Dry   \n",
       "...                      ...                 ...                     ...   \n",
       "660674                     2                   1                     Dry   \n",
       "660675                     1                   1            Frost or ice   \n",
       "660676                     1                   3            Frost or ice   \n",
       "660677                     1                   2             Wet or damp   \n",
       "660678                     1                   1             Wet or damp   \n",
       "\n",
       "                 Road_Type Urban_or_Rural_Area          Weather_Conditions  \\\n",
       "0       Single carriageway               Urban          Fine no high winds   \n",
       "1       Single carriageway               Urban       Raining no high winds   \n",
       "2        Unknown Road Type               Urban  Unknown Weather Conditions   \n",
       "3       Single carriageway               Urban          Fine no high winds   \n",
       "4        Unknown Road Type               Urban  Unknown Weather Conditions   \n",
       "...                    ...                 ...                         ...   \n",
       "660674  Single carriageway               Rural          Fine no high winds   \n",
       "660675  Single carriageway               Rural          Fine no high winds   \n",
       "660676  Single carriageway               Rural          Fine no high winds   \n",
       "660677  Single carriageway               Rural          Fine no high winds   \n",
       "660678    Dual carriageway               Rural       Snowing no high winds   \n",
       "\n",
       "                                Vehicle_Type  Year  Month  DayOfWeek  \n",
       "0                                        Car  2019      6          2  \n",
       "1                                        Car  2019      7          1  \n",
       "2                      Taxi/Private hire car  2019      8          0  \n",
       "3       Bus or coach (17 or more pass seats)  2019      8          4  \n",
       "4                              Other vehicle  2019      9          1  \n",
       "...                                      ...   ...    ...        ...  \n",
       "660674                                   Car  2022      2          4  \n",
       "660675                                   Car  2022      2          0  \n",
       "660676                                   Car  2022      2          2  \n",
       "660677                 Motorcycle over 500cc  2022      2          2  \n",
       "660678                                   Car  2022      2          0  \n",
       "\n",
       "[660679 rows x 17 columns]"
      ]
     },
     "execution_count": 11,
     "metadata": {},
     "output_type": "execute_result"
    }
   ],
   "source": [
    "data['Year'] = data['Accident Date'].dt.year\n",
    "data['Month'] = data['Accident Date'].dt.month\n",
    "data['DayOfWeek'] = data['Accident Date'].dt.dayofweek\n",
    "data"
   ]
  },
  {
   "cell_type": "markdown",
   "id": "c673be78-4c4b-448f-a0d0-95c9eb68c7a8",
   "metadata": {},
   "source": [
    "### 1. Common Weather Conditions"
   ]
  },
  {
   "cell_type": "code",
   "execution_count": 12,
   "id": "551bd914-c447-4e06-b778-34c8321303bb",
   "metadata": {},
   "outputs": [
    {
     "data": {
      "text/plain": [
       "'Fine no high winds'"
      ]
     },
     "execution_count": 12,
     "metadata": {},
     "output_type": "execute_result"
    }
   ],
   "source": [
    "data['Weather_Conditions'].mode()[0]"
   ]
  },
  {
   "cell_type": "markdown",
   "id": "ef21e646-fcdd-4aab-9f01-38743b074cbb",
   "metadata": {},
   "source": [
    "### 2. Common Vehicle"
   ]
  },
  {
   "cell_type": "code",
   "execution_count": 13,
   "id": "ee41e757-1dec-480d-8394-50403da13411",
   "metadata": {},
   "outputs": [
    {
     "data": {
      "text/plain": [
       "'Car'"
      ]
     },
     "execution_count": 13,
     "metadata": {},
     "output_type": "execute_result"
    }
   ],
   "source": [
    "data['Vehicle_Type'].mode()[0]"
   ]
  },
  {
   "cell_type": "markdown",
   "id": "6e4d6aca-1821-47d0-8161-57ba3ecc2d69",
   "metadata": {},
   "source": [
    "### 3. Common Location\n",
    "#### Rural or Urban"
   ]
  },
  {
   "cell_type": "code",
   "execution_count": 14,
   "id": "4de15e95-69a8-4855-801f-05bda8600d8a",
   "metadata": {},
   "outputs": [
    {
     "data": {
      "text/plain": [
       "'Urban'"
      ]
     },
     "execution_count": 14,
     "metadata": {},
     "output_type": "execute_result"
    }
   ],
   "source": [
    "data['Urban_or_Rural_Area'].mode()[0]"
   ]
  },
  {
   "cell_type": "markdown",
   "id": "d91bb36e-a551-4007-8700-62cea6812258",
   "metadata": {},
   "source": [
    "### 4. Most accident date"
   ]
  },
  {
   "cell_type": "code",
   "execution_count": 15,
   "id": "a2ea2cc5-0e88-44ab-a539-6a8df7bf520a",
   "metadata": {},
   "outputs": [
    {
     "data": {
      "text/plain": [
       "Timestamp('2019-11-30 00:00:00')"
      ]
     },
     "execution_count": 15,
     "metadata": {},
     "output_type": "execute_result"
    }
   ],
   "source": [
    "accident_date = data['Accident Date'].mode()[0]\n",
    "accident_date"
   ]
  },
  {
   "cell_type": "markdown",
   "id": "43ca08c2-306d-4759-a666-0dfc33395d8a",
   "metadata": {},
   "source": [
    "### 5. Number of accidents result from #4"
   ]
  },
  {
   "cell_type": "code",
   "execution_count": 16,
   "id": "ebed8118-1855-477d-ac31-9668ae08650e",
   "metadata": {},
   "outputs": [
    {
     "data": {
      "text/plain": [
       "np.int64(704)"
      ]
     },
     "execution_count": 16,
     "metadata": {},
     "output_type": "execute_result"
    }
   ],
   "source": [
    "### Using the earlier data, where it gives the data how many are the accidents recorded with this date\n",
    "data[data['Accident Date'] == accident_date].count()['Index']"
   ]
  },
  {
   "cell_type": "markdown",
   "id": "24d3b778-a37d-4f81-82e2-6f0ee1075b50",
   "metadata": {},
   "source": [
    "### 6. Common District Area Involve"
   ]
  },
  {
   "cell_type": "code",
   "execution_count": 17,
   "id": "368cd39a-97d3-48cc-8ab2-87905671355f",
   "metadata": {},
   "outputs": [
    {
     "data": {
      "text/plain": [
       "'Birmingham'"
      ]
     },
     "execution_count": 17,
     "metadata": {},
     "output_type": "execute_result"
    }
   ],
   "source": [
    "district_data = data['District Area'].mode()[0]\n",
    "district_data"
   ]
  },
  {
   "cell_type": "markdown",
   "id": "472cfb7f-98e8-4ae4-b866-bdd4a4859786",
   "metadata": {},
   "source": [
    "### 7. Common weather where the accidents in Common District Area Involve"
   ]
  },
  {
   "cell_type": "code",
   "execution_count": 18,
   "id": "87b977e1-bcb2-411f-a804-eafa49c2bff4",
   "metadata": {},
   "outputs": [
    {
     "data": {
      "text/plain": [
       "'Fine no high winds'"
      ]
     },
     "execution_count": 18,
     "metadata": {},
     "output_type": "execute_result"
    }
   ],
   "source": [
    "weather_x_district = data[data['District Area'] == district_data]['Weather_Conditions'].mode()[0]\n",
    "weather_x_district"
   ]
  },
  {
   "cell_type": "markdown",
   "id": "a18dc285-5fb1-425b-9671-87af769cabbc",
   "metadata": {},
   "source": [
    "### 8."
   ]
  },
  {
   "cell_type": "code",
   "execution_count": 19,
   "id": "80955349-1d84-48e7-a56b-b3befc7f83c4",
   "metadata": {},
   "outputs": [
    {
     "data": {
      "text/plain": [
       "'Car'"
      ]
     },
     "execution_count": 19,
     "metadata": {},
     "output_type": "execute_result"
    }
   ],
   "source": [
    "vehicles_x_weather_x_district = data[(data['District Area'] == district_data) & (data['Weather_Conditions'] == weather_x_district)]\n",
    "vehicles_x_weather_x_district['Vehicle_Type'].mode()[0]"
   ]
  },
  {
   "cell_type": "markdown",
   "id": "d3cf5810-13ab-408b-b9ca-7e959db16118",
   "metadata": {},
   "source": [
    "### 7. Average Accident rate in Urban and Rural Area"
   ]
  },
  {
   "cell_type": "code",
   "execution_count": 20,
   "id": "73a3ef9c-3d74-4926-8499-976db850e45e",
   "metadata": {},
   "outputs": [
    {
     "data": {
      "text/plain": [
       "Index                      238990\n",
       "Accident_Severity          238990\n",
       "Accident Date              238990\n",
       "Latitude                   238990\n",
       "Light_Conditions           238990\n",
       "District Area              238990\n",
       "Longitude                  238990\n",
       "Number_of_Casualties       238990\n",
       "Number_of_Vehicles         238990\n",
       "Road_Surface_Conditions    238990\n",
       "Road_Type                  238990\n",
       "Urban_or_Rural_Area        238990\n",
       "Weather_Conditions         238990\n",
       "Vehicle_Type               238990\n",
       "Year                       238990\n",
       "Month                      238990\n",
       "DayOfWeek                  238990\n",
       "dtype: int64"
      ]
     },
     "execution_count": 20,
     "metadata": {},
     "output_type": "execute_result"
    }
   ],
   "source": [
    "data[data['Urban_or_Rural_Area'] == 'Rural'].count()\n"
   ]
  },
  {
   "cell_type": "code",
   "execution_count": null,
   "id": "b7c7013f-aa4f-4de5-9464-a4d671e2d748",
   "metadata": {},
   "outputs": [],
   "source": [
    "\n"
   ]
  }
 ],
 "metadata": {
  "kernelspec": {
   "display_name": "Python 3 (ipykernel)",
   "language": "python",
   "name": "python3"
  },
  "language_info": {
   "codemirror_mode": {
    "name": "ipython",
    "version": 3
   },
   "file_extension": ".py",
   "mimetype": "text/x-python",
   "name": "python",
   "nbconvert_exporter": "python",
   "pygments_lexer": "ipython3",
   "version": "3.12.7"
  }
 },
 "nbformat": 4,
 "nbformat_minor": 5
}
